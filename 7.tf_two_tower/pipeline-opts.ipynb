{
 "cells": [
  {
   "cell_type": "markdown",
   "id": "6da23e42",
   "metadata": {},
   "source": [
    "# Pipeline Optimization\n",
    "\n",
    "Good resource on the how-to [here](https://www.tensorflow.org/guide/data_performance)"
   ]
  },
  {
   "cell_type": "code",
   "execution_count": 37,
   "id": "ea3b3d4d",
   "metadata": {},
   "outputs": [
    {
     "name": "stdout",
     "output_type": "stream",
     "text": [
      "['gs://tfrs-central-a/file_00-12227.tfrec', 'gs://tfrs-central-a/file_01-12228.tfrec']\n"
     ]
    }
   ],
   "source": [
    "from google.cloud import storage\n",
    "\n",
    "client = storage.Client()\n",
    "files = []\n",
    "for blob in client.list_blobs('tfrs-central-a'):\n",
    "    files.append(blob.public_url.replace(\"https://storage.googleapis.com/\", \"gs://\"))\n",
    "    \n",
    "print(files[:2])"
   ]
  },
  {
   "cell_type": "code",
   "execution_count": 38,
   "id": "1562b595",
   "metadata": {},
   "outputs": [],
   "source": [
    "import json\n",
    "import tensorflow as tf\n",
    "import tensorflow_recommenders as tfrs\n",
    "\n",
    "\n",
    "def parse_tfrecord_fn(example):\n",
    "    feature_description = {\n",
    "         #query features\n",
    "        \"query\": tf.io.FixedLenFeature([1], tf.string),\n",
    "        \"last_viewed\": tf.io.FixedLenFeature([1], tf.string),\n",
    "\n",
    "        #candidate features\n",
    "        \"IVM_s\": tf.io.FixedLenFeature([1], tf.string),\n",
    "        \"description\": tf.io.FixedLenFeature([1], tf.string),\n",
    "        \"price_td\": tf.io.FixedLenFeature([1], tf.float32),\n",
    "        \"PriceRange_s\": tf.io.FixedLenFeature([1],  tf.string),\n",
    "        \"productTypeCombo_ss\": tf.io.FixedLenFeature([1], tf.string),\n",
    "        \"visual\": tf.io.FixedLenFeature([2048,], tf.float32),\n",
    "        \"month\": tf.io.FixedLenFeature([1], tf.string),\n",
    "        \"hour\": tf.io.FixedLenFeature([1], tf.string)\n",
    "    }\n",
    "    example = tf.io.parse_single_example(example, feature_description)\n",
    "    return example\n",
    "\n",
    "\n",
    "EMBEDDING_DIM = 32\n",
    "MAX_TOKENS = 1_000_000\n",
    "\n",
    "\n",
    "TF_RECORDS_DIR = 'gs://tfrs-tf-records'\n",
    "\n"
   ]
  },
  {
   "cell_type": "code",
   "execution_count": 39,
   "id": "348ed998",
   "metadata": {},
   "outputs": [],
   "source": [
    "import time\n",
    "\n",
    "# Set dev dataset CHANGE THIS LATER TO THE WHOLE DIR\n",
    "raw_dataset = tf.data.TFRecordDataset(files[:5], num_parallel_reads=tf.data.AUTOTUNE).prefetch(tf.data.AUTOTUNE)\n",
    "\n",
    "    \n",
    "parsed_dataset = raw_dataset.map(parse_tfrecord_fn, num_parallel_calls=tf.data.AUTOTUNE)"
   ]
  },
  {
   "cell_type": "code",
   "execution_count": 40,
   "id": "1cde9b34",
   "metadata": {},
   "outputs": [],
   "source": [
    "def benchmark(dataset, num_epochs=2):\n",
    "    start_time = time.perf_counter()\n",
    "    for epoch_num in range(num_epochs):\n",
    "        for sample in dataset:\n",
    "            # Performing a training step\n",
    "            time.sleep(0.0001)\n",
    "    print(\"Execution time:\", time.perf_counter() - start_time)"
   ]
  },
  {
   "cell_type": "code",
   "execution_count": 41,
   "id": "c5ce9365",
   "metadata": {},
   "outputs": [
    {
     "name": "stdout",
     "output_type": "stream",
     "text": [
      "Execution time: 52.31239370099502\n"
     ]
    }
   ],
   "source": [
    "# Benchmarking first 5 files\n",
    "\n",
    "benchmark(raw_dataset.map(parse_tfrecord_fn)\n",
    "         )"
   ]
  },
  {
   "cell_type": "code",
   "execution_count": 42,
   "id": "7e9f1ab1",
   "metadata": {},
   "outputs": [
    {
     "name": "stdout",
     "output_type": "stream",
     "text": [
      "Execution time: 51.46366432099603\n"
     ]
    }
   ],
   "source": [
    "# Parallel calls\n",
    "\n",
    "benchmark(\n",
    "    raw_dataset\n",
    "    .map(\n",
    "        parse_tfrecord_fn,\n",
    "        num_parallel_calls=tf.data.AUTOTUNE\n",
    "    )\n",
    ")"
   ]
  },
  {
   "cell_type": "code",
   "execution_count": 43,
   "id": "2d43772b",
   "metadata": {},
   "outputs": [
    {
     "name": "stdout",
     "output_type": "stream",
     "text": [
      "Execution time: 101.31243298499612\n"
     ]
    }
   ],
   "source": [
    "# Caching\n",
    "benchmark(\n",
    "    raw_dataset\n",
    "    .map(  # Apply time consuming operations before cache\n",
    "        parse_tfrecord_fn\n",
    "    ).cache(\n",
    "    ),\n",
    "    5\n",
    ")"
   ]
  },
  {
   "cell_type": "code",
   "execution_count": 44,
   "id": "6587faa8",
   "metadata": {},
   "outputs": [
    {
     "name": "stdout",
     "output_type": "stream",
     "text": [
      "Execution time: 102.04474002699135\n"
     ]
    }
   ],
   "source": [
    "#interleaving\n",
    "\n",
    "benchmark(\n",
    "    tf.data.Dataset.range(2)\n",
    "    .interleave(\n",
    "        lambda _: parsed_dataset,\n",
    "        num_parallel_calls=tf.data.AUTOTUNE\n",
    "    )\n",
    ")"
   ]
  },
  {
   "cell_type": "code",
   "execution_count": 45,
   "id": "d38038b8",
   "metadata": {},
   "outputs": [
    {
     "name": "stdout",
     "output_type": "stream",
     "text": [
      "Execution time: 52.13856463498087\n"
     ]
    }
   ],
   "source": [
    "# Parallel calls w prefetching\n",
    "\n",
    "benchmark(\n",
    "    raw_dataset\n",
    "    .map(\n",
    "        parse_tfrecord_fn,\n",
    "        num_parallel_calls=tf.data.AUTOTUNE\n",
    "    )\n",
    "    .prefetch(  # Overlap producer and consumer works\n",
    "        tf.data.AUTOTUNE\n",
    "    )\n",
    ")"
   ]
  },
  {
   "cell_type": "code",
   "execution_count": 46,
   "id": "d306b093",
   "metadata": {},
   "outputs": [
    {
     "data": {
      "text/plain": [
       "'/opt/conda/bin/python'"
      ]
     },
     "execution_count": 46,
     "metadata": {},
     "output_type": "execute_result"
    }
   ],
   "source": [
    "import sys\n",
    "sys.executable"
   ]
  },
  {
   "cell_type": "code",
   "execution_count": null,
   "id": "1798783a",
   "metadata": {},
   "outputs": [],
   "source": []
  }
 ],
 "metadata": {
  "environment": {
   "name": "tf2-gpu.2-5.m76",
   "type": "gcloud",
   "uri": "gcr.io/deeplearning-platform-release/tf2-gpu.2-5:m76"
  },
  "kernelspec": {
   "display_name": "Python [conda env:root] *",
   "language": "python",
   "name": "conda-root-py"
  },
  "language_info": {
   "codemirror_mode": {
    "name": "ipython",
    "version": 3
   },
   "file_extension": ".py",
   "mimetype": "text/x-python",
   "name": "python",
   "nbconvert_exporter": "python",
   "pygments_lexer": "ipython3",
   "version": "3.7.10"
  }
 },
 "nbformat": 4,
 "nbformat_minor": 5
}
