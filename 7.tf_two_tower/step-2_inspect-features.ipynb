{
 "cells": [
  {
   "cell_type": "markdown",
   "id": "7ee122f5",
   "metadata": {},
   "source": [
    "# Parse function for data\n",
    "\n",
    "#### Use this for adding additional features\n",
    "#### Other feilds are commented out to add easily later"
   ]
  },
  {
   "cell_type": "code",
   "execution_count": 9,
   "id": "9efab7c6",
   "metadata": {},
   "outputs": [],
   "source": [
    "import tensorflow as tf\n",
    "\n",
    "\n",
    "def parse_tfrecord_fn(example):\n",
    "    feature_description = {\n",
    "         #query features\n",
    "        \"query\": tf.io.FixedLenFeature([1], tf.string),\n",
    "#         \"search_date_time\": tf.io.FixedLenFeature([1], tf.string),\n",
    "        \"last_viewed\": tf.io.FixedLenFeature([1], tf.string),\n",
    "\n",
    "        #candidate features\n",
    "        \"IVM_s\": tf.io.FixedLenFeature([1], tf.string),\n",
    "        \"description\": tf.io.FixedLenFeature([1], tf.string),\n",
    "#         \"total_ratings_i\": tf.io.FixedLenFeature([1], tf.float32),\n",
    "#         \"overall_ratings\": tf.io.FixedLenFeature([1], tf.float32),\n",
    "#         \"avg_rating_td\": tf.io.FixedLenFeature([], tf.float32),\n",
    "#         \"parent_description\": tf.io.FixedLenFeature([], tf.string),\n",
    "#         \"item_type\": tf.io.FixedLenFeature([], tf.string), #changed from int for cat - had to fix source data\n",
    "#         \"prc_rdc_amt\": tf.io.FixedLenFeature([], tf.float32),\n",
    "#         \"prc_rdc_pct\": tf.io.FixedLenFeature([], tf.float32),\n",
    "#         \"quantity_sold\": tf.io.FixedLenFeature([], tf.float32),\n",
    "#         \"sales_dollar_f\": tf.io.FixedLenFeature([], tf.float32),\n",
    "#         \"freight_term\": tf.io.FixedLenFeature([], tf.string),\n",
    "#         \"is_energy_star_s\": tf.io.FixedLenFeature([], tf.string),\n",
    "        \"price_td\": tf.io.FixedLenFeature([1], tf.float32),\n",
    "        \"PriceRange_s\": tf.io.FixedLenFeature([],  tf.string),\n",
    "#         \"spellcheck\": tf.io.FixedLenFeature([], tf.string),\n",
    "        \"productTypeCombo_ss\": tf.io.FixedLenFeature([1], tf.string),\n",
    "#         \"Searchable_t\": tf.io.FixedLenFeature([], tf.string),\n",
    "#         \"clean_Brand_s\": tf.io.FixedLenFeature([], tf.string),\n",
    "        \"visual\": tf.io.FixedLenFeature([2048,], tf.float32),\n",
    "#         \"Brand_s\": tf.io.FixedLenFeature([],  tf.string),\n",
    "        \"month\": tf.io.FixedLenFeature([1], tf.string),\n",
    "        \"hour\": tf.io.FixedLenFeature([1], tf.string)\n",
    "    }\n",
    "    example = tf.io.parse_single_example(example, feature_description)\n",
    "    return example\n"
   ]
  },
  {
   "cell_type": "markdown",
   "id": "400956f3",
   "metadata": {},
   "source": [
    "\n",
    "\n",
    "\n"
   ]
  },
  {
   "cell_type": "markdown",
   "id": "28c1d265",
   "metadata": {},
   "source": [
    "# Non-batch look at first few records\n",
    "### Use to QA and develop additional models/layers"
   ]
  },
  {
   "cell_type": "code",
   "execution_count": 10,
   "id": "010da6f0",
   "metadata": {},
   "outputs": [
    {
     "name": "stdout",
     "output_type": "stream",
     "text": [
      "IVM_s: [b'812742-45306-CGS-5020']\n",
      "PriceRange_s: b'000_$0 - $49'\n",
      "description: [b'2 Stainless Steel Tool Set']\n",
      "hour: [b'13']\n",
      "last_viewed: [b'  END']\n",
      "month: [b'05']\n",
      "price_td: [0.00161312]\n",
      "productTypeCombo_ss: [b'|utensils|set|tool set|steel tool set|stainless steel tool set']\n",
      "query: [b'grill utensils']\n",
      "visual: [0.8244816 1.0345268 0.5076083 ... 0.9864708 0.8123874 0.8256217]\n",
      "_______________\n",
      "IVM_s: [b'1296914-97598-CBC2043L']\n",
      "PriceRange_s: b'001_$50 - $99'\n",
      "description: [b'Stand Up Charcoal Grill 22.17-in Black/Porcelain Kettle Charcoal Grill']\n",
      "hour: [b'11']\n",
      "last_viewed: [b'  END']\n",
      "month: [b'07']\n",
      "price_td: [0.00212695]\n",
      "productTypeCombo_ss: [b'|grills|charcoal grills|grill|charcoal grill|kettle charcoal grill|black/porcelain kettle charcoal grill']\n",
      "query: [b'charcoal grills']\n",
      "visual: [0.5527317  0.5305685  1.4870973  ... 0.42491683 0.5149455  1.0397443 ]\n",
      "_______________\n",
      "IVM_s: [b'1608326-371-93121711']\n",
      "PriceRange_s: b'000_$0 - $49'\n",
      "description: [b'Ultra Bright LED 5-in or 6-in 150-Watt Equivalent White Round Dimmable Recessed Downlight']\n",
      "hour: [b'20']\n",
      "last_viewed: [b' 1500755-371-93121158 1500779-337-LT560WH6930R-6PK END']\n",
      "month: [b'05']\n",
      "price_td: [0.00070851]\n",
      "productTypeCombo_ss: [b'|downlights|recessed downlights|downlight|recessed downlight|dimmable recessed downlight|round dimmable recessed downlight']\n",
      "query: [b'led can lights']\n",
      "visual: [0.2675106  0.46493074 0.00806684 ... 0.30396184 0.4003094  1.058086  ]\n",
      "_______________\n",
      "IVM_s: [b'396418-16878-62583']\n",
      "PriceRange_s: b'000_$0 - $49'\n",
      "description: [b\"Kid's Beginner Project Kit\"]\n",
      "hour: [b'13']\n",
      "last_viewed: [b'  END']\n",
      "month: [b'05']\n",
      "price_td: [0.0003539]\n",
      "productTypeCombo_ss: [b\"|kits|project kits|kids project kits|kit|project kit|beginner project kit|kid's beginner project kit\"]\n",
      "query: [b'build and grow kit']\n",
      "visual: [0.18581685 1.8689609  1.0522331  ... 0.00867908 1.4879549  0.76182353]\n",
      "_______________\n",
      "IVM_s: [b'28866-143-K835-33']\n",
      "PriceRange_s: b'000_$0 - $49'\n",
      "description: [b'Actuating Lift Chain']\n",
      "hour: [b'10']\n",
      "last_viewed: [b'  END']\n",
      "month: [b'05']\n",
      "price_td: [9.50355e-05]\n",
      "productTypeCombo_ss: [b'|parts|repair parts|chain|lift chain|actuating lift chain']\n",
      "query: [b'toilet chain repair kit']\n",
      "visual: [0.8880411  1.572074   0.42813677 ... 0.8162145  0.55908424 1.6615522 ]\n",
      "_______________\n"
     ]
    }
   ],
   "source": [
    "TF_RECORDS_DIR = 'gs://tfrs-tf-records'\n",
    "\n",
    "num_samples = 128\n",
    "raw_dataset = tf.data.TFRecordDataset(\"gs://tfrs-tf-records/file_00-12227.tfrec\")\n",
    "\n",
    "# raw_dataset = tf.data.TFRecordDataset(\"gs://tfrecords-reco-spark/df-d9685bca-4d7a-4b57-97f5-8d02996fa33b.tfrecord/part-00000\")\n",
    "parsed_dataset = raw_dataset.map(parse_tfrecord_fn, num_parallel_calls=-1)\n",
    "\n",
    "for features in parsed_dataset.take(5):\n",
    "    for key in features.keys():\n",
    "        if key == key:\n",
    "            print(f\"{key}: {features[key]}\")\n",
    "    print(\"_______________\")"
   ]
  }
 ],
 "metadata": {
  "environment": {
   "name": "tf2-gpu.2-5.m76",
   "type": "gcloud",
   "uri": "gcr.io/deeplearning-platform-release/tf2-gpu.2-5:m76"
  },
  "kernelspec": {
   "display_name": "Python 3",
   "language": "python",
   "name": "python3"
  },
  "language_info": {
   "codemirror_mode": {
    "name": "ipython",
    "version": 3
   },
   "file_extension": ".py",
   "mimetype": "text/x-python",
   "name": "python",
   "nbconvert_exporter": "python",
   "pygments_lexer": "ipython3",
   "version": "3.7.10"
  }
 },
 "nbformat": 4,
 "nbformat_minor": 5
}
