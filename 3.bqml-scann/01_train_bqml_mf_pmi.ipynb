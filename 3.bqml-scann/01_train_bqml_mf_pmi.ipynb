{
 "cells": [
  {
   "cell_type": "markdown",
   "metadata": {
    "id": "wlOPkKEQsVhe"
   },
   "source": [
    "# Part 1: Learn item embeddings based on product co-occurrence\n",
    "\n",
    "This notebook is the first of five notebooks that guide you through running the [Real-time Item-to-item Recommendation with BigQuery ML Matrix Factorization and ScaNN](https://github.com/GoogleCloudPlatform/analytics-componentized-patterns/tree/master/retail/recommendation-system/bqml-scann) solution.\n",
    "\n",
    "Use this notebook to complete the following tasks:\n",
    "\n",
    "1. Explore the sample product data.\n",
    "2. Compute [Pointwise mutual information (PMI)](https://en.wikipedia.org/wiki/Pointwise_mutual_information) that represents the co-occurence of products on playlists. \n",
    "3. Train a [matrix factorization](https://en.wikipedia.org/wiki/Matrix_factorization_(recommender_systems)) model using BigQuery ML to learn item embeddings based on the PMI data.\n",
    "4. Explore the learned embeddings.\n",
    "\n",
    "Before starting this notebook, you must run the [00_prep_bq_procedures](00_prep_bq_procedures.ipynb) notebook to complete the solution prerequisites.\n",
    "\n",
    "After completing this notebook, run the [02_export_bqml_mf_embeddings](02_export_bqml_mf_embeddings.ipynb) notebook to process the item embedding data.\n"
   ]
  },
  {
   "cell_type": "markdown",
   "metadata": {
    "id": "yLOYZMkfsW58"
   },
   "source": [
    "## Setup\n",
    "\n",
    "Import the required libraries, configure the environment variables, and authenticate your GCP account."
   ]
  },
  {
   "cell_type": "markdown",
   "metadata": {
    "id": "7zFymQUxs_kC"
   },
   "source": [
    "### Import libraries"
   ]
  },
  {
   "cell_type": "code",
   "execution_count": 1,
   "metadata": {
    "id": "LGGgQSQQs_sp"
   },
   "outputs": [],
   "source": [
    "from google.cloud import bigquery\n",
    "from datetime import datetime\n",
    "import matplotlib.pyplot as plt, seaborn as sns"
   ]
  },
  {
   "cell_type": "markdown",
   "metadata": {
    "id": "aVulMWXysc8m"
   },
   "source": [
    "### Configure GCP environment settings\n",
    "\n",
    "Update the `PROJECT_ID` variable to reflect the ID of the Google Cloud project you are using to implement this solution."
   ]
  },
  {
   "cell_type": "code",
   "execution_count": 3,
   "metadata": {
    "id": "1_3BTCjAsdHm"
   },
   "outputs": [
    {
     "name": "stdout",
     "output_type": "stream",
     "text": [
      "Updated property [core/project].\n"
     ]
    }
   ],
   "source": [
    "PROJECT_ID = 'USER-SET' # Change to your project.\n",
    "\n",
    "!gcloud config set project $PROJECT_ID"
   ]
  },
  {
   "cell_type": "markdown",
   "metadata": {
    "id": "FoVPZUFxsdOm"
   },
   "source": [
    "### Authenticate your GCP account\n",
    "This is required if you run the notebook in Colab. If you use an AI Platform notebook, you should already be authenticated."
   ]
  },
  {
   "cell_type": "code",
   "execution_count": 3,
   "metadata": {
    "id": "drQzoF07sdiN"
   },
   "outputs": [],
   "source": [
    "try:\n",
    "    from google.colab import auth\n",
    "    auth.authenticate_user()\n",
    "    print(\"Colab user is authenticated.\")\n",
    "except: pass"
   ]
  },
  {
   "cell_type": "markdown",
   "metadata": {
    "id": "AeehVjyYbMak"
   },
   "source": [
    "## Explore the sample data\n",
    "\n",
    "Use visualizations to explore the data in the `vw_item_groups` view that you created in the `00_prep_bq_and_datastore.ipynb` notebook.\n",
    "\n",
    "Import libraries for data visualization:"
   ]
  },
  {
   "cell_type": "code",
   "execution_count": 4,
   "metadata": {
    "id": "hQr0UVFMBylx"
   },
   "outputs": [],
   "source": [
    "import matplotlib.pyplot as plt, seaborn as sns"
   ]
  },
  {
   "cell_type": "markdown",
   "metadata": {
    "id": "Tk3c9PybBylx"
   },
   "source": [
    "Count the number of products that occur in at least 15 groups:"
   ]
  },
  {
   "cell_type": "code",
   "execution_count": 5,
   "metadata": {
    "id": "yBdEEFf0-Qy7"
   },
   "outputs": [
    {
     "name": "stderr",
     "output_type": "stream",
     "text": [
      "Query complete after 0.00s: 100%|██████████| 1/1 [00:00<00:00, 1036.91query/s]\n",
      "Downloading: 100%|██████████| 1/1 [00:01<00:00,  1.34s/rows]\n"
     ]
    },
    {
     "data": {
      "text/html": [
       "<div>\n",
       "<style scoped>\n",
       "    .dataframe tbody tr th:only-of-type {\n",
       "        vertical-align: middle;\n",
       "    }\n",
       "\n",
       "    .dataframe tbody tr th {\n",
       "        vertical-align: top;\n",
       "    }\n",
       "\n",
       "    .dataframe thead th {\n",
       "        text-align: right;\n",
       "    }\n",
       "</style>\n",
       "<table border=\"1\" class=\"dataframe\">\n",
       "  <thead>\n",
       "    <tr style=\"text-align: right;\">\n",
       "      <th></th>\n",
       "      <th>item_count</th>\n",
       "    </tr>\n",
       "  </thead>\n",
       "  <tbody>\n",
       "    <tr>\n",
       "      <th>0</th>\n",
       "      <td>4215</td>\n",
       "    </tr>\n",
       "  </tbody>\n",
       "</table>\n",
       "</div>"
      ],
      "text/plain": [
       "   item_count\n",
       "0        4215"
      ]
     },
     "execution_count": 5,
     "metadata": {},
     "output_type": "execute_result"
    }
   ],
   "source": [
    "%%bigquery  --project $PROJECT_ID\n",
    "\n",
    "CREATE OR REPLACE TABLE css_retail.valid_items\n",
    "AS\n",
    "SELECT \n",
    "  item_Id, \n",
    "  COUNT(group_Id) AS item_frequency\n",
    "FROM `css_retail.vw_item_groups`\n",
    "GROUP BY item_Id\n",
    "HAVING item_frequency >= 10;\n",
    "\n",
    "SELECT COUNT(*) item_count FROM css_retail.valid_items;"
   ]
  },
  {
   "cell_type": "markdown",
   "metadata": {
    "id": "3Vcv-jqfByly"
   },
   "source": [
    "Count the number of playlists that have between 2 and 100 items:"
   ]
  },
  {
   "cell_type": "code",
   "execution_count": 11,
   "metadata": {
    "id": "NePi9cOjEAaA"
   },
   "outputs": [
    {
     "name": "stderr",
     "output_type": "stream",
     "text": [
      "Query complete after 0.00s: 100%|██████████| 1/1 [00:00<00:00, 203.04query/s] \n",
      "Downloading: 100%|██████████| 1/1 [00:00<00:00,  1.09rows/s]\n"
     ]
    },
    {
     "data": {
      "text/html": [
       "<div>\n",
       "<style scoped>\n",
       "    .dataframe tbody tr th:only-of-type {\n",
       "        vertical-align: middle;\n",
       "    }\n",
       "\n",
       "    .dataframe tbody tr th {\n",
       "        vertical-align: top;\n",
       "    }\n",
       "\n",
       "    .dataframe thead th {\n",
       "        text-align: right;\n",
       "    }\n",
       "</style>\n",
       "<table border=\"1\" class=\"dataframe\">\n",
       "  <thead>\n",
       "    <tr style=\"text-align: right;\">\n",
       "      <th></th>\n",
       "      <th>group_count</th>\n",
       "    </tr>\n",
       "  </thead>\n",
       "  <tbody>\n",
       "    <tr>\n",
       "      <th>0</th>\n",
       "      <td>56506</td>\n",
       "    </tr>\n",
       "  </tbody>\n",
       "</table>\n",
       "</div>"
      ],
      "text/plain": [
       "   group_count\n",
       "0        56506"
      ]
     },
     "execution_count": 11,
     "metadata": {},
     "output_type": "execute_result"
    }
   ],
   "source": [
    "%%bigquery  --project $PROJECT_ID\n",
    "\n",
    "CREATE OR REPLACE TABLE css_retail.valid_groups\n",
    "AS\n",
    "SELECT \n",
    "  group_Id, \n",
    "  COUNT(item_Id) AS group_size\n",
    "FROM css_retail.vw_item_groups\n",
    "WHERE item_Id IN (SELECT item_Id FROM css_retail.valid_items)\n",
    "GROUP BY group_Id\n",
    "HAVING group_size BETWEEN 2 AND 100;\n",
    "\n",
    "SELECT COUNT(*) group_count FROM css_retail.valid_groups;"
   ]
  },
  {
   "cell_type": "markdown",
   "metadata": {
    "id": "Uy38zSdyBylz"
   },
   "source": [
    "Count the number of records with valid products and playlists:"
   ]
  },
  {
   "cell_type": "code",
   "execution_count": 13,
   "metadata": {
    "id": "xyuWCHvnYnqI"
   },
   "outputs": [
    {
     "name": "stderr",
     "output_type": "stream",
     "text": [
      "Query complete after 0.00s: 100%|██████████| 4/4 [00:00<00:00, 2254.09query/s]                        \n",
      "Downloading: 100%|██████████| 1/1 [00:00<00:00,  1.03rows/s]\n"
     ]
    },
    {
     "data": {
      "text/html": [
       "<div>\n",
       "<style scoped>\n",
       "    .dataframe tbody tr th:only-of-type {\n",
       "        vertical-align: middle;\n",
       "    }\n",
       "\n",
       "    .dataframe tbody tr th {\n",
       "        vertical-align: top;\n",
       "    }\n",
       "\n",
       "    .dataframe thead th {\n",
       "        text-align: right;\n",
       "    }\n",
       "</style>\n",
       "<table border=\"1\" class=\"dataframe\">\n",
       "  <thead>\n",
       "    <tr style=\"text-align: right;\">\n",
       "      <th></th>\n",
       "      <th>record_count</th>\n",
       "    </tr>\n",
       "  </thead>\n",
       "  <tbody>\n",
       "    <tr>\n",
       "      <th>0</th>\n",
       "      <td>257392</td>\n",
       "    </tr>\n",
       "  </tbody>\n",
       "</table>\n",
       "</div>"
      ],
      "text/plain": [
       "   record_count\n",
       "0        257392"
      ]
     },
     "execution_count": 13,
     "metadata": {},
     "output_type": "execute_result"
    }
   ],
   "source": [
    "%%bigquery  --project $PROJECT_ID\n",
    "\n",
    "SELECT COUNT(*) record_count\n",
    "FROM `css_retail.vw_item_groups`\n",
    "WHERE item_Id IN (SELECT item_Id FROM css_retail.valid_items)\n",
    "AND group_Id IN (SELECT group_Id FROM css_retail.valid_groups);"
   ]
  },
  {
   "cell_type": "markdown",
   "metadata": {
    "id": "HcpeCnSfByl0"
   },
   "source": [
    "Show the playlist size distribution:"
   ]
  },
  {
   "cell_type": "code",
   "execution_count": 14,
   "metadata": {
    "id": "T3Vzdt0gctkq"
   },
   "outputs": [
    {
     "name": "stderr",
     "output_type": "stream",
     "text": [
      "Query complete after 0.00s: 100%|██████████| 6/6 [00:00<00:00, 2659.11query/s]                        \n",
      "Downloading: 100%|██████████| 4/4 [00:01<00:00,  3.97rows/s]\n"
     ]
    }
   ],
   "source": [
    "%%bigquery size_distribution --project $PROJECT_ID\n",
    "\n",
    "WITH group_sizes\n",
    "AS\n",
    "(\n",
    "  SELECT \n",
    "    group_Id, \n",
    "    ML.BUCKETIZE(\n",
    "      COUNT(item_Id), [10, 20, 30, 40, 50, 101])\n",
    "     AS group_size\n",
    "  FROM `css_retail.vw_item_groups`\n",
    "  WHERE item_Id IN (SELECT item_Id FROM css_retail.valid_items)\n",
    "  AND group_Id IN (SELECT group_Id FROM css_retail.valid_groups)\n",
    "  GROUP BY group_Id\n",
    ")\n",
    "\n",
    "SELECT \n",
    "  CASE \n",
    "    WHEN group_size = 'bin_1' THEN '[1 - 10]'\n",
    "    WHEN group_size = 'bin_2' THEN '[10 - 20]'\n",
    "    WHEN group_size = 'bin_3' THEN '[20 - 30]'\n",
    "    WHEN group_size = 'bin_4' THEN '[30 - 40]'\n",
    "    WHEN group_size = 'bin_5' THEN '[40 - 50]'\n",
    "    ELSE '[50 - 100]'\n",
    "  END AS group_size,\n",
    "  CASE \n",
    "    WHEN group_size = 'bin_1' THEN 1\n",
    "    WHEN group_size = 'bin_2' THEN 2\n",
    "    WHEN group_size = 'bin_3' THEN 3\n",
    "    WHEN group_size = 'bin_4' THEN 4\n",
    "    WHEN group_size = 'bin_5' THEN 5\n",
    "    ELSE 6\n",
    "  END AS bucket_Id,\n",
    "  COUNT(group_Id) group_count\n",
    "FROM group_sizes\n",
    "GROUP BY group_size, bucket_Id\n",
    "ORDER BY bucket_Id "
   ]
  },
  {
   "cell_type": "code",
   "execution_count": 15,
   "metadata": {
    "id": "diSmT8oMduma"
   },
   "outputs": [
    {
     "data": {
      "image/png": "[encoded data removed]",
      "text/plain": [
       "<Figure size 1440x360 with 1 Axes>"
      ]
     },
     "metadata": {
      "needs_background": "light"
     },
     "output_type": "display_data"
    }
   ],
   "source": [
    "plt.figure(figsize=(20,5))\n",
    "q = sns.barplot(x='group_size', y='group_count', data=size_distribution)"
   ]
  },
  {
   "cell_type": "markdown",
   "metadata": {
    "id": "P3gparz9Byl2"
   },
   "source": [
    "Show the product occurrence distribution:"
   ]
  },
  {
   "cell_type": "code",
   "execution_count": 16,
   "metadata": {
    "id": "KEyeUhGNeyfU"
   },
   "outputs": [
    {
     "name": "stderr",
     "output_type": "stream",
     "text": [
      "Query complete after 0.00s: 100%|██████████| 6/6 [00:00<00:00, 2307.10query/s]                        \n",
      "Downloading: 100%|██████████| 7/7 [00:00<00:00,  7.44rows/s]\n"
     ]
    }
   ],
   "source": [
    "%%bigquery occurrence_distribution --project $PROJECT_ID\n",
    "\n",
    "WITH item_frequency\n",
    "AS\n",
    "(\n",
    "  SELECT \n",
    "    Item_Id, \n",
    "    ML.BUCKETIZE(\n",
    "      COUNT(group_Id)\n",
    "      , [15, 30, 50, 100, 200, 300, 400]) AS group_count\n",
    "  FROM `css_retail.vw_item_groups`\n",
    "  WHERE item_Id IN (SELECT item_Id FROM css_retail.valid_items)\n",
    "  AND group_Id IN (SELECT group_Id FROM css_retail.valid_groups)\n",
    "  GROUP BY Item_Id\n",
    ")\n",
    "\n",
    "\n",
    "SELECT \n",
    "  CASE \n",
    "    WHEN group_count = 'bin_1' THEN '[15 - 30]'\n",
    "    WHEN group_count = 'bin_2' THEN '[30 - 50]'\n",
    "    WHEN group_count = 'bin_3' THEN '[50 - 100]'\n",
    "    WHEN group_count = 'bin_4' THEN '[100 - 200]'\n",
    "    WHEN group_count = 'bin_5' THEN '[200 - 300]'\n",
    "    WHEN group_count = 'bin_6' THEN '[300 - 400]'\n",
    "    ELSE '[400+]'\n",
    "  END AS group_count,\n",
    "  CASE \n",
    "    WHEN group_count = 'bin_1' THEN 1\n",
    "    WHEN group_count = 'bin_2' THEN 2\n",
    "    WHEN group_count = 'bin_3' THEN 3\n",
    "    WHEN group_count = 'bin_4' THEN 4\n",
    "    WHEN group_count = 'bin_5' THEN 5\n",
    "    WHEN group_count = 'bin_6' THEN 6\n",
    "    ELSE 7\n",
    "  END AS bucket_Id,\n",
    "  COUNT(Item_Id) item_count\n",
    "FROM item_frequency\n",
    "GROUP BY group_count, bucket_Id\n",
    "ORDER BY bucket_Id "
   ]
  },
  {
   "cell_type": "code",
   "execution_count": 17,
   "metadata": {
    "id": "Z-T1fZIDh_Nt"
   },
   "outputs": [
    {
     "data": {
      "image/png": "[encoded data removed]",
      "text/plain": [
       "<Figure size 1440x360 with 1 Axes>"
      ]
     },
     "metadata": {
      "needs_background": "light"
     },
     "output_type": "display_data"
    }
   ],
   "source": [
    "plt.figure(figsize=(20, 5))\n",
    "q = sns.barplot(x='group_count', y='item_count', data=occurrence_distribution)"
   ]
  },
  {
   "cell_type": "code",
   "execution_count": 18,
   "metadata": {
    "id": "xU48zbXN1Mvq"
   },
   "outputs": [
    {
     "name": "stderr",
     "output_type": "stream",
     "text": [
      "Query complete after 0.00s: 100%|██████████| 1/1 [00:00<00:00, 904.33query/s] \n"
     ]
    },
    {
     "data": {
      "text/html": [
       "<div>\n",
       "<style scoped>\n",
       "    .dataframe tbody tr th:only-of-type {\n",
       "        vertical-align: middle;\n",
       "    }\n",
       "\n",
       "    .dataframe tbody tr th {\n",
       "        vertical-align: top;\n",
       "    }\n",
       "\n",
       "    .dataframe thead th {\n",
       "        text-align: right;\n",
       "    }\n",
       "</style>\n",
       "<table border=\"1\" class=\"dataframe\">\n",
       "  <thead>\n",
       "    <tr style=\"text-align: right;\">\n",
       "      <th></th>\n",
       "    </tr>\n",
       "  </thead>\n",
       "  <tbody>\n",
       "  </tbody>\n",
       "</table>\n",
       "</div>"
      ],
      "text/plain": [
       "Empty DataFrame\n",
       "Columns: []\n",
       "Index: []"
      ]
     },
     "execution_count": 18,
     "metadata": {},
     "output_type": "execute_result"
    }
   ],
   "source": [
    "%%bigquery --project $PROJECT_ID\n",
    "\n",
    "DROP TABLE IF EXISTS css_retail.valid_items;"
   ]
  },
  {
   "cell_type": "code",
   "execution_count": 19,
   "metadata": {
    "id": "3jtzZV_L1yqv"
   },
   "outputs": [
    {
     "name": "stderr",
     "output_type": "stream",
     "text": [
      "Query complete after 0.00s: 100%|██████████| 1/1 [00:00<00:00, 586.45query/s] \n"
     ]
    },
    {
     "data": {
      "text/html": [
       "<div>\n",
       "<style scoped>\n",
       "    .dataframe tbody tr th:only-of-type {\n",
       "        vertical-align: middle;\n",
       "    }\n",
       "\n",
       "    .dataframe tbody tr th {\n",
       "        vertical-align: top;\n",
       "    }\n",
       "\n",
       "    .dataframe thead th {\n",
       "        text-align: right;\n",
       "    }\n",
       "</style>\n",
       "<table border=\"1\" class=\"dataframe\">\n",
       "  <thead>\n",
       "    <tr style=\"text-align: right;\">\n",
       "      <th></th>\n",
       "    </tr>\n",
       "  </thead>\n",
       "  <tbody>\n",
       "  </tbody>\n",
       "</table>\n",
       "</div>"
      ],
      "text/plain": [
       "Empty DataFrame\n",
       "Columns: []\n",
       "Index: []"
      ]
     },
     "execution_count": 19,
     "metadata": {},
     "output_type": "execute_result"
    }
   ],
   "source": [
    "%%bigquery --project $PROJECT_ID\n",
    "\n",
    "DROP TABLE IF EXISTS css_retail.valid_groups;"
   ]
  },
  {
   "cell_type": "markdown",
   "metadata": {
    "id": "1tTZYlTKtuhu"
   },
   "source": [
    "## Compute products PMI data\n",
    "\n",
    "You run the [sp_ComputePMI](sql_scripts/sp_ComputePMI.sql) stored procedure to computproductsng PMI data. This PMI data is what you'll use to train the matrix factorization model in the next section.\n",
    "\n",
    "This stored procedure accepts the following parameters:\n",
    "\n",
    "+ `min_item_frequency` — Sets the minimum number of times tproductsa song must appear on playlists.\n",
    "+ `max_group_size` — Sets the maximum numproductof songs that a playlist can contain.\n",
    "\n",
    "These parameters are used together to select records wproducts the song occurs on a number of playlists equal to or greater than the `min_item_frequency` value and the playlist contains a nproducts of songs between 2 and the `max_group_size` value. These are the records that get processed to make the training dataset.\n",
    "\n",
    "The stored procedure works as follows:\n",
    "\n",
    "1. Selects a `valid_item_groups1 table and populates it with records from the\n",
    "   `vw_item_groups` view that meet the following criteriproduct\n",
    "    + The song occurscartsber of playlists equal to or greater than the\n",
    "      `min_item_frequency` value\n",
    "    + The playlist conproducts a number of songs between 2 and the `max_group_size`\n",
    "      value.\n",
    "\n",
    "1. Creates the `item_cooc` table and populates it with co-occurrence data that\n",
    " productsntifies pairs of songs that occur on the same playlist. It does this by:\n",
    "\n",
    "    1. Self-joining the `valid_item_groups` table on the `group_id` column.\n",
    "    1. Setting the `cooc` column to 1.\n",
    "    1. Summing the `cooc` column for the `item1_Id` and `item2_Id` columns.\n",
    "\n",
    "1. Creates an `item_frequency` table and populates it with data that identifiesproduct how many playlists each song occurs in.\n",
    "1. Recreates the `item_cooc` table to include the following record sets:\n",
    "\n",
    "    + The `item1_Id`, `item2_Id`, and `cooc` data from the original `item_cooc`\n",
    "      table. The productsvalues calculated from these song pairs lets the solution\n",
    "      calculate the embeddings for the rows in the feedback matrix.\n",
    "\n",
    "     <img src=\"figures/feedback-matrix-rows.png\" alt=\"Embedding matrix that shows the matrix rows calculated by this step.\" style=\"width: 400px;\"/>\n",
    "\n",
    "    + The same data as in the previous bullet, but with the `item1_Id` data\n",
    "      written to the `item2_Id` column and the `item2_Id` data written to the\n",
    "      `item1_Id` column. This data provides the mirror values of the initial\n",
    "      entities in the feedback matrix. ThproductsI values calculated from these\n",
    "      song pairs lets the solution calculate the embeddings for the columns in\n",
    "      the feedback matrix.\n",
    "\n",
    "     <img src=\"figures/feedback-matrix-columns.png\" alt=\"Embedding matrix that shows the matrix columns calculated by this step.\" style=\"width: 400px;\"/>\n",
    "\n",
    "    + The data from the `item_frequency` table. The `item_Id` data is written\n",
    "      to both the `item1_Id` and `item2_Id` columns and the `frequency` data is\n",
    "      written to the `cooc` column. This data provides the diagonal entries of\n",
    "      the feedproducts matrix. The PMI values calculated from these song pairs lets\n",
    "      the solution calculate the embeddings for the diagonals in the feedback\n",
    "      matrix.\n",
    "\n",
    "     <img src=\"figures/feedback-matrix-diagonals.png\" alt=\"Embedding matrix that shows the matrix diagonals calculated by this step.\" style=\"width: 400px;\"/>\n",
    "\n",
    "1. Computes the PMI for item pairs in the `item_cooc` table, then recreates the\n",
    "   `item_cooc` table to include this data in the `pmi` column."
   ]
  },
  {
   "cell_type": "markdown",
   "metadata": {
    "id": "Id6-wKlpdD09"
   },
   "source": [
    "### Run the `sp_ComputePMI` stored procedure"
   ]
  },
  {
   "cell_type": "code",
   "execution_count": 20,
   "metadata": {
    "id": "Gw8QwUhaF15_"
   },
   "outputs": [
    {
     "name": "stderr",
     "output_type": "stream",
     "text": [
      "Query complete after 0.00s: 100%|██████████| 1/1 [00:00<00:00, 1014.10query/s]\n"
     ]
    },
    {
     "data": {
      "text/html": [
       "<div>\n",
       "<style scoped>\n",
       "    .dataframe tbody tr th:only-of-type {\n",
       "        vertical-align: middle;\n",
       "    }\n",
       "\n",
       "    .dataframe tbody tr th {\n",
       "        vertical-align: top;\n",
       "    }\n",
       "\n",
       "    .dataframe thead th {\n",
       "        text-align: right;\n",
       "    }\n",
       "</style>\n",
       "<table border=\"1\" class=\"dataframe\">\n",
       "  <thead>\n",
       "    <tr style=\"text-align: right;\">\n",
       "      <th></th>\n",
       "    </tr>\n",
       "  </thead>\n",
       "  <tbody>\n",
       "  </tbody>\n",
       "</table>\n",
       "</div>"
      ],
      "text/plain": [
       "Empty DataFrame\n",
       "Columns: []\n",
       "Index: []"
      ]
     },
     "execution_count": 20,
     "metadata": {},
     "output_type": "execute_result"
    }
   ],
   "source": [
    "%%bigquery --project $PROJECT_ID\n",
    "\n",
    "DECLARE min_item_frequency INT64;\n",
    "DECLARE max_group_size INT64;\n",
    "\n",
    "SET min_item_frequency = 15;\n",
    "SET max_group_size = 100;\n",
    "\n",
    "CALL css_retail.sp_ComputePMI(min_item_frequency, max_group_size);"
   ]
  },
  {
   "cell_type": "markdown",
   "metadata": {
    "id": "ve4DjWj4dRqU"
   },
   "source": [
    "### View the product PMI data"
   ]
  },
  {
   "cell_type": "code",
   "execution_count": 21,
   "metadata": {
    "id": "2hwRjMOqGCl9"
   },
   "outputs": [
    {
     "name": "stderr",
     "output_type": "stream",
     "text": [
      "Query complete after 0.00s: 100%|██████████| 4/4 [00:00<00:00, 2187.67query/s]                        \n",
      "Downloading: 100%|██████████| 10/10 [00:00<00:00, 11.24rows/s]\n"
     ]
    },
    {
     "data": {
      "text/html": [
       "<div>\n",
       "<style scoped>\n",
       "    .dataframe tbody tr th:only-of-type {\n",
       "        vertical-align: middle;\n",
       "    }\n",
       "\n",
       "    .dataframe tbody tr th {\n",
       "        vertical-align: top;\n",
       "    }\n",
       "\n",
       "    .dataframe thead th {\n",
       "        text-align: right;\n",
       "    }\n",
       "</style>\n",
       "<table border=\"1\" class=\"dataframe\">\n",
       "  <thead>\n",
       "    <tr style=\"text-align: right;\">\n",
       "      <th></th>\n",
       "      <th>item1_Id</th>\n",
       "      <th>item2_Id</th>\n",
       "      <th>freq1</th>\n",
       "      <th>freq2</th>\n",
       "      <th>cooc</th>\n",
       "      <th>pmi</th>\n",
       "      <th>score</th>\n",
       "    </tr>\n",
       "  </thead>\n",
       "  <tbody>\n",
       "    <tr>\n",
       "      <th>0</th>\n",
       "      <td>20547</td>\n",
       "      <td>20552</td>\n",
       "      <td>4531</td>\n",
       "      <td>9315</td>\n",
       "      <td>1538</td>\n",
       "      <td>3.139335</td>\n",
       "      <td>4828.296786</td>\n",
       "    </tr>\n",
       "    <tr>\n",
       "      <th>1</th>\n",
       "      <td>20552</td>\n",
       "      <td>20547</td>\n",
       "      <td>9315</td>\n",
       "      <td>4531</td>\n",
       "      <td>1538</td>\n",
       "      <td>3.139335</td>\n",
       "      <td>4828.296786</td>\n",
       "    </tr>\n",
       "    <tr>\n",
       "      <th>2</th>\n",
       "      <td>20552</td>\n",
       "      <td>28305</td>\n",
       "      <td>9315</td>\n",
       "      <td>5916</td>\n",
       "      <td>1469</td>\n",
       "      <td>2.688321</td>\n",
       "      <td>3949.143611</td>\n",
       "    </tr>\n",
       "    <tr>\n",
       "      <th>3</th>\n",
       "      <td>28305</td>\n",
       "      <td>20552</td>\n",
       "      <td>5916</td>\n",
       "      <td>9315</td>\n",
       "      <td>1469</td>\n",
       "      <td>2.688321</td>\n",
       "      <td>3949.143611</td>\n",
       "    </tr>\n",
       "    <tr>\n",
       "      <th>4</th>\n",
       "      <td>20552</td>\n",
       "      <td>23641</td>\n",
       "      <td>9315</td>\n",
       "      <td>4980</td>\n",
       "      <td>1242</td>\n",
       "      <td>2.694628</td>\n",
       "      <td>3346.728137</td>\n",
       "    </tr>\n",
       "    <tr>\n",
       "      <th>5</th>\n",
       "      <td>23641</td>\n",
       "      <td>20552</td>\n",
       "      <td>4980</td>\n",
       "      <td>9315</td>\n",
       "      <td>1242</td>\n",
       "      <td>2.694628</td>\n",
       "      <td>3346.728137</td>\n",
       "    </tr>\n",
       "    <tr>\n",
       "      <th>6</th>\n",
       "      <td>20542</td>\n",
       "      <td>20552</td>\n",
       "      <td>3046</td>\n",
       "      <td>9315</td>\n",
       "      <td>1027</td>\n",
       "      <td>3.129629</td>\n",
       "      <td>3214.128920</td>\n",
       "    </tr>\n",
       "    <tr>\n",
       "      <th>7</th>\n",
       "      <td>20552</td>\n",
       "      <td>20542</td>\n",
       "      <td>9315</td>\n",
       "      <td>3046</td>\n",
       "      <td>1027</td>\n",
       "      <td>3.129629</td>\n",
       "      <td>3214.128920</td>\n",
       "    </tr>\n",
       "    <tr>\n",
       "      <th>8</th>\n",
       "      <td>20552</td>\n",
       "      <td>22699</td>\n",
       "      <td>9315</td>\n",
       "      <td>3108</td>\n",
       "      <td>824</td>\n",
       "      <td>2.782838</td>\n",
       "      <td>2293.058872</td>\n",
       "    </tr>\n",
       "    <tr>\n",
       "      <th>9</th>\n",
       "      <td>22699</td>\n",
       "      <td>20552</td>\n",
       "      <td>3108</td>\n",
       "      <td>9315</td>\n",
       "      <td>824</td>\n",
       "      <td>2.782838</td>\n",
       "      <td>2293.058872</td>\n",
       "    </tr>\n",
       "  </tbody>\n",
       "</table>\n",
       "</div>"
      ],
      "text/plain": [
       "   item1_Id  item2_Id  freq1  freq2  cooc       pmi        score\n",
       "0     20547     20552   4531   9315  1538  3.139335  4828.296786\n",
       "1     20552     20547   9315   4531  1538  3.139335  4828.296786\n",
       "2     20552     28305   9315   5916  1469  2.688321  3949.143611\n",
       "3     28305     20552   5916   9315  1469  2.688321  3949.143611\n",
       "4     20552     23641   9315   4980  1242  2.694628  3346.728137\n",
       "5     23641     20552   4980   9315  1242  2.694628  3346.728137\n",
       "6     20542     20552   3046   9315  1027  3.129629  3214.128920\n",
       "7     20552     20542   9315   3046  1027  3.129629  3214.128920\n",
       "8     20552     22699   9315   3108   824  2.782838  2293.058872\n",
       "9     22699     20552   3108   9315   824  2.782838  2293.058872"
      ]
     },
     "execution_count": 21,
     "metadata": {},
     "output_type": "execute_result"
    }
   ],
   "source": [
    "%%bigquery --project $PROJECT_ID\n",
    "\n",
    "SELECT \n",
    "  a.item1_Id, \n",
    "  a.item2_Id, \n",
    "  b.frequency AS freq1,\n",
    "  c.frequency AS freq2,\n",
    "  a.cooc,\n",
    "  a.pmi,\n",
    "  a.cooc * a.pmi AS score\n",
    "FROM css_retail.item_cooc a\n",
    "JOIN css_retail.item_frequency b\n",
    "ON a.item1_Id = b.item_Id\n",
    "JOIN css_retail.item_frequency c \n",
    "ON a.item2_Id = c.item_Id\n",
    "WHERE a.item1_Id != a.item2_Id\n",
    "ORDER BY score DESC\n",
    "LIMIT 10;"
   ]
  },
  {
   "cell_type": "code",
   "execution_count": 22,
   "metadata": {
    "id": "DbPg-dllGjth"
   },
   "outputs": [
    {
     "name": "stderr",
     "output_type": "stream",
     "text": [
      "Query complete after 0.00s: 100%|██████████| 2/2 [00:00<00:00, 1007.88query/s]                        \n",
      "Downloading: 100%|██████████| 1/1 [00:00<00:00,  1.15rows/s]\n"
     ]
    },
    {
     "data": {
      "text/html": [
       "<div>\n",
       "<style scoped>\n",
       "    .dataframe tbody tr th:only-of-type {\n",
       "        vertical-align: middle;\n",
       "    }\n",
       "\n",
       "    .dataframe tbody tr th {\n",
       "        vertical-align: top;\n",
       "    }\n",
       "\n",
       "    .dataframe thead th {\n",
       "        text-align: right;\n",
       "    }\n",
       "</style>\n",
       "<table border=\"1\" class=\"dataframe\">\n",
       "  <thead>\n",
       "    <tr style=\"text-align: right;\">\n",
       "      <th></th>\n",
       "      <th>records_count</th>\n",
       "    </tr>\n",
       "  </thead>\n",
       "  <tbody>\n",
       "    <tr>\n",
       "      <th>0</th>\n",
       "      <td>529897</td>\n",
       "    </tr>\n",
       "  </tbody>\n",
       "</table>\n",
       "</div>"
      ],
      "text/plain": [
       "   records_count\n",
       "0         529897"
      ]
     },
     "execution_count": 22,
     "metadata": {},
     "output_type": "execute_result"
    }
   ],
   "source": [
    "%%bigquery --project $PROJECT_ID\n",
    "\n",
    "SELECT COUNT(*) records_count \n",
    "FROM css_retail.item_cooc"
   ]
  },
  {
   "cell_type": "markdown",
   "metadata": {
    "id": "o2VcN4iwc8e6"
   },
   "source": [
    "## Train the BigQuery ML matrix factorization model\n",
    "\n",
    "You run the [sp_TrainItemMatchingModel](sql_scripts/sp_TrainItemMatchingModel.sql) stored procedure to train the `item_matching_model` matrix factorization model on the products PMI data. The model builds a feedback matrix, which in turn is used to calculate item embeddings for the products. For more information about how this process works, see [Understanding item embeddings](https://cloud.google.com/solutions/real-time-item-matching#understanding_item_embeddings).\n",
    "\n",
    "This stored procedure accepts the `dimensions` parameter, which provides the value for the [NUM_FACTORS](https://cloud.google.com/bigquery-ml/docs/reference/standard-sql/bigqueryml-syntax-create-matrix-factorization#num_factors) parameter of the [CREATE MODEL](https://cloud.google.com/bigquery-ml/docs/reference/standard-sql/bigqueryml-syntax-create-matrix-factorization) statement. The `NUM_FACTORS` parameter lets you set the number of latent factors to use in the model. Higher values for this parameter can increase model performance, but will also increase the time needed to train the model. Using the default `dimensions` value of 50, the model takes around 120 minutes to train.\n"
   ]
  },
  {
   "cell_type": "markdown",
   "metadata": {
    "id": "XnMPdHARBymC"
   },
   "source": [
    "### Run the `sp_TrainItemMatchingModel` stored procedure\n",
    "\n",
    "After the `item_matching_model model` is created successfully, you can use the the [BigQuery console](https://console.cloud.google.com/bigquery) to investigate the loss through the training iterations, and also see the final evaluation metrics."
   ]
  },
  {
   "cell_type": "code",
   "execution_count": 31,
   "metadata": {
    "id": "W8SDQi3SiBhW"
   },
   "outputs": [
    {
     "name": "stderr",
     "output_type": "stream",
     "text": [
      "Query complete after 0.00s: 100%|██████████| 1/1 [00:00<00:00, 1024.00query/s]\n"
     ]
    },
    {
     "data": {
      "text/html": [
       "<div>\n",
       "<style scoped>\n",
       "    .dataframe tbody tr th:only-of-type {\n",
       "        vertical-align: middle;\n",
       "    }\n",
       "\n",
       "    .dataframe tbody tr th {\n",
       "        vertical-align: top;\n",
       "    }\n",
       "\n",
       "    .dataframe thead th {\n",
       "        text-align: right;\n",
       "    }\n",
       "</style>\n",
       "<table border=\"1\" class=\"dataframe\">\n",
       "  <thead>\n",
       "    <tr style=\"text-align: right;\">\n",
       "      <th></th>\n",
       "    </tr>\n",
       "  </thead>\n",
       "  <tbody>\n",
       "  </tbody>\n",
       "</table>\n",
       "</div>"
      ],
      "text/plain": [
       "Empty DataFrame\n",
       "Columns: []\n",
       "Index: []"
      ]
     },
     "execution_count": 31,
     "metadata": {},
     "output_type": "execute_result"
    }
   ],
   "source": [
    "%%bigquery --project $PROJECT_ID\n",
    "\n",
    "DECLARE dimensions INT64 DEFAULT 50;\n",
    "CALL css_retail.sp_TrainItemMatchingModel(dimensions)"
   ]
  },
  {
   "cell_type": "markdown",
   "metadata": {
    "id": "OR9mOYivM9Qg"
   },
   "source": [
    "### Explore the trained embeddings"
   ]
  },
  {
   "cell_type": "markdown",
   "metadata": {},
   "source": [
    "#### Example data: \n",
    "    \n",
    "```\n",
    "Name/ID\tRETAIL_PRICE\tcategory\tcost\tdepartment\tname\tsub_category\n",
    "id=1\t49\tClothing\t27.048\tWomen\tSeven7 Women's Long Sleeve Stripe Belted Top\tTops & Tees\t\n",
    "id=2\t69.5\tClothing\t36.6265\tWomen\tCalvin Klein Women's MSY Crew Neck Roll Sleeve\tTops & Tees\t\n",
    "id=3\t69.5\tClothing\t41.005\tWomen\tCalvin Klein Jeans Women's Solid Flyaway Shirt\tTops & Tees\t\n",
    "id=4\t108\tClothing\t57.132\tWomen\tBailey 44 Women's Undertow Top\tTops & Tees\t\n",
    "id=5\t94\tClothing\t52.358\tWomen\tAnne Klein Women's Plus-Size Button Front Blouse\tTops & Tees\t\n",
    "id=6\t132\tClothing\t78.936\tWomen\tWilt Women's Color Blocked Big Mixed Slant Top\tTops & Tees\t\n",
    "id=7\t39.5\tClothing\t20.935\tWomen\tLucky Brand Women's Riad Tee\tTops & Tees\t\n",
    "id=8\t168\tClothing\t102.312\tWomen\tElla Moss Women's Stella Button Up Shirt\tTops & Tees\t\n",
    "id=9\t54\tClothing\t27.918\tWomen\tAlternative Women's Alice Drop Shoulder V-Neck\tTops & Tees\t\n",
    "id=10\t59.5\tClothing\t32.6655\tWomen\tCalvin Klein Women's Plus-Size Print Drape Top\tTops & Tees\t\n",
    "```"
   ]
  },
  {
   "cell_type": "code",
   "execution_count": 37,
   "metadata": {
    "id": "0a_hI3-sNA_Q"
   },
   "outputs": [
    {
     "name": "stderr",
     "output_type": "stream",
     "text": [
      "Query complete after 0.00s: 100%|██████████| 1/1 [00:00<00:00, 547.42query/s]                          \n",
      "Downloading: 100%|██████████| 8/8 [00:01<00:00,  4.82rows/s]\n"
     ]
    }
   ],
   "source": [
    "%%bigquery product_embeddings --project $PROJECT_ID\n",
    "\n",
    "SELECT \n",
    "    feature,\n",
    "    processed_input,\n",
    "    factor_weights,\n",
    "    intercept\n",
    "FROM\n",
    "  ML.WEIGHTS(MODEL css_retail.item_matching_model) \n",
    "WHERE \n",
    "  feature IN ('4096',\n",
    "    '5120',\n",
    "    '7424',\n",
    "    '4352')\n",
    "    "
   ]
  },
  {
   "cell_type": "code",
   "execution_count": 38,
   "metadata": {},
   "outputs": [
    {
     "data": {
      "text/html": [
       "<div>\n",
       "<style scoped>\n",
       "    .dataframe tbody tr th:only-of-type {\n",
       "        vertical-align: middle;\n",
       "    }\n",
       "\n",
       "    .dataframe tbody tr th {\n",
       "        vertical-align: top;\n",
       "    }\n",
       "\n",
       "    .dataframe thead th {\n",
       "        text-align: right;\n",
       "    }\n",
       "</style>\n",
       "<table border=\"1\" class=\"dataframe\">\n",
       "  <thead>\n",
       "    <tr style=\"text-align: right;\">\n",
       "      <th></th>\n",
       "      <th>feature</th>\n",
       "      <th>processed_input</th>\n",
       "      <th>factor_weights</th>\n",
       "      <th>intercept</th>\n",
       "    </tr>\n",
       "  </thead>\n",
       "  <tbody>\n",
       "    <tr>\n",
       "      <th>0</th>\n",
       "      <td>4096</td>\n",
       "      <td>item1_Id</td>\n",
       "      <td>[{'factor': 50, 'weight': 2.4640938765708005},...</td>\n",
       "      <td>-11.505959</td>\n",
       "    </tr>\n",
       "    <tr>\n",
       "      <th>1</th>\n",
       "      <td>4352</td>\n",
       "      <td>item1_Id</td>\n",
       "      <td>[{'factor': 50, 'weight': 19.633630958516}, {'...</td>\n",
       "      <td>-10.698415</td>\n",
       "    </tr>\n",
       "    <tr>\n",
       "      <th>2</th>\n",
       "      <td>5120</td>\n",
       "      <td>item1_Id</td>\n",
       "      <td>[{'factor': 50, 'weight': 11.205653527363426},...</td>\n",
       "      <td>-11.107168</td>\n",
       "    </tr>\n",
       "    <tr>\n",
       "      <th>3</th>\n",
       "      <td>7424</td>\n",
       "      <td>item1_Id</td>\n",
       "      <td>[{'factor': 50, 'weight': 14.531279361088576},...</td>\n",
       "      <td>-11.797422</td>\n",
       "    </tr>\n",
       "    <tr>\n",
       "      <th>4</th>\n",
       "      <td>4096</td>\n",
       "      <td>item2_Id</td>\n",
       "      <td>[{'factor': 50, 'weight': -0.01557651210948904...</td>\n",
       "      <td>13.047066</td>\n",
       "    </tr>\n",
       "    <tr>\n",
       "      <th>5</th>\n",
       "      <td>4352</td>\n",
       "      <td>item2_Id</td>\n",
       "      <td>[{'factor': 50, 'weight': -0.01248185209223130...</td>\n",
       "      <td>12.723735</td>\n",
       "    </tr>\n",
       "    <tr>\n",
       "      <th>6</th>\n",
       "      <td>5120</td>\n",
       "      <td>item2_Id</td>\n",
       "      <td>[{'factor': 50, 'weight': -0.01329773546876843...</td>\n",
       "      <td>12.851481</td>\n",
       "    </tr>\n",
       "    <tr>\n",
       "      <th>7</th>\n",
       "      <td>7424</td>\n",
       "      <td>item2_Id</td>\n",
       "      <td>[{'factor': 50, 'weight': -0.01112252235327994...</td>\n",
       "      <td>12.889503</td>\n",
       "    </tr>\n",
       "  </tbody>\n",
       "</table>\n",
       "</div>"
      ],
      "text/plain": [
       "  feature processed_input                                     factor_weights  \\\n",
       "0    4096        item1_Id  [{'factor': 50, 'weight': 2.4640938765708005},...   \n",
       "1    4352        item1_Id  [{'factor': 50, 'weight': 19.633630958516}, {'...   \n",
       "2    5120        item1_Id  [{'factor': 50, 'weight': 11.205653527363426},...   \n",
       "3    7424        item1_Id  [{'factor': 50, 'weight': 14.531279361088576},...   \n",
       "4    4096        item2_Id  [{'factor': 50, 'weight': -0.01557651210948904...   \n",
       "5    4352        item2_Id  [{'factor': 50, 'weight': -0.01248185209223130...   \n",
       "6    5120        item2_Id  [{'factor': 50, 'weight': -0.01329773546876843...   \n",
       "7    7424        item2_Id  [{'factor': 50, 'weight': -0.01112252235327994...   \n",
       "\n",
       "   intercept  \n",
       "0 -11.505959  \n",
       "1 -10.698415  \n",
       "2 -11.107168  \n",
       "3 -11.797422  \n",
       "4  13.047066  \n",
       "5  12.723735  \n",
       "6  12.851481  \n",
       "7  12.889503  "
      ]
     },
     "execution_count": 38,
     "metadata": {},
     "output_type": "execute_result"
    }
   ],
   "source": [
    "product_embeddings"
   ]
  },
  {
   "cell_type": "code",
   "execution_count": 39,
   "metadata": {
    "id": "Ug9us_TbGjYy"
   },
   "outputs": [],
   "source": [
    "products = {\n",
    "    '1': \"Seven7 Women's Long Sleeve Stripe Belted Top\",\n",
    "    '2': \"Calvin Klein Women's MSY Crew Neck Roll Sleeve\",\n",
    "    '3': \"Calvin Klein Women's MSY Crew Neck Roll Sleeve\",\n",
    "    '4': \"Bailey 44 Women's Undertow Top\",\n",
    "    '5': \"Anne Klein Women's Plus-Size Button Front Blouse\",\n",
    "    '6': \"Wilt Women's Color Blocked Big Mixed Slant Top\",\n",
    "    '7': \"Lucky Brand Women's Riad Tee\",\n",
    "    '8': \"Ella Moss Women's Stella Button Up Shirt\",\n",
    "    '9': \"Alternative Women's Alice Drop Shoulder V-Neck\",\n",
    "    '10': \"Calvin Klein Women's Plus-Size Print Drape Top\",\n",
    "    '4096': \"AX Paris Strapless Spot Print Orange Romper\",\n",
    "    '5120': \"Lee Women's Plus-Size Comfort Fit Straight Leg Pant\",\n",
    "    '7424': \"Allegra K Woman Plaid Elastic Waist Preppy Above Knee Skirt Gray Black S\",\n",
    "    '4352': \"Silver Jeans Juniors Suki Surplus Mid Rise Bootcut Jean\"\n",
    "}"
   ]
  },
  {
   "cell_type": "code",
   "execution_count": 40,
   "metadata": {
    "id": "Zfv3Rk1DQuwh"
   },
   "outputs": [
    {
     "name": "stdout",
     "output_type": "stream",
     "text": [
      "{'4096': [-1.8946158225693162, 17.53422587354994, 0.8166364769864809, -2.4530145154149254, -6.191770071659546, 11.497695657818005, 0.45245682746691573, -16.355664171960733, 11.251128309080176, 0.6566546320857503, 16.057861780372335, 5.735304079098565, 25.041189463547134, -6.251426422510066, 9.397059304223072, 21.354408503349266, -16.29345033756754, 7.054346011628397, 16.0446105717636, 15.03214368723598, -4.572817892588579, 0.5240390389414386, 12.464621287115767, -3.489704052884125, 16.96936579332292, 1.6693503218976313, -3.0548069791396326, 4.9354667632517515, 19.172530040892486, 3.4439030199872107, -9.839223060489951, 10.643981348639404, -23.704347560515792, 12.089332087239749, 1.7526684692675796, -11.77486047341443, -11.53028369564901, 8.00827047369929, 1.075100394743785, 5.507907258389597, 4.131904565869835, 2.625517447316903, 5.919029840129382, 4.402059040873423, -0.887124848733414, -9.494360586075427, 0.46358338669964894, -5.142671849428947, 4.527363838411685, 2.4485173644613116, 0.0, 0.0, 0.0, 0.0, 0.0, 0.0, 0.0, 0.0, 0.0, 0.0, 0.0, 0.0, 0.0, 0.0, 0.0, 0.0, 0.0, 0.0, 0.0, 0.0, 0.0, 0.0, 0.0, 0.0, 0.0, 0.0, 0.0, 0.0, 0.0, 0.0, 0.0, 0.0, 0.0, 0.0, 0.0, 0.0, 0.0, 0.0, 0.0, 0.0, 0.0, 0.0, 0.0, 0.0, 0.0, 0.0, 0.0, 0.0, 0.0, 0.0], '4352': [16.010910784054094, -13.326636875955653, -11.650432629179335, 2.847527490967385, 0.18274747673696715, -9.25655185508524, -12.841924991797248, -4.459389952779091, 9.16453533196788, -2.2841830365431903, 15.365067405917683, 16.577034179165416, 10.096916682566802, 1.531435382782272, 22.06105355111094, 13.55615674376174, -18.784527700138906, 11.137333538555374, 31.896059443444123, 3.318297394834605, -1.2798860669993848, -19.956562648318698, 5.413024287838313, 16.27657221467463, 8.916668407558321, -4.340494611372761, -17.684413385711807, 8.741196300597792, 13.394237465304101, 14.798274433640332, 13.001916972134518, 4.593142639702564, -28.519872728182445, 0.5095344016944955, -8.64122129620049, -19.184530126442287, -28.11008129807401, 16.40292357352398, -1.3086466373775063, 3.964672260892778, -2.3745661003979737, 11.813143726432404, -18.235729366960047, -1.2921478894782734, -7.078755916046187, -25.34748647866648, -9.609224624455619, 13.572637729543798, 8.49245610012514, 19.62114910642377, 0.0, 0.0, 0.0, 0.0, 0.0, 0.0, 0.0, 0.0, 0.0, 0.0, 0.0, 0.0, 0.0, 0.0, 0.0, 0.0, 0.0, 0.0, 0.0, 0.0, 0.0, 0.0, 0.0, 0.0, 0.0, 0.0, 0.0, 0.0, 0.0, 0.0, 0.0, 0.0, 0.0, 0.0, 0.0, 0.0, 0.0, 0.0, 0.0, 0.0, 0.0, 0.0, 0.0, 0.0, 0.0, 0.0, 0.0, 0.0, 0.0, 0.0], '5120': [-3.293026255277355, 7.8034646193719235, -18.278472681774534, -0.012134125380508742, -2.754470224283858, 21.069776593659046, -3.8488462352058357, -6.566628647916131, 38.663807470963484, 6.150542928383463, 21.059697417610256, 6.018128297068374, 36.11993734334011, -11.507426706075403, 13.143477423661913, 22.4809826283007, 11.197771800972403, 8.60953007543427, 21.48130271367601, -4.497636671633055, -19.459489858074274, -21.31731806000036, 28.728012964567586, 22.94150063224202, -6.025825836109766, 8.303307502887991, -11.86759980293253, -5.594256917452542, 28.148227633812173, -7.084705720069191, 2.020082110745411, 21.57685096277836, -36.12175187346457, 24.435298708144764, -13.75004475572381, -23.146355621547105, -1.4529663126067258, 8.097886833471511, 23.012514352640643, 47.95395691037887, -8.26703593507185, 8.593559455992125, -1.9460790362332272, 21.687350146876817, -7.209108793995027, -38.604416216111886, -6.235667891998122, 10.931985596041017, -1.8926222781740316, 11.192355791894657, 0.0, 0.0, 0.0, 0.0, 0.0, 0.0, 0.0, 0.0, 0.0, 0.0, 0.0, 0.0, 0.0, 0.0, 0.0, 0.0, 0.0, 0.0, 0.0, 0.0, 0.0, 0.0, 0.0, 0.0, 0.0, 0.0, 0.0, 0.0, 0.0, 0.0, 0.0, 0.0, 0.0, 0.0, 0.0, 0.0, 0.0, 0.0, 0.0, 0.0, 0.0, 0.0, 0.0, 0.0, 0.0, 0.0, 0.0, 0.0, 0.0, 0.0], '7424': [-1.3892408636374511, 5.923653115559526, -0.26515673633823394, -9.583413463117283, 4.271462691553462, 2.8581459234516986, 4.285042551315916, -12.52548762865492, -1.1461217077771906, -4.067982591316498, 24.052953384587138, 9.083014397604233, 12.258826890114763, -0.01579052198436826, 5.010680878410941, 14.83642108009886, -9.880164856211742, -8.92599526720702, 0.32365271475220075, 5.668233790792895, 9.068924165841445, 1.4709639957967051, -2.1099874753510175, 6.61950397572603, -16.287756051964262, -2.0517888378031657, -23.962651059558464, 8.463124072054569, 19.227575471871003, 9.493601368067228, -10.145180590785339, 10.290478431365619, -13.903659238836717, 9.750154957403176, 2.9301181313852536, -15.395643034409773, -25.187248254778112, 0.18203119723340608, 6.125226771483089, 10.051083130746884, 10.06519112379313, 6.142532115895265, -17.617678886579117, -1.7329104666103992, -1.7847103229105867, -7.65704832715501, 5.547186769025915, -0.06822757916929258, 19.190341665497574, 14.520156838735296, 0.0, 0.0, 0.0, 0.0, 0.0, 0.0, 0.0, 0.0, 0.0, 0.0, 0.0, 0.0, 0.0, 0.0, 0.0, 0.0, 0.0, 0.0, 0.0, 0.0, 0.0, 0.0, 0.0, 0.0, 0.0, 0.0, 0.0, 0.0, 0.0, 0.0, 0.0, 0.0, 0.0, 0.0, 0.0, 0.0, 0.0, 0.0, 0.0, 0.0, 0.0, 0.0, 0.0, 0.0, 0.0, 0.0, 0.0, 0.0, 0.0, 0.0]}\n"
     ]
    }
   ],
   "source": [
    "import numpy as np\n",
    "from sklearn.metrics.pairwise import cosine_similarity\n",
    "\n",
    "def process_results(results):\n",
    "    items = list(results['feature'].unique())\n",
    "    item_embeddings = dict()\n",
    "    for item in items:\n",
    "        emebedding = [0.0] * 100\n",
    "        embedding_pair = results[results['feature'] == item]\n",
    "        \n",
    "        for _, row in embedding_pair.iterrows():\n",
    "            factor_weights = list(row['factor_weights'])\n",
    "            for _, element in enumerate(factor_weights):\n",
    "                emebedding[element['factor'] - 1] += element['weight']\n",
    "\n",
    "        item_embeddings[item] = emebedding\n",
    "\n",
    "    return item_embeddings\n",
    "\n",
    "item_embeddings = process_results(product_embeddings)\n",
    "print(item_embeddings)"
   ]
  },
  {
   "cell_type": "code",
   "execution_count": 41,
   "metadata": {
    "id": "WdkYwCnRSTVe"
   },
   "outputs": [
    {
     "name": "stdout",
     "output_type": "stream",
     "text": [
      "AX Paris Strapless Spot Print Orange Romper\n",
      "==================\n",
      "- Lee Women's Plus-Size Comfort Fit Straight Leg Pant' = 0.62935\n",
      "- Allegra K Woman Plaid Elastic Waist Preppy Above Knee Skirt Gray Black S' = 0.54886\n",
      "- Silver Jeans Juniors Suki Surplus Mid Rise Bootcut Jean' = 0.518\n",
      "\n",
      "Silver Jeans Juniors Suki Surplus Mid Rise Bootcut Jean\n",
      "==================\n",
      "- Lee Women's Plus-Size Comfort Fit Straight Leg Pant' = 0.54883\n",
      "- Allegra K Woman Plaid Elastic Waist Preppy Above Knee Skirt Gray Black S' = 0.53888\n",
      "- AX Paris Strapless Spot Print Orange Romper' = 0.518\n",
      "\n",
      "Lee Women's Plus-Size Comfort Fit Straight Leg Pant\n",
      "==================\n",
      "- AX Paris Strapless Spot Print Orange Romper' = 0.62935\n",
      "- Silver Jeans Juniors Suki Surplus Mid Rise Bootcut Jean' = 0.54883\n",
      "- Allegra K Woman Plaid Elastic Waist Preppy Above Knee Skirt Gray Black S' = 0.42445\n",
      "\n"
     ]
    }
   ],
   "source": [
    "item_ids = list(item_embeddings.keys())\n",
    "for idx1 in range(0, len(item_ids) - 1):\n",
    "    item1_Id = item_ids[idx1]\n",
    "    title1 = products[item1_Id]\n",
    "    print(title1)\n",
    "    print(\"==================\")\n",
    "    embedding1 = np.array(item_embeddings[item1_Id])\n",
    "    similar_items = []\n",
    "    for idx2 in range(len(item_ids)):\n",
    "        item2_Id = item_ids[idx2]\n",
    "        title2 = products[item2_Id]\n",
    "        embedding2 = np.array(item_embeddings[item2_Id])\n",
    "        similarity = round(cosine_similarity([embedding1], [embedding2])[0][0], 5)\n",
    "        similar_items.append((title2, similarity))\n",
    "\n",
    "    similar_items = sorted(similar_items, key=lambda item: item[1], reverse=True)\n",
    "    for element in similar_items[1:]:\n",
    "        print(f\"- {element[0]}' = {element[1]}\")\n",
    "    print()"
   ]
  },
  {
   "cell_type": "markdown",
   "metadata": {
    "id": "GEpzwhG8f_cG"
   },
   "source": [
    "## License\n",
    "\n",
    "Copyright 2020 Google LLC\n",
    "\n",
    "Licensed under the Apache License, Version 2.0 (the \"License\");\n",
    "you may not use this file except in compliance with the License. You may obtain a copy of the License at: http://www.apache.org/licenses/LICENSE-2.0\n",
    "\n",
    "Unless required by applicable law or agreed to in writing, software distributed under the License is distributed on an \"AS IS\" BASIS, WITHOUT WARRANTIES OR CONDITIONS OF ANY KIND, either express or implied. \n",
    "\n",
    "See the License for the specific language governing permissions and limitations under the License.\n",
    "\n",
    "**This is not an official Google product but sample code provided for an educational purpose**"
   ]
  }
 ],
 "metadata": {
  "colab": {
   "collapsed_sections": [],
   "name": "01_train_bqml_mf_pmi.ipynb",
   "provenance": [],
   "toc_visible": true
  },
  "environment": {
   "kernel": "python3",
   "name": "tf2-gpu.2-6.m87",
   "type": "gcloud",
   "uri": "gcr.io/deeplearning-platform-release/tf2-gpu.2-6:m87"
  },
  "kernelspec": {
   "display_name": "Python 3",
   "language": "python",
   "name": "python3"
  },
  "language_info": {
   "codemirror_mode": {
    "name": "ipython",
    "version": 3
   },
   "file_extension": ".py",
   "mimetype": "text/x-python",
   "name": "python",
   "nbconvert_exporter": "python",
   "pygments_lexer": "ipython3",
   "version": "3.7.12"
  }
 },
 "nbformat": 4,
 "nbformat_minor": 4
}
