{
 "cells": [
  {
   "cell_type": "markdown",
   "metadata": {},
   "source": [
    "## Test the Retrieval Latency of Approximate vs Exact Matching "
   ]
  },
  {
   "cell_type": "code",
   "execution_count": null,
   "metadata": {},
   "outputs": [],
   "source": [
    "import tensorflow as tf\n",
    "import time"
   ]
  },
  {
   "cell_type": "code",
   "execution_count": null,
   "metadata": {},
   "outputs": [],
   "source": [
    "PROJECT_ID = 'ksalama-cloudml'\n",
    "BUCKET = 'ksalama-cloudml'\n",
    "INDEX_DIR = f'gs://{BUCKET}/bqml/scann_index'\n",
    "BQML_MODEL_DIR = f'gs://{BUCKET}/bqml/item_matching_model'\n",
    "LOOKUP_MODEL_DIR = f'gs://{BUCKET}/bqml/embedding_lookup_model'"
   ]
  },
  {
   "cell_type": "code",
   "execution_count": null,
   "metadata": {},
   "outputs": [],
   "source": [
    "songs = {\n",
    "   '1': \"Seven7 Women's Long Sleeve Stripe Belted Top\",\n",
    "    '2': \"Calvin Klein Women's MSY Crew Neck Roll Sleeve\",\n",
    "    '3': \"Calvin Klein Women's MSY Crew Neck Roll Sleeve\",\n",
    "    '4': \"Bailey 44 Women's Undertow Top\",\n",
    "    '5': \"Anne Klein Women's Plus-Size Button Front Blouse\",\n",
    "    '6': \"Wilt Women's Color Blocked Big Mixed Slant Top\",\n",
    "    '7': \"Lucky Brand Women's Riad Tee\",\n",
    "    '8': \"Ella Moss Women's Stella Button Up Shirt\",\n",
    "    '9': \"Alternative Women's Alice Drop Shoulder V-Neck\",\n",
    "    '10': \"Calvin Klein Women's Plus-Size Print Drape Top\",\n",
    "    '4096': \"AX Paris Strapless Spot Print Orange Romper\",\n",
    "    '5120': \"Lee Women's Plus-Size Comfort Fit Straight Leg Pant\",\n",
    "    '7424': \"Allegra K Woman Plaid Elastic Waist Preppy Above Knee Skirt Gray Black S\",\n",
    "    '4352': \"Silver Jeans Juniors Suki Surplus Mid Rise Bootcut Jean\"\n",
    "}"
   ]
  },
  {
   "cell_type": "markdown",
   "metadata": {},
   "source": [
    "## Exact Matching"
   ]
  },
  {
   "cell_type": "code",
   "execution_count": null,
   "metadata": {},
   "outputs": [],
   "source": [
    "class ExactMatcher(object):\n",
    "  def __init__(self, model_dir):\n",
    "    print(\"Loading exact matchg model...\")\n",
    "    self.model = tf.saved_model.load(model_dir)\n",
    "    print(\"Exact matchg model is loaded.\")\n",
    "  \n",
    "  def match(self, instances):\n",
    "    outputs = self.model.signatures['serving_default'](tf.constant(instances, tf.dtypes.int64))\n",
    "    return outputs['predicted_item2_Id'].numpy()"
   ]
  },
  {
   "cell_type": "code",
   "execution_count": null,
   "metadata": {},
   "outputs": [],
   "source": [
    "exact_matcher = ExactMatcher(BQML_MODEL_DIR)"
   ]
  },
  {
   "cell_type": "code",
   "execution_count": null,
   "metadata": {},
   "outputs": [],
   "source": [
    "exact_matches = {}\n",
    "\n",
    "start_time = time.time()\n",
    "for i in range(100):\n",
    "  for song in songs:\n",
    "    matches = exact_matcher.match([int(song)])\n",
    "    exact_matches[song] = matches.tolist()[0]\n",
    "end_time = time.time()\n",
    "exact_elapsed_time = end_time - start_time\n",
    "\n",
    "print(f'Elapsed time: {round(exact_elapsed_time, 3)} seconds - average time: {exact_elapsed_time / (100 * len(songs))} seconds')"
   ]
  },
  {
   "cell_type": "markdown",
   "metadata": {},
   "source": [
    "## Approximate Matching (ScaNN)"
   ]
  },
  {
   "cell_type": "code",
   "execution_count": null,
   "metadata": {},
   "outputs": [],
   "source": [
    "from index_server.matching import ScaNNMatcher\n",
    "scann_matcher = ScaNNMatcher(INDEX_DIR)\n",
    "embedding_lookup = tf.saved_model.load(LOOKUP_MODEL_DIR)"
   ]
  },
  {
   "cell_type": "code",
   "execution_count": null,
   "metadata": {},
   "outputs": [],
   "source": [
    "approx_matches = dict()\n",
    "\n",
    "start_time = time.time()\n",
    "for i in range(100):\n",
    "  for song in songs:\n",
    "    vector = embedding_lookup([song]).numpy()[0]\n",
    "    matches = scann_matcher.match(vector, 50)\n",
    "    approx_matches[song] = matches\n",
    "end_time = time.time()\n",
    "scann_elapsed_time = end_time - start_time\n",
    "\n",
    "print(f'Elapsed time: {round(scann_elapsed_time, 3)} seconds - average time: {scann_elapsed_time / (100 * len(songs))} seconds')"
   ]
  },
  {
   "cell_type": "code",
   "execution_count": null,
   "metadata": {},
   "outputs": [],
   "source": [
    "speedup_percent = round(exact_elapsed_time / scann_elapsed_time, 1)\n",
    "print(f'ScaNN speedup: {speedup_percent}x')"
   ]
  },
  {
   "cell_type": "markdown",
   "metadata": {},
   "source": [
    "## License\n",
    "\n",
    "Copyright 2020 Google LLC\n",
    "\n",
    "Licensed under the Apache License, Version 2.0 (the \"License\");\n",
    "you may not use this file except in compliance with the License. You may obtain a copy of the License at: http://www.apache.org/licenses/LICENSE-2.0\n",
    "\n",
    "Unless required by applicable law or agreed to in writing, software distributed under the License is distributed on an \"AS IS\" BASIS, WITHOUT WARRANTIES OR CONDITIONS OF ANY KIND, either express or implied. \n",
    "\n",
    "See the License for the specific language governing permissions and limitations under the License.\n",
    "\n",
    "**This is not an official Google product but sample code provided for an educational purpose**"
   ]
  }
 ],
 "metadata": {
  "environment": {
   "name": "tf2-gpu.2-6.m79",
   "type": "gcloud",
   "uri": "gcr.io/deeplearning-platform-release/tf2-gpu.2-6:m79"
  },
  "kernelspec": {
   "display_name": "Python 3",
   "language": "python",
   "name": "python3"
  },
  "language_info": {
   "codemirror_mode": {
    "name": "ipython",
    "version": 3
   },
   "file_extension": ".py",
   "mimetype": "text/x-python",
   "name": "python",
   "nbconvert_exporter": "python",
   "pygments_lexer": "ipython3",
   "version": "3.7.10"
  }
 },
 "nbformat": 4,
 "nbformat_minor": 4
}
