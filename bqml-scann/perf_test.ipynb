{
 "cells": [
  {
   "cell_type": "markdown",
   "metadata": {},
   "source": [
    "## Test the Retrieval Latency of Approximate vs Exact Matching "
   ]
  },
  {
   "cell_type": "code",
   "execution_count": 1,
   "metadata": {},
   "outputs": [],
   "source": [
    "import tensorflow as tf\n",
    "import time"
   ]
  },
  {
   "cell_type": "code",
   "execution_count": 2,
   "metadata": {},
   "outputs": [],
   "source": [
    "DIMENSIONS = 50\n",
    "DISPLAY_NAME = \"retail_demo_matching_engine\"\n",
    "DISPLAY_NAME_BRUTE_FORCE = DISPLAY_NAME + \"_brute_force\"\n",
    "\n",
    "PROJECT_ID = 'rec-ai-demo-326116' # Change to your project.\n",
    "BUCKET = 'rec_bq_jsw'\n",
    "INDEX_DIR = f'gs://{BUCKET}/bqml/scann_index'\n",
    "BQML_MODEL_DIR = f'gs://{BUCKET}/bqml/item_matching_model'\n",
    "LOOKUP_MODEL_DIR = f'gs://{BUCKET}/bqml/embedding_lookup_model'"
   ]
  },
  {
   "cell_type": "code",
   "execution_count": 16,
   "metadata": {},
   "outputs": [],
   "source": [
    "products = {\n",
    "    '4096': \"AX Paris Strapless Spot Print Orange Romper\",\n",
    "    '5120': \"Lee Women's Plus-Size Comfort Fit Straight Leg Pant\",\n",
    "    '7424': \"Allegra K Woman Plaid Elastic Waist Preppy Above Knee Skirt Gray Black S\",\n",
    "    '4352': \"Silver Jeans Juniors Suki Surplus Mid Rise Bootcut Jean\"\n",
    "}"
   ]
  },
  {
   "cell_type": "markdown",
   "metadata": {},
   "source": [
    "## Exact Matching"
   ]
  },
  {
   "cell_type": "code",
   "execution_count": 17,
   "metadata": {},
   "outputs": [],
   "source": [
    "class ExactMatcher(object):\n",
    "  def __init__(self, model_dir):\n",
    "    print(\"Loading exact matchg model...\")\n",
    "    self.model = tf.saved_model.load(model_dir)\n",
    "    print(\"Exact matchg model is loaded.\")\n",
    "  \n",
    "  def match(self, instances):\n",
    "    outputs = self.model.signatures['serving_default'](tf.constant(instances, tf.dtypes.int64))\n",
    "    return outputs['predicted_item2_Id'].numpy()"
   ]
  },
  {
   "cell_type": "code",
   "execution_count": 18,
   "metadata": {},
   "outputs": [
    {
     "name": "stdout",
     "output_type": "stream",
     "text": [
      "Loading exact matchg model...\n",
      "Exact matchg model is loaded.\n"
     ]
    }
   ],
   "source": [
    "exact_matcher = ExactMatcher(BQML_MODEL_DIR)"
   ]
  },
  {
   "cell_type": "code",
   "execution_count": 19,
   "metadata": {},
   "outputs": [
    {
     "name": "stdout",
     "output_type": "stream",
     "text": [
      "Elapsed time: 0.349 seconds - average time: 0.0008731639385223389 seconds\n"
     ]
    }
   ],
   "source": [
    "exact_matches = {}\n",
    "\n",
    "start_time = time.time()\n",
    "for i in range(100):\n",
    "  for song in products:\n",
    "    matches = exact_matcher.match([int(song)])\n",
    "    exact_matches[song] = matches.tolist()[0]\n",
    "end_time = time.time()\n",
    "exact_elapsed_time = end_time - start_time\n",
    "\n",
    "print(f'Elapsed time: {round(exact_elapsed_time, 3)} seconds - average time: {exact_elapsed_time / (100 * len(products))} seconds')"
   ]
  },
  {
   "cell_type": "markdown",
   "metadata": {},
   "source": [
    "## Approximate Matching (ScaNN)"
   ]
  },
  {
   "cell_type": "code",
   "execution_count": 20,
   "metadata": {},
   "outputs": [
    {
     "name": "stdout",
     "output_type": "stream",
     "text": [
      "Loading ScaNN index...\n",
      "ScaNN index is loadded.\n"
     ]
    }
   ],
   "source": [
    "from index_server.matching import ScaNNMatcher\n",
    "scann_matcher = ScaNNMatcher(INDEX_DIR)\n",
    "embedding_lookup = tf.saved_model.load(LOOKUP_MODEL_DIR)"
   ]
  },
  {
   "cell_type": "code",
   "execution_count": 22,
   "metadata": {},
   "outputs": [
    {
     "name": "stdout",
     "output_type": "stream",
     "text": [
      "Elapsed time: 0.402 seconds - average time: 0.001004766821861267 seconds\n"
     ]
    }
   ],
   "source": [
    "approx_matches = dict()\n",
    "\n",
    "start_time = time.time()\n",
    "for i in range(100):\n",
    "  for song in products:\n",
    "    vector = embedding_lookup([song]).numpy()[0]\n",
    "    matches = scann_matcher.match(vector, 50)\n",
    "    approx_matches[song] = matches\n",
    "end_time = time.time()\n",
    "scann_elapsed_time = end_time - start_time\n",
    "\n",
    "print(f'Elapsed time: {round(scann_elapsed_time, 3)} seconds - average time: {scann_elapsed_time / (100 * len(products))} seconds')"
   ]
  },
  {
   "cell_type": "code",
   "execution_count": 23,
   "metadata": {},
   "outputs": [
    {
     "name": "stdout",
     "output_type": "stream",
     "text": [
      "ScaNN speedup: 0.9x\n"
     ]
    }
   ],
   "source": [
    "speedup_percent = round(exact_elapsed_time / scann_elapsed_time, 1)\n",
    "print(f'ScaNN speedup: {speedup_percent}x')"
   ]
  },
  {
   "cell_type": "code",
   "execution_count": 31,
   "metadata": {},
   "outputs": [],
   "source": [
    "# Another visualization\n",
    "\n",
    "def get_stats(n_groups_of_four, matcher=scann_matcher):\n",
    "    m = dict()\n",
    "\n",
    "    start_time = time.time()\n",
    "    for i in range(n_groups_of_four):\n",
    "        for song in products:\n",
    "            vector = embedding_lookup([song]).numpy()[0]\n",
    "            if matcher == exact_matcher:\n",
    "                matches = matcher.match([int(song)])\n",
    "            else:\n",
    "                matches = matcher.match(vector, 50)\n",
    "            m[song] = matches\n",
    "    end_time = time.time()\n",
    "    elapsed_time = end_time - start_time\n",
    "    return elapsed_time"
   ]
  },
  {
   "cell_type": "code",
   "execution_count": null,
   "metadata": {},
   "outputs": [
    {
     "name": "stdout",
     "output_type": "stream",
     "text": [
      "Running loop for scann - total of 300000\n"
     ]
    }
   ],
   "source": [
    "# generate some data for retreiving matches, between ScaNN and BF (exact)\n",
    "import pandas as pd\n",
    "import seaborn as sns\n",
    "import time\n",
    "\n",
    "\n",
    "max_n_4 = 300_000 # number of iterations across the data - not too big only 4\n",
    "data = {\n",
    "    \"n_4\": [],\n",
    "    \"n_preds\": [],\n",
    "    \"run_time\": [],\n",
    "    \"matcher\": []\n",
    "}\n",
    "\n",
    "tt = 0\n",
    "# run a loop in scann\n",
    "print(f\"Running loop for scann - total of {max_n_4}\")\n",
    "for i in list(range(1, max_n_4, 1000)):\n",
    "    i = i**2\n",
    "    t = get_stats(i, matcher=scann_matcher)\n",
    "    data[\"n_4\"].append(i)\n",
    "    data[\"n_preds\"].append(i*4)\n",
    "    data[\"run_time\"].append(t)\n",
    "    data[\"matcher\"].append(\"scann\")\n",
    "    tt+=t\n",
    "\n",
    "tt1 = tt\n",
    "print(f\"Total time: {tt}\")\n",
    "tt = 0   \n",
    "print(f\"Running loop for brute force\")    \n",
    "# run a loop in brute force\n",
    "for i in list(range(1, max_n_4, 1000)):\n",
    "    i = i**2\n",
    "    t = get_stats(i, matcher=exact_matcher)\n",
    "    data[\"n_4\"].append(i)\n",
    "    data[\"n_preds\"].append(i*4)\n",
    "    data[\"run_time\"].append(t)\n",
    "    data[\"matcher\"].append(\"brute_force\")\n",
    "    tt+=t\n",
    "\n",
    "    \n",
    "print(f\"Total time: {tt}\")\n",
    "print(f\"Scann is {tt/tt1:.2f}x faster than Brute Force\")\n"
   ]
  },
  {
   "cell_type": "code",
   "execution_count": null,
   "metadata": {},
   "outputs": [],
   "source": [
    "%%markdown\n",
    "### Performance differences scale non-linearly\n",
    "As number of predictions increase between brute force and scann\n"
   ]
  },
  {
   "cell_type": "code",
   "execution_count": null,
   "metadata": {},
   "outputs": [],
   "source": [
    "sns.lineplot(data=data, x=\"n_preds\", y=\"run_time\", hue=\"matcher\")"
   ]
  },
  {
   "cell_type": "markdown",
   "metadata": {},
   "source": [
    "## License\n",
    "\n",
    "Copyright 2020 Google LLC\n",
    "\n",
    "Licensed under the Apache License, Version 2.0 (the \"License\");\n",
    "you may not use this file except in compliance with the License. You may obtain a copy of the License at: http://www.apache.org/licenses/LICENSE-2.0\n",
    "\n",
    "Unless required by applicable law or agreed to in writing, software distributed under the License is distributed on an \"AS IS\" BASIS, WITHOUT WARRANTIES OR CONDITIONS OF ANY KIND, either express or implied. \n",
    "\n",
    "See the License for the specific language governing permissions and limitations under the License.\n",
    "\n",
    "**This is not an official Google product but sample code provided for an educational purpose**"
   ]
  }
 ],
 "metadata": {
  "environment": {
   "name": "tf2-gpu.2-6.m79",
   "type": "gcloud",
   "uri": "gcr.io/deeplearning-platform-release/tf2-gpu.2-6:m79"
  },
  "kernelspec": {
   "display_name": "Python 3",
   "language": "python",
   "name": "python3"
  },
  "language_info": {
   "codemirror_mode": {
    "name": "ipython",
    "version": 3
   },
   "file_extension": ".py",
   "mimetype": "text/x-python",
   "name": "python",
   "nbconvert_exporter": "python",
   "pygments_lexer": "ipython3",
   "version": "3.7.10"
  }
 },
 "nbformat": 4,
 "nbformat_minor": 4
}
