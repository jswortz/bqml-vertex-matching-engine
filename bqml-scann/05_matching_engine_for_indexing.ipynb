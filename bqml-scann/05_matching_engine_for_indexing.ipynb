{
 "cells": [
  {
   "cell_type": "code",
   "execution_count": 1,
   "metadata": {
    "id": "ur8xi4C7S06n"
   },
   "outputs": [],
   "source": [
    "# Copyright 2021 Google LLC\n",
    "#\n",
    "# Licensed under the Apache License, Version 2.0 (the \"License\");\n",
    "# you may not use this file except in compliance with the License.\n",
    "# You may obtain a copy of the License at\n",
    "#\n",
    "#     https://www.apache.org/licenses/LICENSE-2.0\n",
    "#\n",
    "# Unless required by applicable law or agreed to in writing, software\n",
    "# distributed under the License is distributed on an \"AS IS\" BASIS,\n",
    "# WITHOUT WARRANTIES OR CONDITIONS OF ANY KIND, either express or implied.\n",
    "# See the License for the specific language governing permissions and\n",
    "# limitations under the License."
   ]
  },
  {
   "cell_type": "markdown",
   "metadata": {
    "id": "JAPoU8Sm5E6e"
   },
   "source": [
    "<table align=\"left\">\n",
    "\n",
    "  <td>\n",
    "    <a href=\"https://console.cloud.google.com/vertex-ai/notebooks/deploy-notebook?download_url=https://github.com/GoogleCloudPlatform/vertex-ai-samples/blob/master/notebooks/community/matching_engine/matching_engine_for_indexing.ipynb\">\n",
    "      Run in Google Cloud Notebooks\n",
    "    </a>\n",
    "  </td>\n",
    "  <td>\n",
    "    <a href=\"https://github.com/GoogleCloudPlatform/vertex-ai-samples/blob/master/notebooks/community/matching_engine/matching_engine_for_indexing.ipynb\">\n",
    "      <img src=\"https://cloud.google.com/ml-engine/images/github-logo-32px.png\" alt=\"GitHub logo\">\n",
    "      View on GitHub\n",
    "    </a>\n",
    "  </td>\n",
    "</table>"
   ]
  },
  {
   "cell_type": "markdown",
   "metadata": {
    "id": "tvgnzT1CKxrO"
   },
   "source": [
    "## Overview\n",
    "\n",
    "This example demonstrates how to use the GCP ANN Service. It is a high scale, low latency solution, to find similar vectors (or more specifically \"embeddings\") for a large corpus. Moreover, it is a fully managed offering, further reducing operational overhead. It is built upon [Approximate Nearest Neighbor (ANN) technology](https://ai.googleblog.com/2020/07/announcing-scann-efficient-vector.html) developed by Google Research.\n",
    "\n",
    "### Dataset\n",
    "\n",
    "The dataset used for this tutorial is the [GloVe dataset](https://nlp.stanford.edu/projects/glove/).\n",
    "\n",
    "### Objective\n",
    "\n",
    "In this notebook, you will learn how to create Approximate Nearest Neighbor (ANN) Index, query against indexes, and validate the performance of the index. \n",
    "\n",
    "The steps performed include:\n",
    "\n",
    "* Create ANN Index and Brute Force Index\n",
    "* Create an IndexEndpoint with VPC Network\n",
    "* Deploy ANN Index and Brute Force Index\n",
    "* Perform online query\n",
    "* Compute recall\n",
    "\n",
    "\n",
    "### Costs \n",
    "\n",
    "This tutorial uses billable components of Google Cloud:\n",
    "\n",
    "* Vertex AI\n",
    "* Cloud Storage\n",
    "\n",
    "Learn about [Vertex AI\n",
    "pricing](https://cloud.google.com/vertex-ai/pricing) and [Cloud Storage\n",
    "pricing](https://cloud.google.com/storage/pricing), and use the [Pricing\n",
    "Calculator](https://cloud.google.com/products/calculator/)\n",
    "to generate a cost estimate based on your projected usage."
   ]
  },
  {
   "cell_type": "markdown",
   "metadata": {
    "id": "S5zc4kbEiYCm"
   },
   "source": [
    "## Before you begin\n",
    "\n",
    "* **Prepare a VPC network**.  To reduce any network overhead that might lead to unnecessary increase in overhead latency, it is best to call the ANN endpoints from your VPC via a direct [VPC Peering](https://cloud.google.com/vertex-ai/docs/general/vpc-peering) connection. The following section describes how to setup a VPC Peering connection if you don't have one. This is a one-time initial setup task. You can also reuse existing VPC network and skip this section.\n",
    "* **WARNING:** The match service gRPC API (to create online queries against your deployed index) has to be executed in a Google Cloud Notebook instance that is created with the following requirements:\n",
    "  * **In the same region as where your ANN service is deployed** (for example, if you set `REGION = \"us-central1\"` as same as the tutorial, the notebook instance has to be in `us-central1`).\n",
    "  * **Make sure you select the VPC network you created for ANN service** (instead of using the \"default\" one). That is, you will have to create the VPC network below and then create a new notebook instance that uses that VPC.  \n",
    "  * If you run it in the colab or a Google Cloud Notebook instance in a different VPC network or region, the gRPC API will fail to peer the network (InactiveRPCError)."
   ]
  },
  {
   "cell_type": "code",
   "execution_count": 2,
   "metadata": {
    "id": "lW2LneA5mmmP"
   },
   "outputs": [],
   "source": [
    "PROJECT_ID = 'rec-ai-demo-326116'  # @param {type:\"string\"}\n",
    "NETWORK_NAME = \"default\"  # @param {type:\"string\"}\n",
    "PEERING_RANGE_NAME = 'google-reserved-range'\n",
    "BUCKET = 'rec_bq_jsw' # Change to the bucket you created.\n"
   ]
  },
  {
   "cell_type": "code",
   "execution_count": null,
   "metadata": {},
   "outputs": [],
   "source": [
    "# # Run this only once - this sets up your sub nets to provide high-speed predictions\n",
    "\n",
    "# # Create a VPC network\n",
    "# ! gcloud compute networks create {NETWORK_NAME} --bgp-routing-mode=regional --subnet-mode=auto --project={PROJECT_ID}\n",
    "\n",
    "# # Add necessary firewall rules\n",
    "# ! gcloud compute firewall-rules create {NETWORK_NAME}-allow-icmp --network {NETWORK_NAME} --priority 65534 --project {PROJECT_ID} --allow icmp\n",
    "\n",
    "# ! gcloud compute firewall-rules create {NETWORK_NAME}-allow-internal --network {NETWORK_NAME} --priority 65534 --project {PROJECT_ID} --allow all --source-ranges 10.128.0.0/9\n",
    "\n",
    "# ! gcloud compute firewall-rules create {NETWORK_NAME}-allow-rdp --network {NETWORK_NAME} --priority 65534 --project {PROJECT_ID} --allow tcp:3389\n",
    "\n",
    "# ! gcloud compute firewall-rules create {NETWORK_NAME}-allow-ssh --network {NETWORK_NAME} --priority 65534 --project {PROJECT_ID} --allow tcp:22\n",
    "\n",
    "# # Reserve IP range\n",
    "# ! gcloud compute addresses create {PEERING_RANGE_NAME} --global --prefix-length=16 --network={NETWORK_NAME} --purpose=VPC_PEERING --project={PROJECT_ID} --description=\"peering range for uCAIP Haystack.\"\n",
    "\n",
    "# # Set up peering with service networking\n",
    "# ! gcloud services vpc-peerings connect --service=servicenetworking.googleapis.com --network={NETWORK_NAME} --ranges={PEERING_RANGE_NAME} --project={PROJECT_ID}"
   ]
  },
  {
   "cell_type": "markdown",
   "metadata": {
    "id": "d3uj8x73nDX_"
   },
   "source": [
    "* Authentication: `$ gcloud auth login` rerun this in Google Cloud Notebook terminal when you are logged out and need the credential again."
   ]
  },
  {
   "cell_type": "markdown",
   "metadata": {
    "id": "i7EUnXsZhAGF"
   },
   "source": [
    "### Installation\n",
    "\n",
    "Download and install the latest (preview) version of the Vertex SDK for Python."
   ]
  },
  {
   "cell_type": "markdown",
   "metadata": {
    "id": "irSMQn6gZ19l"
   },
   "source": [
    "Install the `grpcio-tools` for querying against the index. "
   ]
  },
  {
   "cell_type": "code",
   "execution_count": 5,
   "metadata": {
    "id": "-h5sqwOEZ5Yq"
   },
   "outputs": [
    {
     "name": "stdout",
     "output_type": "stream",
     "text": [
      "\u001b[33mWARNING: Ignoring invalid distribution -ensorflow (/home/jupyter/.local/lib/python3.7/site-packages)\u001b[0m\n",
      "\u001b[33mWARNING: Ignoring invalid distribution -ensorflow (/home/jupyter/.local/lib/python3.7/site-packages)\u001b[0m\n",
      "\u001b[33mWARNING: Ignoring invalid distribution -ensorflow (/home/jupyter/.local/lib/python3.7/site-packages)\u001b[0m\n",
      "\u001b[33mWARNING: Ignoring invalid distribution -ensorflow (/home/jupyter/.local/lib/python3.7/site-packages)\u001b[0m\n",
      "\u001b[33mWARNING: Ignoring invalid distribution -ensorflow (/home/jupyter/.local/lib/python3.7/site-packages)\u001b[0m\n"
     ]
    }
   ],
   "source": [
    "! pip install -U -q grpcio-tools --user"
   ]
  },
  {
   "cell_type": "markdown",
   "metadata": {
    "id": "hhq5zEbGg0XX"
   },
   "source": [
    "### Restart the kernel\n",
    "\n",
    "After you install the additional packages, you need to restart the notebook kernel so it can find the packages."
   ]
  },
  {
   "cell_type": "code",
   "execution_count": 4,
   "metadata": {
    "id": "EzrelQZ22IZj"
   },
   "outputs": [],
   "source": [
    "# Automatically restart kernel after installs\n",
    "import os\n",
    "\n",
    "if not os.getenv(\"IS_TESTING\"):\n",
    "    # Automatically restart kernel after installs\n",
    "    import IPython\n",
    "\n",
    "    app = IPython.Application.instance()\n",
    "    app.kernel.do_shutdown(True)"
   ]
  },
  {
   "cell_type": "markdown",
   "metadata": {
    "id": "BF1j6f9HApxa"
   },
   "source": [
    "### Set up your Google Cloud project\n",
    "\n",
    "**The following steps are required, regardless of your notebook environment.**\n",
    "\n",
    "1. [Select or create a Google Cloud project](https://console.cloud.google.com/cloud-resource-manager).\n",
    "\n",
    "1. [Make sure that billing is enabled for your project](https://cloud.google.com/billing/docs/how-to/modify-project).\n",
    "\n",
    "1. [Enable the Vertex AI API and Compute Engine API, and Service Networking API](https://console.cloud.google.com/flows/enableapi?apiid=aiplatform.googleapis.com,compute_component,servicenetworking.googleapis.com).\n",
    "\n",
    "1. Enter your project ID in the cell below. Then run the cell to make sure the\n",
    "Cloud SDK uses the right project for all the commands in this notebook.\n",
    "\n",
    "**Note**: Jupyter runs lines prefixed with `!` as shell commands, and it interpolates Python variables prefixed with `$` into these commands."
   ]
  },
  {
   "cell_type": "markdown",
   "metadata": {
    "id": "WReHDGG5g0XY"
   },
   "source": [
    "#### Set your project ID\n",
    "\n",
    "**If you don't know your project ID**, you may be able to get your project ID using `gcloud`."
   ]
  },
  {
   "cell_type": "markdown",
   "metadata": {
    "id": "zgPO1eR3CYjk"
   },
   "source": [
    "### Reference existing embeddings in bucket\n",
    "\n",
    "**The following steps are required, regardless of your notebook environment.**\n",
    "\n",
    "Set the name of your Cloud Storage bucket below. This should be the same bucket used in notebook `02_export_bqml_mf_embeddings.ipynb`\n",
    "\n",
    "You may also change the `REGION` variable, which is used for operations\n",
    "throughout the rest of this notebook. Make sure to [choose a region where Vertex AI services are\n",
    "available](https://cloud.google.com/vertex-ai/docs/general/locations#available_regions). You may\n",
    "not use a Multi-Regional Storage bucket for training with Vertex AI."
   ]
  },
  {
   "cell_type": "code",
   "execution_count": 3,
   "metadata": {
    "id": "MzGDU7TWdts_"
   },
   "outputs": [],
   "source": [
    "BUCKET_NAME = f\"gs://{BUCKET}/bqml/item_embeddings\"  # @param {type:\"string\"}\n",
    "REGION = \"us-central1\"  # @param {type:\"string\"}"
   ]
  },
  {
   "cell_type": "markdown",
   "metadata": {
    "id": "-EcIXiGsCePi"
   },
   "source": [
    "**Only if your bucket doesn't already exist**: Run the following cell to create your Cloud Storage bucket."
   ]
  },
  {
   "cell_type": "code",
   "execution_count": 8,
   "metadata": {
    "id": "NIq7R4HZCfIc"
   },
   "outputs": [],
   "source": [
    "# ! gsutil mb -l $REGION $BUCKET_NAME"
   ]
  },
  {
   "cell_type": "markdown",
   "metadata": {
    "id": "ucvCsknMCims"
   },
   "source": [
    "Finally, validate access to your Cloud Storage bucket by examining its contents:"
   ]
  },
  {
   "cell_type": "code",
   "execution_count": 9,
   "metadata": {
    "id": "vhOb7YnwClBb"
   },
   "outputs": [],
   "source": [
    "# ! gsutil ls -al $BUCKET_NAME"
   ]
  },
  {
   "cell_type": "markdown",
   "metadata": {
    "id": "XoEqT2Y4DJmf"
   },
   "source": [
    "### Import libraries and define constants"
   ]
  },
  {
   "cell_type": "markdown",
   "metadata": {
    "id": "Y9Uo3tifg1kx"
   },
   "source": [
    "Import the Vertex AI (unified) client library into your Python environment. \n"
   ]
  },
  {
   "cell_type": "code",
   "execution_count": 4,
   "metadata": {
    "id": "f2d05ab4126a"
   },
   "outputs": [],
   "source": [
    "import time\n",
    "\n",
    "import grpc\n",
    "from google.cloud import aiplatform_v1beta1\n",
    "from google.protobuf import struct_pb2"
   ]
  },
  {
   "cell_type": "code",
   "execution_count": 5,
   "metadata": {
    "id": "pRUOFELefqf1"
   },
   "outputs": [
    {
     "name": "stdout",
     "output_type": "stream",
     "text": [
      "ENDPOINT: us-central1-aiplatform.googleapis.com\n",
      "PROJECT_ID: rec-ai-demo-326116\n",
      "REGION: us-central1\n",
      "Updated property [core/project].\n",
      "Updated property [ai_platform/region].\n"
     ]
    }
   ],
   "source": [
    "REGION = \"us-central1\"\n",
    "ENDPOINT = \"{}-aiplatform.googleapis.com\".format(REGION)\n",
    "NETWORK_NAME = \"default\"  # @param {type:\"string\"}\n",
    "\n",
    "\n",
    "AUTH_TOKEN = !gcloud auth print-access-token\n",
    "PROJECT_NUMBER = !gcloud projects list --filter=\"PROJECT_ID:'{PROJECT_ID}'\" --format='value(PROJECT_NUMBER)'\n",
    "PROJECT_NUMBER = PROJECT_NUMBER[0]\n",
    "\n",
    "PARENT = \"projects/{}/locations/{}\".format(PROJECT_ID, REGION)\n",
    "\n",
    "print(\"ENDPOINT: {}\".format(ENDPOINT))\n",
    "print(\"PROJECT_ID: {}\".format(PROJECT_ID))\n",
    "print(\"REGION: {}\".format(REGION))\n",
    "\n",
    "!gcloud config set project {PROJECT_ID}\n",
    "!gcloud config set ai_platform/region {REGION}"
   ]
  },
  {
   "cell_type": "markdown",
   "metadata": {
    "id": "lR6Wwv-hCCN-"
   },
   "source": [
    "## Prepare the Data\n",
    "\n",
    "This data is generated from the 00-05 notebooks leveraging the css-retail dataset in BQ\n",
    "You can find the example on [`02_export_bqml_mf_embeddings.ipynb`](02_export_bqml_mf_embeddings.ipynb) (linked)"
   ]
  },
  {
   "cell_type": "markdown",
   "metadata": {
    "id": "QuVl8DrWG8NS"
   },
   "source": [
    "The output csv from 02 can be found here"
   ]
  },
  {
   "cell_type": "code",
   "execution_count": 6,
   "metadata": {
    "id": "3RX6g7FaJFes"
   },
   "outputs": [
    {
     "name": "stdout",
     "output_type": "stream",
     "text": [
      "gs://rec_bq_jsw/bqml/item_embeddings/embeddings-00000-of-00001.csv\n"
     ]
    }
   ],
   "source": [
    "! gsutil ls {BUCKET_NAME}"
   ]
  },
  {
   "cell_type": "markdown",
   "metadata": {
    "id": "mglUPwHpJH98"
   },
   "source": [
    "## Create Indexes\n"
   ]
  },
  {
   "cell_type": "markdown",
   "metadata": {
    "id": "qhIBCQ7dDSbW"
   },
   "source": [
    "### Create ANN Index (for Production Usage)"
   ]
  },
  {
   "cell_type": "code",
   "execution_count": 7,
   "metadata": {
    "id": "DDAvm_mj_BVs"
   },
   "outputs": [],
   "source": [
    "index_client = aiplatform_v1beta1.IndexServiceClient(\n",
    "    client_options=dict(api_endpoint=ENDPOINT)\n",
    ")"
   ]
  },
  {
   "cell_type": "code",
   "execution_count": 6,
   "metadata": {
    "id": "qiIg9b5zJLi1"
   },
   "outputs": [],
   "source": [
    "DIMENSIONS = 50\n",
    "DISPLAY_NAME = \"retail_demo_matching_engine\"\n",
    "DISPLAY_NAME_BRUTE_FORCE = DISPLAY_NAME + \"_brute_force\""
   ]
  },
  {
   "cell_type": "markdown",
   "metadata": {
    "id": "svLYiDf0OD2G"
   },
   "source": [
    "Create the ANN index configuration:\n",
    "\n",
    "Please read the documentation to understand the various configuration parameters that can be used to tune the index\n"
   ]
  },
  {
   "cell_type": "code",
   "execution_count": 11,
   "metadata": {
    "id": "Tfa8IoNrOCJh"
   },
   "outputs": [],
   "source": [
    "treeAhConfig = struct_pb2.Struct(\n",
    "    fields={\n",
    "        \"leafNodeEmbeddingCount\": struct_pb2.Value(number_value=500),\n",
    "        \"leafNodesToSearchPercent\": struct_pb2.Value(number_value=7),\n",
    "    }\n",
    ")\n",
    "\n",
    "algorithmConfig = struct_pb2.Struct(\n",
    "    fields={\"treeAhConfig\": struct_pb2.Value(struct_value=treeAhConfig)}\n",
    ")\n",
    "\n",
    "config = struct_pb2.Struct(\n",
    "    fields={\n",
    "        \"dimensions\": struct_pb2.Value(number_value=DIMENSIONS),\n",
    "        \"approximateNeighborsCount\": struct_pb2.Value(number_value=150),\n",
    "        \"distanceMeasureType\": struct_pb2.Value(string_value=\"DOT_PRODUCT_DISTANCE\"),\n",
    "        \"algorithmConfig\": struct_pb2.Value(struct_value=algorithmConfig),\n",
    "    }\n",
    ")\n",
    "\n",
    "metadata = struct_pb2.Struct(\n",
    "    fields={\n",
    "        \"config\": struct_pb2.Value(struct_value=config),\n",
    "        \"contentsDeltaUri\": struct_pb2.Value(string_value=BUCKET_NAME),\n",
    "    }\n",
    ")\n",
    "\n",
    "ann_index = {\n",
    "    \"display_name\": DISPLAY_NAME,\n",
    "    \"description\": \"Retail 50 Index\",\n",
    "    \"metadata\": struct_pb2.Value(struct_value=metadata),\n",
    "}"
   ]
  },
  {
   "cell_type": "code",
   "execution_count": 12,
   "metadata": {
    "id": "xzY7TpUSJcTV"
   },
   "outputs": [],
   "source": [
    "ann_index = index_client.create_index(parent=PARENT, index=ann_index)"
   ]
  },
  {
   "cell_type": "code",
   "execution_count": 13,
   "metadata": {
    "id": "oLBD2xXG_tv7"
   },
   "outputs": [
    {
     "name": "stdout",
     "output_type": "stream",
     "text": [
      "Poll the operation to create index...\n",
      "Poll the operation to create index...\n",
      "Poll the operation to create index...\n",
      "Poll the operation to create index...\n",
      "Poll the operation to create index...\n",
      "Poll the operation to create index...\n",
      "Poll the operation to create index...\n",
      "Poll the operation to create index...\n",
      "Poll the operation to create index...\n",
      "Poll the operation to create index...\n",
      "Poll the operation to create index...\n",
      "Poll the operation to create index...\n",
      "Poll the operation to create index...\n",
      "Poll the operation to create index...\n",
      "Poll the operation to create index...\n",
      "Poll the operation to create index...\n",
      "Poll the operation to create index...\n",
      "Poll the operation to create index...\n",
      "Poll the operation to create index...\n",
      "Poll the operation to create index...\n",
      "Poll the operation to create index...\n",
      "Poll the operation to create index...\n",
      "Poll the operation to create index...\n",
      "Poll the operation to create index...\n",
      "Poll the operation to create index...\n",
      "Poll the operation to create index...\n",
      "Poll the operation to create index...\n",
      "Poll the operation to create index...\n",
      "Poll the operation to create index...\n",
      "Poll the operation to create index...\n"
     ]
    }
   ],
   "source": [
    "# Poll the operation until it's done successfullly.\n",
    "# This will take ~50 min.\n",
    "\n",
    "while True:\n",
    "    if ann_index.done():\n",
    "        break\n",
    "    print(\"Poll the operation to create index...\")\n",
    "    time.sleep(60)"
   ]
  },
  {
   "cell_type": "code",
   "execution_count": 14,
   "metadata": {
    "id": "17jrQi501QyX"
   },
   "outputs": [
    {
     "data": {
      "text/plain": [
       "'projects/733956866731/locations/us-central1/indexes/7785914515165544448'"
      ]
     },
     "execution_count": 14,
     "metadata": {},
     "output_type": "execute_result"
    }
   ],
   "source": [
    "INDEX_RESOURCE_NAME = ann_index.result().name\n",
    "INDEX_RESOURCE_NAME"
   ]
  },
  {
   "cell_type": "markdown",
   "metadata": {
    "id": "kSsqZuyoA1SG"
   },
   "source": [
    "### Create Brute Force Index (for Ground Truth)\n",
    "\n",
    "The brute force index uses a naive brute force method to find the nearest neighbors. This method is not fast or efficient. Hence brute force indices are not recommended for production usage. They are to be used to find the \"ground truth\" set of neighbors, so that the \"ground truth\" set can be used to measure recall of the indices being tuned for production usage. To ensure an apples to apples comparison, the `distanceMeasureType` and `featureNormType`, `dimensions` of the brute force index should match those of the production indices being tuned.\n",
    "\n",
    "Create the brute force index configuration:"
   ]
  },
  {
   "cell_type": "code",
   "execution_count": 15,
   "metadata": {
    "id": "5ExrilcZA87V"
   },
   "outputs": [],
   "source": [
    "from google.protobuf import *\n",
    "\n",
    "algorithmConfig = struct_pb2.Struct(\n",
    "    fields={\"bruteForceConfig\": struct_pb2.Value(struct_value=struct_pb2.Struct())}\n",
    ")\n",
    "\n",
    "config = struct_pb2.Struct(\n",
    "    fields={\n",
    "        \"dimensions\": struct_pb2.Value(number_value=DIMENSIONS),\n",
    "        \"approximateNeighborsCount\": struct_pb2.Value(number_value=150),\n",
    "        \"distanceMeasureType\": struct_pb2.Value(string_value=\"DOT_PRODUCT_DISTANCE\"),\n",
    "        \"algorithmConfig\": struct_pb2.Value(struct_value=algorithmConfig),\n",
    "    }\n",
    ")\n",
    "\n",
    "metadata = struct_pb2.Struct(\n",
    "    fields={\n",
    "        \"config\": struct_pb2.Value(struct_value=config),\n",
    "        \"contentsDeltaUri\": struct_pb2.Value(string_value=BUCKET_NAME),\n",
    "    }\n",
    ")\n",
    "\n",
    "brute_force_index = {\n",
    "    \"display_name\": DISPLAY_NAME_BRUTE_FORCE,\n",
    "    \"description\": \"Glove 100 index (brute force)\",\n",
    "    \"metadata\": struct_pb2.Value(struct_value=metadata),\n",
    "}"
   ]
  },
  {
   "cell_type": "code",
   "execution_count": 16,
   "metadata": {
    "id": "DXnBLqjXBsv8"
   },
   "outputs": [],
   "source": [
    "brute_force_index = index_client.create_index(parent=PARENT, index=brute_force_index)"
   ]
  },
  {
   "cell_type": "code",
   "execution_count": 17,
   "metadata": {
    "id": "AtwELX4Peq2n"
   },
   "outputs": [
    {
     "name": "stdout",
     "output_type": "stream",
     "text": [
      "Poll the operation to create index...\n",
      "Poll the operation to create index...\n",
      "Poll the operation to create index...\n",
      "Poll the operation to create index...\n",
      "Poll the operation to create index...\n",
      "Poll the operation to create index...\n",
      "Poll the operation to create index...\n",
      "Poll the operation to create index...\n",
      "Poll the operation to create index...\n",
      "Poll the operation to create index...\n",
      "Poll the operation to create index...\n",
      "Poll the operation to create index...\n",
      "Poll the operation to create index...\n",
      "Poll the operation to create index...\n",
      "Poll the operation to create index...\n",
      "Poll the operation to create index...\n",
      "Poll the operation to create index...\n",
      "Poll the operation to create index...\n",
      "Poll the operation to create index...\n",
      "Poll the operation to create index...\n",
      "Poll the operation to create index...\n",
      "Poll the operation to create index...\n",
      "Poll the operation to create index...\n",
      "Poll the operation to create index...\n",
      "Poll the operation to create index...\n",
      "Poll the operation to create index...\n",
      "Poll the operation to create index...\n"
     ]
    }
   ],
   "source": [
    "# Poll the operation until it's done successfullly.\n",
    "# This will take ~45 min.\n",
    "\n",
    "while True:\n",
    "    if brute_force_index.done():\n",
    "        break\n",
    "    print(\"Poll the operation to create index...\")\n",
    "    time.sleep(60)"
   ]
  },
  {
   "cell_type": "code",
   "execution_count": 18,
   "metadata": {
    "id": "_oD5SieYJbbW"
   },
   "outputs": [
    {
     "data": {
      "text/plain": [
       "'projects/733956866731/locations/us-central1/indexes/3164095397576572928'"
      ]
     },
     "execution_count": 18,
     "metadata": {},
     "output_type": "execute_result"
    }
   ],
   "source": [
    "INDEX_BRUTE_FORCE_RESOURCE_NAME = brute_force_index.result().name\n",
    "INDEX_BRUTE_FORCE_RESOURCE_NAME"
   ]
  },
  {
   "cell_type": "markdown",
   "metadata": {
    "id": "mglUPwHpJH98"
   },
   "source": [
    "## Update Indexes\n",
    "\n",
    "Create incremental data file.\n"
   ]
  },
  {
   "cell_type": "code",
   "execution_count": 19,
   "metadata": {},
   "outputs": [],
   "source": [
    "INC_BUCKET = \"gs://rec_bq_jsw/bqml/incremental\""
   ]
  },
  {
   "cell_type": "code",
   "execution_count": 20,
   "metadata": {
    "id": "DDAvm_mj_BVs"
   },
   "outputs": [],
   "source": [
    "zero_emb_line = [0] + [0.0]*(DIMENSIONS) # +1 for ID = 0\n",
    "\n",
    "with open(\"prod_emb_incremental.csv\", \"w\") as f:\n",
    "    f.write(\n",
    "        ','.join([str(i) for i in zero_emb_line]) + \"\\n\"\n",
    "    )"
   ]
  },
  {
   "cell_type": "markdown",
   "metadata": {
    "id": "svLYiDf0OD2G"
   },
   "source": [
    "Copy the incremental data file to a new subdirectory.\n"
   ]
  },
  {
   "cell_type": "code",
   "execution_count": 21,
   "metadata": {
    "id": "DDAvm_mj_BVs"
   },
   "outputs": [
    {
     "name": "stdout",
     "output_type": "stream",
     "text": [
      "Copying file://prod_emb_incremental.csv [Content-Type=text/csv]...\n",
      "/ [1 files][  202.0 B/  202.0 B]                                                \n",
      "Operation completed over 1 objects/202.0 B.                                      \n"
     ]
    }
   ],
   "source": [
    "! gsutil cp prod_emb_incremental.csv {INC_BUCKET}/prod_emb_incremental.csv"
   ]
  },
  {
   "cell_type": "markdown",
   "metadata": {
    "id": "svLYiDf0OD2G"
   },
   "source": [
    "Create update index request\n"
   ]
  },
  {
   "cell_type": "code",
   "execution_count": 22,
   "metadata": {
    "id": "DDAvm_mj_BVs"
   },
   "outputs": [],
   "source": [
    "metadata = struct_pb2.Struct(\n",
    "    fields={\n",
    "        \"contentsDeltaUri\": struct_pb2.Value(string_value=INC_BUCKET),\n",
    "        \"isCompleteOverwrite\": struct_pb2.Value(bool_value=False)\n",
    "    }\n",
    ")\n",
    "\n",
    "ann_index = {\n",
    "    \"name\": INDEX_RESOURCE_NAME,\n",
    "    \"display_name\": DISPLAY_NAME,\n",
    "    \"description\": \"Retail 50 Index\",\n",
    "    \"metadata\": struct_pb2.Value(struct_value=metadata),\n",
    "}"
   ]
  },
  {
   "cell_type": "code",
   "execution_count": 23,
   "metadata": {
    "id": "DDAvm_mj_BVs"
   },
   "outputs": [],
   "source": [
    "ann_index = index_client.update_index(index=ann_index)"
   ]
  },
  {
   "cell_type": "code",
   "execution_count": 24,
   "metadata": {
    "id": "DDAvm_mj_BVs"
   },
   "outputs": [
    {
     "name": "stdout",
     "output_type": "stream",
     "text": [
      "Poll the operation to update index...\n",
      "Poll the operation to update index...\n",
      "Poll the operation to update index...\n",
      "Poll the operation to update index...\n",
      "Poll the operation to update index...\n",
      "Poll the operation to update index...\n",
      "Poll the operation to update index...\n",
      "Poll the operation to update index...\n",
      "Poll the operation to update index...\n",
      "Poll the operation to update index...\n",
      "Poll the operation to update index...\n",
      "Poll the operation to update index...\n",
      "Poll the operation to update index...\n",
      "Poll the operation to update index...\n",
      "Poll the operation to update index...\n",
      "Poll the operation to update index...\n",
      "Poll the operation to update index...\n",
      "Poll the operation to update index...\n",
      "Poll the operation to update index...\n",
      "Poll the operation to update index...\n",
      "Poll the operation to update index...\n",
      "Poll the operation to update index...\n",
      "Poll the operation to update index...\n",
      "Poll the operation to update index...\n",
      "Poll the operation to update index...\n",
      "Poll the operation to update index...\n",
      "Poll the operation to update index...\n",
      "Poll the operation to update index...\n",
      "Poll the operation to update index...\n",
      "Poll the operation to update index...\n"
     ]
    }
   ],
   "source": [
    "# Poll the operation until it's done successfullly.\n",
    "# This will take ~45 min.\n",
    "\n",
    "while True:\n",
    "    if ann_index.done():\n",
    "        break\n",
    "    print(\"Poll the operation to update index...\")\n",
    "    time.sleep(60)"
   ]
  },
  {
   "cell_type": "code",
   "execution_count": 25,
   "metadata": {
    "id": "DDAvm_mj_BVs"
   },
   "outputs": [
    {
     "data": {
      "text/plain": [
       "'projects/733956866731/locations/us-central1/indexes/7785914515165544448'"
      ]
     },
     "execution_count": 25,
     "metadata": {},
     "output_type": "execute_result"
    }
   ],
   "source": [
    "INDEX_RESOURCE_NAME = ann_index.result().name\n",
    "INDEX_RESOURCE_NAME"
   ]
  },
  {
   "cell_type": "markdown",
   "metadata": {
    "id": "qV2xjAnDDObD"
   },
   "source": [
    "## Create an IndexEndpoint with VPC Network"
   ]
  },
  {
   "cell_type": "code",
   "execution_count": 26,
   "metadata": {
    "id": "2AWeQ6e04m36"
   },
   "outputs": [],
   "source": [
    "index_endpoint_client = aiplatform_v1beta1.IndexEndpointServiceClient(\n",
    "    client_options=dict(api_endpoint=ENDPOINT)\n",
    ")"
   ]
  },
  {
   "cell_type": "code",
   "execution_count": 27,
   "metadata": {
    "id": "BpZQoJyxDlbO"
   },
   "outputs": [
    {
     "data": {
      "text/plain": [
       "'projects/733956866731/global/networks/default'"
      ]
     },
     "execution_count": 27,
     "metadata": {},
     "output_type": "execute_result"
    }
   ],
   "source": [
    "VPC_NETWORK_NAME = \"projects/{}/global/networks/{}\".format(PROJECT_NUMBER, NETWORK_NAME)\n",
    "VPC_NETWORK_NAME"
   ]
  },
  {
   "cell_type": "code",
   "execution_count": 28,
   "metadata": {
    "id": "mColTdkIDoVZ"
   },
   "outputs": [],
   "source": [
    "index_endpoint = {\n",
    "    \"display_name\": \"index_endpoint_for_demo\",\n",
    "    \"network\": VPC_NETWORK_NAME,\n",
    "}"
   ]
  },
  {
   "cell_type": "code",
   "execution_count": 29,
   "metadata": {
    "id": "QuARXzJVGyQX"
   },
   "outputs": [],
   "source": [
    "r = index_endpoint_client.create_index_endpoint(\n",
    "    parent=PARENT, index_endpoint=index_endpoint\n",
    ")"
   ]
  },
  {
   "cell_type": "code",
   "execution_count": 30,
   "metadata": {
    "id": "YRL1AYF_HpZR"
   },
   "outputs": [
    {
     "data": {
      "text/plain": [
       "name: \"projects/733956866731/locations/us-central1/indexEndpoints/7051546300927442944\""
      ]
     },
     "execution_count": 30,
     "metadata": {},
     "output_type": "execute_result"
    }
   ],
   "source": [
    "r.result()"
   ]
  },
  {
   "cell_type": "code",
   "execution_count": 31,
   "metadata": {
    "id": "PJ3bcZqi-cfM"
   },
   "outputs": [
    {
     "data": {
      "text/plain": [
       "'projects/733956866731/locations/us-central1/indexEndpoints/7051546300927442944'"
      ]
     },
     "execution_count": 31,
     "metadata": {},
     "output_type": "execute_result"
    }
   ],
   "source": [
    "INDEX_ENDPOINT_NAME = r.result().name\n",
    "INDEX_ENDPOINT_NAME"
   ]
  },
  {
   "cell_type": "markdown",
   "metadata": {
    "id": "np2cgVuuIe9k"
   },
   "source": [
    "## Deploy Indexes"
   ]
  },
  {
   "cell_type": "markdown",
   "metadata": {
    "id": "8Ew1UgcIIiJG"
   },
   "source": [
    "### Deploy ANN Index"
   ]
  },
  {
   "cell_type": "code",
   "execution_count": 32,
   "metadata": {
    "id": "nLOYTGygIlMK"
   },
   "outputs": [],
   "source": [
    "DEPLOYED_INDEX_ID = \"ann_prod50_deployed2\""
   ]
  },
  {
   "cell_type": "code",
   "execution_count": 33,
   "metadata": {
    "id": "M-W5LYQrKTzi"
   },
   "outputs": [],
   "source": [
    "deploy_ann_index = {\n",
    "    \"id\": DEPLOYED_INDEX_ID,\n",
    "    \"display_name\": DEPLOYED_INDEX_ID,\n",
    "    \"index\": INDEX_RESOURCE_NAME,\n",
    "}"
   ]
  },
  {
   "cell_type": "code",
   "execution_count": 34,
   "metadata": {
    "id": "_uK4WOgqN1NG"
   },
   "outputs": [],
   "source": [
    "r = index_endpoint_client.deploy_index(\n",
    "    index_endpoint=INDEX_ENDPOINT_NAME, deployed_index=deploy_ann_index\n",
    ")"
   ]
  },
  {
   "cell_type": "code",
   "execution_count": 35,
   "metadata": {
    "id": "2Lt0jvsSeekz"
   },
   "outputs": [
    {
     "name": "stdout",
     "output_type": "stream",
     "text": [
      "Poll the operation to deploy index...\n",
      "Poll the operation to deploy index...\n",
      "Poll the operation to deploy index...\n",
      "Poll the operation to deploy index...\n"
     ]
    }
   ],
   "source": [
    "# Poll the operation until it's done successfullly.\n",
    "\n",
    "while True:\n",
    "    if r.done():\n",
    "        break\n",
    "    print(\"Poll the operation to deploy index...\")\n",
    "    time.sleep(60)"
   ]
  },
  {
   "cell_type": "code",
   "execution_count": 36,
   "metadata": {
    "id": "8ajRpqe2J9aS"
   },
   "outputs": [
    {
     "data": {
      "text/plain": [
       "deployed_index {\n",
       "  id: \"ann_prod50_deployed2\"\n",
       "}"
      ]
     },
     "execution_count": 36,
     "metadata": {},
     "output_type": "execute_result"
    }
   ],
   "source": [
    "r.result()"
   ]
  },
  {
   "cell_type": "markdown",
   "metadata": {
    "id": "RNZnXmO5AhDO"
   },
   "source": [
    "### Deploy Brute Force Index"
   ]
  },
  {
   "cell_type": "code",
   "execution_count": 40,
   "metadata": {
    "id": "3p9e4828AkSv"
   },
   "outputs": [],
   "source": [
    "DEPLOYED_BRUTE_FORCE_INDEX_ID = \"prod50_brute_force_deployed2\""
   ]
  },
  {
   "cell_type": "code",
   "execution_count": 41,
   "metadata": {
    "id": "6PgQKgHQAq3p"
   },
   "outputs": [],
   "source": [
    "deploy_brute_force_index = {\n",
    "    \"id\": DEPLOYED_BRUTE_FORCE_INDEX_ID,\n",
    "    \"display_name\": DEPLOYED_BRUTE_FORCE_INDEX_ID,\n",
    "    \"index\": INDEX_BRUTE_FORCE_RESOURCE_NAME,\n",
    "}"
   ]
  },
  {
   "cell_type": "code",
   "execution_count": 42,
   "metadata": {
    "id": "-2kgd01SA4rk"
   },
   "outputs": [],
   "source": [
    "r = index_endpoint_client.deploy_index(\n",
    "    index_endpoint=INDEX_ENDPOINT_NAME, deployed_index=deploy_brute_force_index\n",
    ")"
   ]
  },
  {
   "cell_type": "code",
   "execution_count": 43,
   "metadata": {
    "id": "R6nZiQP-c2nu"
   },
   "outputs": [
    {
     "name": "stdout",
     "output_type": "stream",
     "text": [
      "Poll the operation to deploy index...\n",
      "Poll the operation to deploy index...\n",
      "Poll the operation to deploy index...\n",
      "Poll the operation to deploy index...\n"
     ]
    }
   ],
   "source": [
    "# Poll the operation until it's done successfullly.\n",
    "\n",
    "while True:\n",
    "    if r.done():\n",
    "        break\n",
    "    print(\"Poll the operation to deploy index...\")\n",
    "    time.sleep(60)"
   ]
  },
  {
   "cell_type": "code",
   "execution_count": 44,
   "metadata": {
    "id": "2v7J36ShA9Sw"
   },
   "outputs": [
    {
     "data": {
      "text/plain": [
       "deployed_index {\n",
       "  id: \"prod50_brute_force_deployed2\"\n",
       "}"
      ]
     },
     "execution_count": 44,
     "metadata": {},
     "output_type": "execute_result"
    }
   ],
   "source": [
    "r.result()"
   ]
  },
  {
   "cell_type": "markdown",
   "metadata": {
    "id": "6LCGvBNvBd8D"
   },
   "source": [
    "## Create Online Queries\n",
    "\n",
    "After you built your indexes, you may query against the deployed index through the online querying gRPC API (Match service) within the virtual machine instances from the same region (for example 'us-central1' in this tutorial).  \n",
    "\n",
    "The way a client uses this gRPC API is by folowing steps:\n",
    "\n",
    "* Write `match_service.proto` locally\n",
    "* Clone the repository that contains the dependencies of match_service.proto in the Terminal:\n",
    "\n",
    "`$ mkdir third_party && cd third_party`\n",
    "\n",
    "`$ git clone https://github.com/googleapis/googleapis.git`\n",
    "\n",
    "* Compile the protocal buffer (see below)\n",
    "* Obtain the index endpoint\n",
    "* Use a code-generated stub to make the call, passing the parameter values"
   ]
  },
  {
   "cell_type": "code",
   "execution_count": 48,
   "metadata": {},
   "outputs": [
    {
     "name": "stdout",
     "output_type": "stream",
     "text": [
      "mkdir: cannot create directory ‘third_party’: File exists\n",
      "fatal: destination path 'googleapis' already exists and is not an empty directory.\n"
     ]
    }
   ],
   "source": [
    "!mkdir third_party && cd third_party\n",
    "!git clone https://github.com/googleapis/googleapis.git"
   ]
  },
  {
   "cell_type": "code",
   "execution_count": 49,
   "metadata": {
    "cellView": "code",
    "id": "rUUW3ViQE88D"
   },
   "outputs": [
    {
     "name": "stdout",
     "output_type": "stream",
     "text": [
      "Overwriting match_service.proto\n"
     ]
    }
   ],
   "source": [
    "%%writefile match_service.proto\n",
    "\n",
    "syntax = \"proto3\";\n",
    "\n",
    "package google.cloud.aiplatform.container.v1beta1;\n",
    "\n",
    "import \"google/rpc/status.proto\";\n",
    "\n",
    "// MatchService is a Google managed service for efficient vector similarity\n",
    "// search at scale.\n",
    "service MatchService {\n",
    "  // Returns the nearest neighbors for the query. If it is a sharded\n",
    "  // deployment, calls the other shards and aggregates the responses.\n",
    "  rpc Match(MatchRequest) returns (MatchResponse) {}\n",
    "\n",
    "  // Returns the nearest neighbors for batch queries. If it is a sharded\n",
    "  // deployment, calls the other shards and aggregates the responses.\n",
    "  rpc BatchMatch(BatchMatchRequest) returns (BatchMatchResponse) {}\n",
    "}\n",
    "\n",
    "// Parameters for a match query.\n",
    "message MatchRequest {\n",
    "  // The ID of the DeploydIndex that will serve the request.\n",
    "  // This MatchRequest is sent to a specific IndexEndpoint of the Control API,\n",
    "  // as per the IndexEndpoint.network. That IndexEndpoint also has\n",
    "  // IndexEndpoint.deployed_indexes, and each such index has an\n",
    "  // DeployedIndex.id field.\n",
    "  // The value of the field below must equal one of the DeployedIndex.id\n",
    "  // fields of the IndexEndpoint that is being called for this request.\n",
    "  string deployed_index_id = 1;\n",
    "\n",
    "  // The embedding values.\n",
    "  repeated float float_val = 2;\n",
    "\n",
    "  // The number of nearest neighbors to be retrieved from database for\n",
    "  // each query. If not set, will use the default from\n",
    "  // the service configuration.\n",
    "  int32 num_neighbors = 3;\n",
    "\n",
    "  // The list of restricts.\n",
    "  repeated Namespace restricts = 4;\n",
    "\n",
    "  // Crowding is a constraint on a neighbor list produced by nearest neighbor\n",
    "  // search requiring that no more than some value k' of the k neighbors\n",
    "  // returned have the same value of crowding_attribute.\n",
    "  // It's used for improving result diversity.\n",
    "  // This field is the maximum number of matches with the same crowding tag.\n",
    "  int32 per_crowding_attribute_num_neighbors = 5;\n",
    "\n",
    "  // The number of neighbors to find via approximate search before\n",
    "  // exact reordering is performed. If not set, the default value from scam\n",
    "  // config is used; if set, this value must be > 0.\n",
    "  int32 approx_num_neighbors = 6;\n",
    "\n",
    "  // The fraction of the number of leaves to search, set at query time allows\n",
    "  // user to tune search performance. This value increase result in both search\n",
    "  // accuracy and latency increase. The value should be between 0.0 and 1.0. If\n",
    "  // not set or set to 0.0, query uses the default value specified in\n",
    "  // NearestNeighborSearchConfig.TreeAHConfig.leaf_nodes_to_search_percent.\n",
    "  int32 leaf_nodes_to_search_percent_override = 7;\n",
    "}\n",
    "\n",
    "// Response of a match query.\n",
    "message MatchResponse {\n",
    "  message Neighbor {\n",
    "    // The ids of the matches.\n",
    "    string id = 1;\n",
    "\n",
    "    // The distances of the matches.\n",
    "    double distance = 2;\n",
    "  }\n",
    "  // All its neighbors.\n",
    "  repeated Neighbor neighbor = 1;\n",
    "}\n",
    "\n",
    "// Parameters for a batch match query.\n",
    "message BatchMatchRequest {\n",
    "  // Batched requests against one index.\n",
    "  message BatchMatchRequestPerIndex {\n",
    "    // The ID of the DeploydIndex that will serve the request.\n",
    "    string deployed_index_id = 1;\n",
    "\n",
    "    // The requests against the index identified by the above deployed_index_id.\n",
    "    repeated MatchRequest requests = 2;\n",
    "\n",
    "    // Selects the optimal batch size to use for low-level batching. Queries\n",
    "    // within each low level batch are executed sequentially while low level\n",
    "    // batches are executed in parallel.\n",
    "    // This field is optional, defaults to 0 if not set. A non-positive number\n",
    "    // disables low level batching, i.e. all queries are executed sequentially.\n",
    "    int32 low_level_batch_size = 3;\n",
    "  }\n",
    "\n",
    "  // The batch requests grouped by indexes.\n",
    "  repeated BatchMatchRequestPerIndex requests = 1;\n",
    "}\n",
    "\n",
    "// Response of a batch match query.\n",
    "message BatchMatchResponse {\n",
    "  // Batched responses for one index.\n",
    "  message BatchMatchResponsePerIndex {\n",
    "    // The ID of the DeployedIndex that produced the responses.\n",
    "    string deployed_index_id = 1;\n",
    "\n",
    "    // The match responses produced by the index identified by the above\n",
    "    // deployed_index_id. This field is set only when the query against that\n",
    "    // index succeed.\n",
    "    repeated MatchResponse responses = 2;\n",
    "\n",
    "    // The status of response for the batch query identified by the above\n",
    "    // deployed_index_id.\n",
    "    google.rpc.Status status = 3;\n",
    "  }\n",
    "\n",
    "  // The batched responses grouped by indexes.\n",
    "  repeated BatchMatchResponsePerIndex responses = 1;\n",
    "}\n",
    "\n",
    "// Namespace specifies the rules for determining the datapoints that are\n",
    "// eligible for each matching query, overall query is an AND across namespaces.\n",
    "message Namespace {\n",
    "  // The string name of the namespace that this proto is specifying,\n",
    "  // such as \"color\", \"shape\", \"geo\", or \"tags\".\n",
    "  string name = 1;\n",
    "\n",
    "  // The allowed tokens in the namespace.\n",
    "  repeated string allow_tokens = 2;\n",
    "\n",
    "  // The denied tokens in the namespace.\n",
    "  // The denied tokens have exactly the same format as the token fields, but\n",
    "  // represents a negation. When a token is denied, then matches will be\n",
    "  // excluded whenever the other datapoint has that token.\n",
    "  //\n",
    "  // For example, if a query specifies {color: red, blue, !purple}, then that\n",
    "  // query will match datapoints that are red or blue, but if those points are\n",
    "  // also purple, then they will be excluded even if they are red/blue.\n",
    "  repeated string deny_tokens = 3;\n",
    "}"
   ]
  },
  {
   "cell_type": "markdown",
   "metadata": {
    "id": "dfh48KLTJkaF"
   },
   "source": [
    "Compile the protocol buffer, and then `match_service_pb2.py` and `match_service_pb2_grpc.py` are generated."
   ]
  },
  {
   "cell_type": "code",
   "execution_count": 50,
   "metadata": {
    "id": "EehHF_AeGmQT"
   },
   "outputs": [],
   "source": [
    "! python -m grpc_tools.protoc -I=. --proto_path=third_party/googleapis --python_out=. --grpc_python_out=. match_service.proto"
   ]
  },
  {
   "cell_type": "markdown",
   "metadata": {
    "id": "8wXTSgz1Bl0x"
   },
   "source": [
    "Obtain the Private Endpoint: "
   ]
  },
  {
   "cell_type": "code",
   "execution_count": 51,
   "metadata": {
    "id": "zwA042IZJv1h"
   },
   "outputs": [
    {
     "data": {
      "text/plain": [
       "'10.120.0.5'"
      ]
     },
     "execution_count": 51,
     "metadata": {},
     "output_type": "execute_result"
    }
   ],
   "source": [
    "DEPLOYED_INDEX_SERVER_IP = (\n",
    "    list(index_endpoint_client.list_index_endpoints(parent=PARENT))[0]\n",
    "    .deployed_indexes[0]\n",
    "    .private_endpoints.match_grpc_address\n",
    ")\n",
    "DEPLOYED_INDEX_SERVER_IP"
   ]
  },
  {
   "cell_type": "markdown",
   "metadata": {
    "id": "IcXa9lSuB9AT"
   },
   "source": [
    "Test your query:"
   ]
  },
  {
   "cell_type": "code",
   "execution_count": 52,
   "metadata": {
    "id": "zhgTqsI1spsH"
   },
   "outputs": [],
   "source": [
    "import match_service_pb2\n",
    "import match_service_pb2_grpc\n",
    "\n",
    "channel = grpc.insecure_channel(\"{}:10000\".format(DEPLOYED_INDEX_SERVER_IP))\n",
    "stub = match_service_pb2_grpc.MatchServiceStub(channel)"
   ]
  },
  {
   "cell_type": "code",
   "execution_count": 53,
   "metadata": {
    "id": "A3KYVw5HB-4v"
   },
   "outputs": [
    {
     "data": {
      "text/plain": [
       "neighbor {\n",
       "  id: \"18823\"\n",
       "  distance: 14275.41015625\n",
       "}\n",
       "neighbor {\n",
       "  id: \"19840\"\n",
       "  distance: 14238.4423828125\n",
       "}\n",
       "neighbor {\n",
       "  id: \"8952\"\n",
       "  distance: 14099.71484375\n",
       "}\n",
       "neighbor {\n",
       "  id: \"1587\"\n",
       "  distance: 13007.201171875\n",
       "}\n",
       "neighbor {\n",
       "  id: \"5126\"\n",
       "  distance: 12898.12109375\n",
       "}\n",
       "neighbor {\n",
       "  id: \"3425\"\n",
       "  distance: 12767.0595703125\n",
       "}\n",
       "neighbor {\n",
       "  id: \"5725\"\n",
       "  distance: 12555.927734375\n",
       "}\n",
       "neighbor {\n",
       "  id: \"26519\"\n",
       "  distance: 12543.5966796875\n",
       "}\n",
       "neighbor {\n",
       "  id: \"17598\"\n",
       "  distance: 12521.212890625\n",
       "}\n",
       "neighbor {\n",
       "  id: \"26483\"\n",
       "  distance: 12386.673828125\n",
       "}"
      ]
     },
     "execution_count": 53,
     "metadata": {},
     "output_type": "execute_result"
    }
   ],
   "source": [
    "import numpy as np\n",
    "# Test query\n",
    "np.random.seed(12341455)\n",
    "query = list(np.random.rand(DIMENSIONS)*100)\n",
    "\n",
    "request = match_service_pb2.MatchRequest()\n",
    "request.deployed_index_id = DEPLOYED_INDEX_ID\n",
    "for val in query:\n",
    "    request.float_val.append(val)\n",
    "\n",
    "response = stub.Match(request)\n",
    "response"
   ]
  },
  {
   "cell_type": "markdown",
   "metadata": {
    "id": "_mNwdU9_B_Ez"
   },
   "source": [
    "### Batch Query\n",
    "\n",
    "You can run multiple queries in a single RPC call using the BatchMatch API:"
   ]
  },
  {
   "cell_type": "code",
   "execution_count": 54,
   "metadata": {
    "id": "L55vcqox5cQz"
   },
   "outputs": [],
   "source": [
    "def get_request(embedding, deployed_index_id):\n",
    "    request = match_service_pb2.MatchRequest(num_neighbors=k)\n",
    "    request.deployed_index_id = deployed_index_id\n",
    "    for val in embedding:\n",
    "        request.float_val.append(val)\n",
    "    return request"
   ]
  },
  {
   "cell_type": "code",
   "execution_count": 55,
   "metadata": {
    "id": "A3KYVw5HB-4v"
   },
   "outputs": [
    {
     "data": {
      "text/plain": [
       "responses {\n",
       "  deployed_index_id: \"ann_prod50_deployed2\"\n",
       "  responses {\n",
       "    neighbor {\n",
       "      id: \"811\"\n",
       "      distance: 456.1998291015625\n",
       "    }\n",
       "    neighbor {\n",
       "      id: \"98\"\n",
       "      distance: 419.3968200683594\n",
       "    }\n",
       "    neighbor {\n",
       "      id: \"20547\"\n",
       "      distance: 418.9154357910156\n",
       "    }\n",
       "    neighbor {\n",
       "      id: \"20552\"\n",
       "      distance: 409.3382568359375\n",
       "    }\n",
       "    neighbor {\n",
       "      id: \"28305\"\n",
       "      distance: 356.9516906738281\n",
       "    }\n",
       "    neighbor {\n",
       "      id: \"5709\"\n",
       "      distance: 355.0057678222656\n",
       "    }\n",
       "    neighbor {\n",
       "      id: \"18129\"\n",
       "      distance: 353.9185791015625\n",
       "    }\n",
       "    neighbor {\n",
       "      id: \"2442\"\n",
       "      distance: 352.1247863769531\n",
       "    }\n",
       "    neighbor {\n",
       "      id: \"4268\"\n",
       "      distance: 341.43292236328125\n",
       "    }\n",
       "    neighbor {\n",
       "      id: \"13603\"\n",
       "      distance: 338.0972900390625\n",
       "    }\n",
       "  }\n",
       "  responses {\n",
       "    neighbor {\n",
       "      id: \"4287\"\n",
       "      distance: 174.721923828125\n",
       "    }\n",
       "    neighbor {\n",
       "      id: \"3766\"\n",
       "      distance: 130.40394592285156\n",
       "    }\n",
       "    neighbor {\n",
       "      id: \"19840\"\n",
       "      distance: 119.77861785888672\n",
       "    }\n",
       "    neighbor {\n",
       "      id: \"18129\"\n",
       "      distance: 116.05938720703125\n",
       "    }\n",
       "    neighbor {\n",
       "      id: \"8952\"\n",
       "      distance: 111.750732421875\n",
       "    }\n",
       "    neighbor {\n",
       "      id: \"26718\"\n",
       "      distance: 111.20304107666016\n",
       "    }\n",
       "    neighbor {\n",
       "      id: \"17138\"\n",
       "      distance: 110.55020904541016\n",
       "    }\n",
       "    neighbor {\n",
       "      id: \"7101\"\n",
       "      distance: 110.41783142089844\n",
       "    }\n",
       "    neighbor {\n",
       "      id: \"8028\"\n",
       "      distance: 108.8261947631836\n",
       "    }\n",
       "    neighbor {\n",
       "      id: \"16580\"\n",
       "      distance: 105.03768920898438\n",
       "    }\n",
       "  }\n",
       "  responses {\n",
       "    neighbor {\n",
       "      id: \"19840\"\n",
       "      distance: 162.3609161376953\n",
       "    }\n",
       "    neighbor {\n",
       "      id: \"5725\"\n",
       "      distance: 162.22555541992188\n",
       "    }\n",
       "    neighbor {\n",
       "      id: \"18823\"\n",
       "      distance: 141.18458557128906\n",
       "    }\n",
       "    neighbor {\n",
       "      id: \"8908\"\n",
       "      distance: 140.9113311767578\n",
       "    }\n",
       "    neighbor {\n",
       "      id: \"3425\"\n",
       "      distance: 139.22422790527344\n",
       "    }\n",
       "    neighbor {\n",
       "      id: \"141\"\n",
       "      distance: 136.5482635498047\n",
       "    }\n",
       "    neighbor {\n",
       "      id: \"26500\"\n",
       "      distance: 134.11672973632812\n",
       "    }\n",
       "    neighbor {\n",
       "      id: \"8952\"\n",
       "      distance: 131.19131469726562\n",
       "    }\n",
       "    neighbor {\n",
       "      id: \"17873\"\n",
       "      distance: 127.81948852539062\n",
       "    }\n",
       "    neighbor {\n",
       "      id: \"17598\"\n",
       "      distance: 122.99983978271484\n",
       "    }\n",
       "  }\n",
       "  responses {\n",
       "    neighbor {\n",
       "      id: \"8952\"\n",
       "      distance: 162.23182678222656\n",
       "    }\n",
       "    neighbor {\n",
       "      id: \"19840\"\n",
       "      distance: 160.64776611328125\n",
       "    }\n",
       "    neighbor {\n",
       "      id: \"5725\"\n",
       "      distance: 148.8034210205078\n",
       "    }\n",
       "    neighbor {\n",
       "      id: \"26519\"\n",
       "      distance: 142.65875244140625\n",
       "    }\n",
       "    neighbor {\n",
       "      id: \"3766\"\n",
       "      distance: 141.08612060546875\n",
       "    }\n",
       "    neighbor {\n",
       "      id: \"4067\"\n",
       "      distance: 137.93124389648438\n",
       "    }\n",
       "    neighbor {\n",
       "      id: \"1587\"\n",
       "      distance: 134.3548583984375\n",
       "    }\n",
       "    neighbor {\n",
       "      id: \"13769\"\n",
       "      distance: 134.1680908203125\n",
       "    }\n",
       "    neighbor {\n",
       "      id: \"5752\"\n",
       "      distance: 132.45779418945312\n",
       "    }\n",
       "    neighbor {\n",
       "      id: \"26500\"\n",
       "      distance: 131.16134643554688\n",
       "    }\n",
       "  }\n",
       "  responses {\n",
       "    neighbor {\n",
       "      id: \"17139\"\n",
       "      distance: 121.09074401855469\n",
       "    }\n",
       "    neighbor {\n",
       "      id: \"18823\"\n",
       "      distance: 115.60196685791016\n",
       "    }\n",
       "    neighbor {\n",
       "      id: \"28309\"\n",
       "      distance: 105.32698822021484\n",
       "    }\n",
       "    neighbor {\n",
       "      id: \"18135\"\n",
       "      distance: 104.955810546875\n",
       "    }\n",
       "    neighbor {\n",
       "      id: \"16213\"\n",
       "      distance: 100.96129608154297\n",
       "    }\n",
       "    neighbor {\n",
       "      id: \"4287\"\n",
       "      distance: 92.18033599853516\n",
       "    }\n",
       "    neighbor {\n",
       "      id: \"549\"\n",
       "      distance: 90.73361206054688\n",
       "    }\n",
       "    neighbor {\n",
       "      id: \"19840\"\n",
       "      distance: 86.30850219726562\n",
       "    }\n",
       "    neighbor {\n",
       "      id: \"209\"\n",
       "      distance: 78.954833984375\n",
       "    }\n",
       "    neighbor {\n",
       "      id: \"13769\"\n",
       "      distance: 78.4137954711914\n",
       "    }\n",
       "  }\n",
       "  responses {\n",
       "    neighbor {\n",
       "      id: \"4287\"\n",
       "      distance: 260.4728088378906\n",
       "    }\n",
       "    neighbor {\n",
       "      id: \"549\"\n",
       "      distance: 158.4362335205078\n",
       "    }\n",
       "    neighbor {\n",
       "      id: \"8952\"\n",
       "      distance: 146.11285400390625\n",
       "    }\n",
       "    neighbor {\n",
       "      id: \"115\"\n",
       "      distance: 143.077880859375\n",
       "    }\n",
       "    neighbor {\n",
       "      id: \"3766\"\n",
       "      distance: 139.32745361328125\n",
       "    }\n",
       "    neighbor {\n",
       "      id: \"141\"\n",
       "      distance: 138.87693786621094\n",
       "    }\n",
       "    neighbor {\n",
       "      id: \"13769\"\n",
       "      distance: 137.39784240722656\n",
       "    }\n",
       "    neighbor {\n",
       "      id: \"4067\"\n",
       "      distance: 135.23858642578125\n",
       "    }\n",
       "    neighbor {\n",
       "      id: \"8872\"\n",
       "      distance: 131.7322540283203\n",
       "    }\n",
       "    neighbor {\n",
       "      id: \"19840\"\n",
       "      distance: 128.15516662597656\n",
       "    }\n",
       "  }\n",
       "  responses {\n",
       "    neighbor {\n",
       "      id: \"17396\"\n",
       "      distance: 153.10830688476562\n",
       "    }\n",
       "    neighbor {\n",
       "      id: \"19840\"\n",
       "      distance: 129.053466796875\n",
       "    }\n",
       "    neighbor {\n",
       "      id: \"28505\"\n",
       "      distance: 121.99978637695312\n",
       "    }\n",
       "    neighbor {\n",
       "      id: \"17598\"\n",
       "      distance: 121.57572174072266\n",
       "    }\n",
       "    neighbor {\n",
       "      id: \"16422\"\n",
       "      distance: 119.20307922363281\n",
       "    }\n",
       "    neighbor {\n",
       "      id: \"16143\"\n",
       "      distance: 116.011474609375\n",
       "    }\n",
       "    neighbor {\n",
       "      id: \"18098\"\n",
       "      distance: 114.3634262084961\n",
       "    }\n",
       "    neighbor {\n",
       "      id: \"5701\"\n",
       "      distance: 113.04130554199219\n",
       "    }\n",
       "    neighbor {\n",
       "      id: \"17492\"\n",
       "      distance: 112.2828140258789\n",
       "    }\n",
       "    neighbor {\n",
       "      id: \"7140\"\n",
       "      distance: 112.11418914794922\n",
       "    }\n",
       "  }\n",
       "  responses {\n",
       "    neighbor {\n",
       "      id: \"8952\"\n",
       "      distance: 141.61517333984375\n",
       "    }\n",
       "    neighbor {\n",
       "      id: \"19840\"\n",
       "      distance: 132.19451904296875\n",
       "    }\n",
       "    neighbor {\n",
       "      id: \"17598\"\n",
       "      distance: 125.36026000976562\n",
       "    }\n",
       "    neighbor {\n",
       "      id: \"14334\"\n",
       "      distance: 122.80636596679688\n",
       "    }\n",
       "    neighbor {\n",
       "      id: \"13769\"\n",
       "      distance: 121.18907165527344\n",
       "    }\n",
       "    neighbor {\n",
       "      id: \"549\"\n",
       "      distance: 120.99310302734375\n",
       "    }\n",
       "    neighbor {\n",
       "      id: \"8871\"\n",
       "      distance: 120.40271759033203\n",
       "    }\n",
       "    neighbor {\n",
       "      id: \"17396\"\n",
       "      distance: 114.640380859375\n",
       "    }\n",
       "    neighbor {\n",
       "      id: \"222\"\n",
       "      distance: 112.99263763427734\n",
       "    }\n",
       "    neighbor {\n",
       "      id: \"19862\"\n",
       "      distance: 112.43949890136719\n",
       "    }\n",
       "  }\n",
       "  responses {\n",
       "    neighbor {\n",
       "      id: \"141\"\n",
       "      distance: 151.12515258789062\n",
       "    }\n",
       "    neighbor {\n",
       "      id: \"18071\"\n",
       "      distance: 142.5770263671875\n",
       "    }\n",
       "    neighbor {\n",
       "      id: \"8028\"\n",
       "      distance: 140.91900634765625\n",
       "    }\n",
       "    neighbor {\n",
       "      id: \"7101\"\n",
       "      distance: 139.4202117919922\n",
       "    }\n",
       "    neighbor {\n",
       "      id: \"4287\"\n",
       "      distance: 137.52682495117188\n",
       "    }\n",
       "    neighbor {\n",
       "      id: \"3766\"\n",
       "      distance: 132.8115234375\n",
       "    }\n",
       "    neighbor {\n",
       "      id: \"18129\"\n",
       "      distance: 124.74159240722656\n",
       "    }\n",
       "    neighbor {\n",
       "      id: \"344\"\n",
       "      distance: 123.95539093017578\n",
       "    }\n",
       "    neighbor {\n",
       "      id: \"1531\"\n",
       "      distance: 123.73663330078125\n",
       "    }\n",
       "    neighbor {\n",
       "      id: \"17598\"\n",
       "      distance: 123.38832092285156\n",
       "    }\n",
       "  }\n",
       "  responses {\n",
       "    neighbor {\n",
       "      id: \"19840\"\n",
       "      distance: 114.68025207519531\n",
       "    }\n",
       "    neighbor {\n",
       "      id: \"5725\"\n",
       "      distance: 92.64971923828125\n",
       "    }\n",
       "    neighbor {\n",
       "      id: \"18823\"\n",
       "      distance: 92.552001953125\n",
       "    }\n",
       "    neighbor {\n",
       "      id: \"8952\"\n",
       "      distance: 91.86980438232422\n",
       "    }\n",
       "    neighbor {\n",
       "      id: \"19862\"\n",
       "      distance: 91.5278549194336\n",
       "    }\n",
       "    neighbor {\n",
       "      id: \"8908\"\n",
       "      distance: 90.95404052734375\n",
       "    }\n",
       "    neighbor {\n",
       "      id: \"17396\"\n",
       "      distance: 88.85557556152344\n",
       "    }\n",
       "    neighbor {\n",
       "      id: \"17270\"\n",
       "      distance: 87.1832275390625\n",
       "    }\n",
       "    neighbor {\n",
       "      id: \"549\"\n",
       "      distance: 87.0614013671875\n",
       "    }\n",
       "    neighbor {\n",
       "      id: \"5126\"\n",
       "      distance: 83.66311645507812\n",
       "    }\n",
       "  }\n",
       "  status {\n",
       "  }\n",
       "}\n",
       "responses {\n",
       "  deployed_index_id: \"prod50_brute_force_deployed2\"\n",
       "  responses {\n",
       "    neighbor {\n",
       "      id: \"811\"\n",
       "      distance: 456.1998291015625\n",
       "    }\n",
       "    neighbor {\n",
       "      id: \"98\"\n",
       "      distance: 419.3968505859375\n",
       "    }\n",
       "    neighbor {\n",
       "      id: \"20547\"\n",
       "      distance: 418.9154052734375\n",
       "    }\n",
       "    neighbor {\n",
       "      id: \"20552\"\n",
       "      distance: 409.33819580078125\n",
       "    }\n",
       "    neighbor {\n",
       "      id: \"28305\"\n",
       "      distance: 356.95166015625\n",
       "    }\n",
       "    neighbor {\n",
       "      id: \"5709\"\n",
       "      distance: 355.0057678222656\n",
       "    }\n",
       "    neighbor {\n",
       "      id: \"18129\"\n",
       "      distance: 353.9185791015625\n",
       "    }\n",
       "    neighbor {\n",
       "      id: \"2442\"\n",
       "      distance: 352.124755859375\n",
       "    }\n",
       "    neighbor {\n",
       "      id: \"4268\"\n",
       "      distance: 341.4328918457031\n",
       "    }\n",
       "    neighbor {\n",
       "      id: \"13603\"\n",
       "      distance: 338.0972595214844\n",
       "    }\n",
       "  }\n",
       "  responses {\n",
       "    neighbor {\n",
       "      id: \"4287\"\n",
       "      distance: 174.721923828125\n",
       "    }\n",
       "    neighbor {\n",
       "      id: \"3766\"\n",
       "      distance: 130.4039306640625\n",
       "    }\n",
       "    neighbor {\n",
       "      id: \"19840\"\n",
       "      distance: 119.77863311767578\n",
       "    }\n",
       "    neighbor {\n",
       "      id: \"18129\"\n",
       "      distance: 116.05938720703125\n",
       "    }\n",
       "    neighbor {\n",
       "      id: \"8952\"\n",
       "      distance: 111.75072479248047\n",
       "    }\n",
       "    neighbor {\n",
       "      id: \"26718\"\n",
       "      distance: 111.20303344726562\n",
       "    }\n",
       "    neighbor {\n",
       "      id: \"17138\"\n",
       "      distance: 110.55020141601562\n",
       "    }\n",
       "    neighbor {\n",
       "      id: \"7101\"\n",
       "      distance: 110.41785430908203\n",
       "    }\n",
       "    neighbor {\n",
       "      id: \"8028\"\n",
       "      distance: 108.82621002197266\n",
       "    }\n",
       "    neighbor {\n",
       "      id: \"16580\"\n",
       "      distance: 105.03767395019531\n",
       "    }\n",
       "  }\n",
       "  responses {\n",
       "    neighbor {\n",
       "      id: \"19840\"\n",
       "      distance: 162.36090087890625\n",
       "    }\n",
       "    neighbor {\n",
       "      id: \"5725\"\n",
       "      distance: 162.2256317138672\n",
       "    }\n",
       "    neighbor {\n",
       "      id: \"18823\"\n",
       "      distance: 141.1845703125\n",
       "    }\n",
       "    neighbor {\n",
       "      id: \"8908\"\n",
       "      distance: 140.9113311767578\n",
       "    }\n",
       "    neighbor {\n",
       "      id: \"3425\"\n",
       "      distance: 139.22422790527344\n",
       "    }\n",
       "    neighbor {\n",
       "      id: \"141\"\n",
       "      distance: 136.54824829101562\n",
       "    }\n",
       "    neighbor {\n",
       "      id: \"26500\"\n",
       "      distance: 134.1167449951172\n",
       "    }\n",
       "    neighbor {\n",
       "      id: \"8952\"\n",
       "      distance: 131.1912841796875\n",
       "    }\n",
       "    neighbor {\n",
       "      id: \"17873\"\n",
       "      distance: 127.81948852539062\n",
       "    }\n",
       "    neighbor {\n",
       "      id: \"17598\"\n",
       "      distance: 122.99981689453125\n",
       "    }\n",
       "  }\n",
       "  responses {\n",
       "    neighbor {\n",
       "      id: \"8952\"\n",
       "      distance: 162.23182678222656\n",
       "    }\n",
       "    neighbor {\n",
       "      id: \"19840\"\n",
       "      distance: 160.6478271484375\n",
       "    }\n",
       "    neighbor {\n",
       "      id: \"5725\"\n",
       "      distance: 148.8034210205078\n",
       "    }\n",
       "    neighbor {\n",
       "      id: \"26519\"\n",
       "      distance: 142.65875244140625\n",
       "    }\n",
       "    neighbor {\n",
       "      id: \"3766\"\n",
       "      distance: 141.0861053466797\n",
       "    }\n",
       "    neighbor {\n",
       "      id: \"4067\"\n",
       "      distance: 137.93125915527344\n",
       "    }\n",
       "    neighbor {\n",
       "      id: \"1587\"\n",
       "      distance: 134.35482788085938\n",
       "    }\n",
       "    neighbor {\n",
       "      id: \"13769\"\n",
       "      distance: 134.16810607910156\n",
       "    }\n",
       "    neighbor {\n",
       "      id: \"5752\"\n",
       "      distance: 132.45779418945312\n",
       "    }\n",
       "    neighbor {\n",
       "      id: \"26500\"\n",
       "      distance: 131.16136169433594\n",
       "    }\n",
       "  }\n",
       "  responses {\n",
       "    neighbor {\n",
       "      id: \"17139\"\n",
       "      distance: 121.09072875976562\n",
       "    }\n",
       "    neighbor {\n",
       "      id: \"18823\"\n",
       "      distance: 115.60198211669922\n",
       "    }\n",
       "    neighbor {\n",
       "      id: \"28309\"\n",
       "      distance: 105.32698822021484\n",
       "    }\n",
       "    neighbor {\n",
       "      id: \"18135\"\n",
       "      distance: 104.95579528808594\n",
       "    }\n",
       "    neighbor {\n",
       "      id: \"16213\"\n",
       "      distance: 100.96131134033203\n",
       "    }\n",
       "    neighbor {\n",
       "      id: \"4287\"\n",
       "      distance: 92.18036651611328\n",
       "    }\n",
       "    neighbor {\n",
       "      id: \"549\"\n",
       "      distance: 90.73362731933594\n",
       "    }\n",
       "    neighbor {\n",
       "      id: \"19840\"\n",
       "      distance: 86.30848693847656\n",
       "    }\n",
       "    neighbor {\n",
       "      id: \"209\"\n",
       "      distance: 78.954833984375\n",
       "    }\n",
       "    neighbor {\n",
       "      id: \"13769\"\n",
       "      distance: 78.41378784179688\n",
       "    }\n",
       "  }\n",
       "  responses {\n",
       "    neighbor {\n",
       "      id: \"4287\"\n",
       "      distance: 260.4727783203125\n",
       "    }\n",
       "    neighbor {\n",
       "      id: \"549\"\n",
       "      distance: 158.4362335205078\n",
       "    }\n",
       "    neighbor {\n",
       "      id: \"8952\"\n",
       "      distance: 146.11285400390625\n",
       "    }\n",
       "    neighbor {\n",
       "      id: \"115\"\n",
       "      distance: 143.07786560058594\n",
       "    }\n",
       "    neighbor {\n",
       "      id: \"3766\"\n",
       "      distance: 139.32745361328125\n",
       "    }\n",
       "    neighbor {\n",
       "      id: \"141\"\n",
       "      distance: 138.87692260742188\n",
       "    }\n",
       "    neighbor {\n",
       "      id: \"13769\"\n",
       "      distance: 137.39784240722656\n",
       "    }\n",
       "    neighbor {\n",
       "      id: \"4067\"\n",
       "      distance: 135.2385711669922\n",
       "    }\n",
       "    neighbor {\n",
       "      id: \"8872\"\n",
       "      distance: 131.73226928710938\n",
       "    }\n",
       "    neighbor {\n",
       "      id: \"19840\"\n",
       "      distance: 128.15516662597656\n",
       "    }\n",
       "  }\n",
       "  responses {\n",
       "    neighbor {\n",
       "      id: \"17396\"\n",
       "      distance: 153.1083221435547\n",
       "    }\n",
       "    neighbor {\n",
       "      id: \"19840\"\n",
       "      distance: 129.05343627929688\n",
       "    }\n",
       "    neighbor {\n",
       "      id: \"28505\"\n",
       "      distance: 121.99979400634766\n",
       "    }\n",
       "    neighbor {\n",
       "      id: \"17598\"\n",
       "      distance: 121.57571411132812\n",
       "    }\n",
       "    neighbor {\n",
       "      id: \"16422\"\n",
       "      distance: 119.20304870605469\n",
       "    }\n",
       "    neighbor {\n",
       "      id: \"16143\"\n",
       "      distance: 116.01145935058594\n",
       "    }\n",
       "    neighbor {\n",
       "      id: \"18098\"\n",
       "      distance: 114.36343383789062\n",
       "    }\n",
       "    neighbor {\n",
       "      id: \"5701\"\n",
       "      distance: 113.04129791259766\n",
       "    }\n",
       "    neighbor {\n",
       "      id: \"17492\"\n",
       "      distance: 112.28282928466797\n",
       "    }\n",
       "    neighbor {\n",
       "      id: \"7140\"\n",
       "      distance: 112.11418151855469\n",
       "    }\n",
       "  }\n",
       "  responses {\n",
       "    neighbor {\n",
       "      id: \"8952\"\n",
       "      distance: 141.61517333984375\n",
       "    }\n",
       "    neighbor {\n",
       "      id: \"19840\"\n",
       "      distance: 132.1945037841797\n",
       "    }\n",
       "    neighbor {\n",
       "      id: \"17598\"\n",
       "      distance: 125.36026000976562\n",
       "    }\n",
       "    neighbor {\n",
       "      id: \"14334\"\n",
       "      distance: 122.80636596679688\n",
       "    }\n",
       "    neighbor {\n",
       "      id: \"13769\"\n",
       "      distance: 121.1890869140625\n",
       "    }\n",
       "    neighbor {\n",
       "      id: \"549\"\n",
       "      distance: 120.99311065673828\n",
       "    }\n",
       "    neighbor {\n",
       "      id: \"8871\"\n",
       "      distance: 120.4027328491211\n",
       "    }\n",
       "    neighbor {\n",
       "      id: \"17396\"\n",
       "      distance: 114.64037322998047\n",
       "    }\n",
       "    neighbor {\n",
       "      id: \"222\"\n",
       "      distance: 112.99266052246094\n",
       "    }\n",
       "    neighbor {\n",
       "      id: \"19862\"\n",
       "      distance: 112.43949127197266\n",
       "    }\n",
       "  }\n",
       "  responses {\n",
       "    neighbor {\n",
       "      id: \"141\"\n",
       "      distance: 151.12515258789062\n",
       "    }\n",
       "    neighbor {\n",
       "      id: \"18071\"\n",
       "      distance: 142.57705688476562\n",
       "    }\n",
       "    neighbor {\n",
       "      id: \"8028\"\n",
       "      distance: 140.91900634765625\n",
       "    }\n",
       "    neighbor {\n",
       "      id: \"7101\"\n",
       "      distance: 139.42022705078125\n",
       "    }\n",
       "    neighbor {\n",
       "      id: \"4287\"\n",
       "      distance: 137.52684020996094\n",
       "    }\n",
       "    neighbor {\n",
       "      id: \"3766\"\n",
       "      distance: 132.81150817871094\n",
       "    }\n",
       "    neighbor {\n",
       "      id: \"18129\"\n",
       "      distance: 124.7416000366211\n",
       "    }\n",
       "    neighbor {\n",
       "      id: \"344\"\n",
       "      distance: 123.95538330078125\n",
       "    }\n",
       "    neighbor {\n",
       "      id: \"1531\"\n",
       "      distance: 123.73662567138672\n",
       "    }\n",
       "    neighbor {\n",
       "      id: \"17598\"\n",
       "      distance: 123.3883285522461\n",
       "    }\n",
       "  }\n",
       "  responses {\n",
       "    neighbor {\n",
       "      id: \"19840\"\n",
       "      distance: 114.68024444580078\n",
       "    }\n",
       "    neighbor {\n",
       "      id: \"5725\"\n",
       "      distance: 92.64971923828125\n",
       "    }\n",
       "    neighbor {\n",
       "      id: \"18823\"\n",
       "      distance: 92.55200958251953\n",
       "    }\n",
       "    neighbor {\n",
       "      id: \"8952\"\n",
       "      distance: 91.86981964111328\n",
       "    }\n",
       "    neighbor {\n",
       "      id: \"19862\"\n",
       "      distance: 91.52788543701172\n",
       "    }\n",
       "    neighbor {\n",
       "      id: \"8908\"\n",
       "      distance: 90.95405578613281\n",
       "    }\n",
       "    neighbor {\n",
       "      id: \"17396\"\n",
       "      distance: 88.85555267333984\n",
       "    }\n",
       "    neighbor {\n",
       "      id: \"17270\"\n",
       "      distance: 87.18323516845703\n",
       "    }\n",
       "    neighbor {\n",
       "      id: \"549\"\n",
       "      distance: 87.06139373779297\n",
       "    }\n",
       "    neighbor {\n",
       "      id: \"5126\"\n",
       "      distance: 83.66312408447266\n",
       "    }\n",
       "  }\n",
       "  status {\n",
       "  }\n",
       "}"
      ]
     },
     "execution_count": 55,
     "metadata": {},
     "output_type": "execute_result"
    }
   ],
   "source": [
    "from datetime import datetime\n",
    "import time\n",
    "import numpy as np\n",
    "\n",
    "# Test query\n",
    "n_examples = 10\n",
    "k = 10\n",
    "queries = [list(np.random.rand(DIMENSIONS)) for _ in range(n_examples)]\n",
    "\n",
    "batch_request = match_service_pb2.BatchMatchRequest()\n",
    "batch_request_ann = match_service_pb2.BatchMatchRequest.BatchMatchRequestPerIndex()\n",
    "batch_request_brute_force = (\n",
    "    match_service_pb2.BatchMatchRequest.BatchMatchRequestPerIndex()\n",
    ")\n",
    "batch_request_ann.deployed_index_id = DEPLOYED_INDEX_ID\n",
    "batch_request_brute_force.deployed_index_id = DEPLOYED_BRUTE_FORCE_INDEX_ID\n",
    "for query in queries:\n",
    "    batch_request_ann.requests.append(get_request(query, DEPLOYED_INDEX_ID))\n",
    "    batch_request_brute_force.requests.append(\n",
    "        get_request(query, DEPLOYED_BRUTE_FORCE_INDEX_ID)\n",
    "    )\n",
    "batch_request.requests.append(batch_request_ann)\n",
    "batch_request.requests.append(batch_request_brute_force)\n",
    "\n",
    "response = stub.BatchMatch(batch_request)\n",
    "response"
   ]
  },
  {
   "cell_type": "markdown",
   "metadata": {
    "id": "_mNwdU9_B_Ez"
   },
   "source": [
    "### Compute Recall\n",
    "\n",
    "Use deployed brute force Index as the ground truth to calculate the recall of ANN Index:"
   ]
  },
  {
   "cell_type": "code",
   "execution_count": 56,
   "metadata": {
    "id": "L55vcqox5cQz"
   },
   "outputs": [],
   "source": [
    "def get_neighbors(embedding, deployed_index_id):\n",
    "    request = match_service_pb2.MatchRequest(num_neighbors=k)\n",
    "    request.deployed_index_id = deployed_index_id\n",
    "    for val in embedding:\n",
    "        request.float_val.append(val)\n",
    "    response = stub.Match(request)\n",
    "    return [int(n.id) for n in response.neighbor]"
   ]
  },
  {
   "cell_type": "code",
   "execution_count": 57,
   "metadata": {
    "id": "2vqQxfD9ufJm"
   },
   "outputs": [
    {
     "name": "stdout",
     "output_type": "stream",
     "text": [
      "Recall: 1.0\n"
     ]
    }
   ],
   "source": [
    "# This will take 5-10 min\n",
    "\n",
    "test=queries #set test to the \n",
    "recall = sum(\n",
    "    [\n",
    "        len(\n",
    "            set(get_neighbors(test[i], DEPLOYED_BRUTE_FORCE_INDEX_ID)).intersection(\n",
    "                set(get_neighbors(test[i], DEPLOYED_INDEX_ID))\n",
    "            )\n",
    "        )\n",
    "        for i in range(len(test))\n",
    "    ]\n",
    ") / (1.0 * len(test) * k)\n",
    "\n",
    "print(\"Recall: {}\".format(recall))"
   ]
  },
  {
   "cell_type": "markdown",
   "metadata": {
    "id": "TpV-iwP9qw9c"
   },
   "source": [
    "## Cleaning up\n",
    "\n",
    "To clean up all Google Cloud resources used in this project, you can [delete the Google Cloud\n",
    "project](https://cloud.google.com/resource-manager/docs/creating-managing-projects#shutting_down_projects) you used for the tutorial.\n",
    "You can also manually delete resources that you created by running the following code."
   ]
  },
  {
   "cell_type": "code",
   "execution_count": null,
   "metadata": {
    "id": "sx_vKniMq9ZX"
   },
   "outputs": [],
   "source": [
    "index_client.delete_index(name=INDEX_RESOURCE_NAME)\n",
    "index_client.delete_index(name=INDEX_BRUTE_FORCE_RESOURCE_NAME)"
   ]
  },
  {
   "cell_type": "code",
   "execution_count": null,
   "metadata": {
    "id": "omj7N9iWv-Tq"
   },
   "outputs": [],
   "source": [
    "index_endpoint_client.delete_index_endpoint(name=INDEX_ENDPOINT_NAME)"
   ]
  },
  {
   "cell_type": "code",
   "execution_count": null,
   "metadata": {},
   "outputs": [],
   "source": []
  }
 ],
 "metadata": {
  "colab": {
   "collapsed_sections": [],
   "name": "matching_engine_for_indexing.ipynb",
   "toc_visible": true
  },
  "environment": {
   "name": "tf2-gpu.2-6.m79",
   "type": "gcloud",
   "uri": "gcr.io/deeplearning-platform-release/tf2-gpu.2-6:m79"
  },
  "kernelspec": {
   "display_name": "Python [conda env:root] *",
   "language": "python",
   "name": "conda-root-py"
  },
  "language_info": {
   "codemirror_mode": {
    "name": "ipython",
    "version": 3
   },
   "file_extension": ".py",
   "mimetype": "text/x-python",
   "name": "python",
   "nbconvert_exporter": "python",
   "pygments_lexer": "ipython3",
   "version": "3.7.10"
  }
 },
 "nbformat": 4,
 "nbformat_minor": 4
}
