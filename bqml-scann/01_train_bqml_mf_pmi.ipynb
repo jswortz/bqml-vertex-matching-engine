{
 "cells": [
  {
   "cell_type": "markdown",
   "metadata": {
    "id": "wlOPkKEQsVhe"
   },
   "source": [
    "# Part 1: Learn item embeddings based on song co-occurrence\n",
    "\n",
    "This notebook is the first of five notebooks that guide you through running the [Real-time Item-to-item Recommendation with BigQuery ML Matrix Factorization and ScaNN](https://github.com/GoogleCloudPlatform/analytics-componentized-patterns/tree/master/retail/recommendation-system/bqml-scann) solution.\n",
    "\n",
    "Use this notebook to complete the following tasks:\n",
    "\n",
    "1. Explore the sample playlist data.\n",
    "2. Compute [Pointwise mutual information (PMI)](https://en.wikipedia.org/wiki/Pointwise_mutual_information) that represents the co-occurence of songs on playlists. \n",
    "3. Train a [matrix factorization](https://en.wikipedia.org/wiki/Matrix_factorization_(recommender_systems)) model using BigQuery ML to learn item embeddings based on the PMI data.\n",
    "4. Explore the learned embeddings.\n",
    "\n",
    "Before starting this notebook, you must run the [00_prep_bq_procedures](00_prep_bq_procedures.ipynb) notebook to complete the solution prerequisites.\n",
    "\n",
    "After completing this notebook, run the [02_export_bqml_mf_embeddings](02_export_bqml_mf_embeddings.ipynb) notebook to process the item embedding data.\n"
   ]
  },
  {
   "cell_type": "markdown",
   "metadata": {
    "id": "yLOYZMkfsW58"
   },
   "source": [
    "## Setup\r\n",
    "\r\n",
    "Import the required libraries, configure the environment variables, and authenticate your GCP account."
   ]
  },
  {
   "cell_type": "markdown",
   "metadata": {
    "id": "7zFymQUxs_kC"
   },
   "source": [
    "### Import libraries"
   ]
  },
  {
   "cell_type": "code",
   "execution_count": 1,
   "metadata": {
    "id": "LGGgQSQQs_sp"
   },
   "outputs": [],
   "source": [
    "from google.cloud import bigquery\n",
    "from datetime import datetime\n",
    "import matplotlib.pyplot as plt, seaborn as sns"
   ]
  },
  {
   "cell_type": "markdown",
   "metadata": {
    "id": "aVulMWXysc8m"
   },
   "source": [
    "### Configure GCP environment settings\r\n",
    "\r\n",
    "Update the `PROJECT_ID` variable to reflect the ID of the Google Cloud project you are using to implement this solution."
   ]
  },
  {
   "cell_type": "code",
   "execution_count": 2,
   "metadata": {
    "id": "1_3BTCjAsdHm"
   },
   "outputs": [
    {
     "name": "stdout",
     "output_type": "stream",
     "text": [
      "Updated property [core/project].\n"
     ]
    }
   ],
   "source": [
    "PROJECT_ID = 'rec-ai-demo-326116' # Change to your project.\n",
    "\n",
    "!gcloud config set project $PROJECT_ID"
   ]
  },
  {
   "cell_type": "markdown",
   "metadata": {
    "id": "FoVPZUFxsdOm"
   },
   "source": [
    "### Authenticate your GCP account\n",
    "This is required if you run the notebook in Colab. If you use an AI Platform notebook, you should already be authenticated."
   ]
  },
  {
   "cell_type": "code",
   "execution_count": 3,
   "metadata": {
    "id": "drQzoF07sdiN"
   },
   "outputs": [],
   "source": [
    "try:\n",
    "    from google.colab import auth\n",
    "    auth.authenticate_user()\n",
    "    print(\"Colab user is authenticated.\")\n",
    "except: pass"
   ]
  },
  {
   "cell_type": "markdown",
   "metadata": {
    "id": "AeehVjyYbMak"
   },
   "source": [
    "## Explore the sample data\r\n",
    "\r\n",
    "Use visualizations to explore the data in the `vw_item_groups` view that you created in the `00_prep_bq_and_datastore.ipynb` notebook.\r\n",
    "\r\n",
    "Import libraries for data visualization:"
   ]
  },
  {
   "cell_type": "code",
   "execution_count": 4,
   "metadata": {
    "id": "hQr0UVFMBylx"
   },
   "outputs": [],
   "source": [
    "import matplotlib.pyplot as plt, seaborn as sns"
   ]
  },
  {
   "cell_type": "markdown",
   "metadata": {
    "id": "Tk3c9PybBylx"
   },
   "source": [
    "Count the number of songs that occur in at least 15 groups:"
   ]
  },
  {
   "cell_type": "code",
   "execution_count": 5,
   "metadata": {
    "id": "yBdEEFf0-Qy7"
   },
   "outputs": [
    {
     "name": "stderr",
     "output_type": "stream",
     "text": [
      "Query complete after 0.00s: 100%|██████████| 1/1 [00:00<00:00, 1290.16query/s]\n",
      "Downloading: 100%|██████████| 1/1 [00:01<00:00,  1.01s/rows]\n"
     ]
    },
    {
     "data": {
      "text/html": [
       "<div>\n",
       "<style scoped>\n",
       "    .dataframe tbody tr th:only-of-type {\n",
       "        vertical-align: middle;\n",
       "    }\n",
       "\n",
       "    .dataframe tbody tr th {\n",
       "        vertical-align: top;\n",
       "    }\n",
       "\n",
       "    .dataframe thead th {\n",
       "        text-align: right;\n",
       "    }\n",
       "</style>\n",
       "<table border=\"1\" class=\"dataframe\">\n",
       "  <thead>\n",
       "    <tr style=\"text-align: right;\">\n",
       "      <th></th>\n",
       "      <th>item_count</th>\n",
       "    </tr>\n",
       "  </thead>\n",
       "  <tbody>\n",
       "    <tr>\n",
       "      <th>0</th>\n",
       "      <td>4215</td>\n",
       "    </tr>\n",
       "  </tbody>\n",
       "</table>\n",
       "</div>"
      ],
      "text/plain": [
       "   item_count\n",
       "0        4215"
      ]
     },
     "execution_count": 5,
     "metadata": {},
     "output_type": "execute_result"
    }
   ],
   "source": [
    "%%bigquery  --project $PROJECT_ID\n",
    "\n",
    "CREATE OR REPLACE TABLE css_retail.valid_items\n",
    "AS\n",
    "SELECT \n",
    "  item_Id, \n",
    "  COUNT(group_Id) AS item_frequency\n",
    "FROM `css_retail.vw_item_groups`\n",
    "GROUP BY item_Id\n",
    "HAVING item_frequency >= 10;\n",
    "\n",
    "SELECT COUNT(*) item_count FROM css_retail.valid_items;"
   ]
  },
  {
   "cell_type": "markdown",
   "metadata": {
    "id": "3Vcv-jqfByly"
   },
   "source": [
    "Count the number of playlists that have between 2 and 100 items:"
   ]
  },
  {
   "cell_type": "code",
   "execution_count": 6,
   "metadata": {
    "id": "NePi9cOjEAaA"
   },
   "outputs": [
    {
     "name": "stderr",
     "output_type": "stream",
     "text": [
      "Query complete after 0.00s: 100%|██████████| 1/1 [00:00<00:00, 1129.63query/s]\n",
      "Downloading: 100%|██████████| 1/1 [00:00<00:00,  1.24rows/s]\n"
     ]
    },
    {
     "data": {
      "text/html": [
       "<div>\n",
       "<style scoped>\n",
       "    .dataframe tbody tr th:only-of-type {\n",
       "        vertical-align: middle;\n",
       "    }\n",
       "\n",
       "    .dataframe tbody tr th {\n",
       "        vertical-align: top;\n",
       "    }\n",
       "\n",
       "    .dataframe thead th {\n",
       "        text-align: right;\n",
       "    }\n",
       "</style>\n",
       "<table border=\"1\" class=\"dataframe\">\n",
       "  <thead>\n",
       "    <tr style=\"text-align: right;\">\n",
       "      <th></th>\n",
       "      <th>group_count</th>\n",
       "    </tr>\n",
       "  </thead>\n",
       "  <tbody>\n",
       "    <tr>\n",
       "      <th>0</th>\n",
       "      <td>372067</td>\n",
       "    </tr>\n",
       "  </tbody>\n",
       "</table>\n",
       "</div>"
      ],
      "text/plain": [
       "   group_count\n",
       "0       372067"
      ]
     },
     "execution_count": 6,
     "metadata": {},
     "output_type": "execute_result"
    }
   ],
   "source": [
    "%%bigquery  --project $PROJECT_ID\n",
    "\n",
    "CREATE OR REPLACE TABLE recommendations.valid_groups\n",
    "AS\n",
    "SELECT \n",
    "  group_Id, \n",
    "  COUNT(item_Id) AS group_size\n",
    "FROM recommendations.vw_item_groups\n",
    "WHERE item_Id IN (SELECT item_Id FROM recommendations.valid_items)\n",
    "GROUP BY group_Id\n",
    "HAVING group_size BETWEEN 2 AND 100;\n",
    "\n",
    "SELECT COUNT(*) group_count FROM recommendations.valid_groups;"
   ]
  },
  {
   "cell_type": "markdown",
   "metadata": {
    "id": "Uy38zSdyBylz"
   },
   "source": [
    "Count the number of records with valid songs and playlists:"
   ]
  },
  {
   "cell_type": "code",
   "execution_count": 7,
   "metadata": {
    "id": "xyuWCHvnYnqI"
   },
   "outputs": [
    {
     "name": "stderr",
     "output_type": "stream",
     "text": [
      "Query complete after 0.00s: 100%|██████████| 4/4 [00:00<00:00, 2313.46query/s]                        \n",
      "Downloading: 100%|██████████| 1/1 [00:00<00:00,  1.27rows/s]\n"
     ]
    },
    {
     "data": {
      "text/html": [
       "<div>\n",
       "<style scoped>\n",
       "    .dataframe tbody tr th:only-of-type {\n",
       "        vertical-align: middle;\n",
       "    }\n",
       "\n",
       "    .dataframe tbody tr th {\n",
       "        vertical-align: top;\n",
       "    }\n",
       "\n",
       "    .dataframe thead th {\n",
       "        text-align: right;\n",
       "    }\n",
       "</style>\n",
       "<table border=\"1\" class=\"dataframe\">\n",
       "  <thead>\n",
       "    <tr style=\"text-align: right;\">\n",
       "      <th></th>\n",
       "      <th>record_count</th>\n",
       "    </tr>\n",
       "  </thead>\n",
       "  <tbody>\n",
       "    <tr>\n",
       "      <th>0</th>\n",
       "      <td>7465004</td>\n",
       "    </tr>\n",
       "  </tbody>\n",
       "</table>\n",
       "</div>"
      ],
      "text/plain": [
       "   record_count\n",
       "0       7465004"
      ]
     },
     "execution_count": 7,
     "metadata": {},
     "output_type": "execute_result"
    }
   ],
   "source": [
    "%%bigquery  --project $PROJECT_ID\n",
    "\n",
    "SELECT COUNT(*) record_count\n",
    "FROM `recommendations.vw_item_groups`\n",
    "WHERE item_Id IN (SELECT item_Id FROM recommendations.valid_items)\n",
    "AND group_Id IN (SELECT group_Id FROM recommendations.valid_groups);"
   ]
  },
  {
   "cell_type": "markdown",
   "metadata": {
    "id": "HcpeCnSfByl0"
   },
   "source": [
    "Show the playlist size distribution:"
   ]
  },
  {
   "cell_type": "code",
   "execution_count": 8,
   "metadata": {
    "id": "T3Vzdt0gctkq"
   },
   "outputs": [
    {
     "name": "stderr",
     "output_type": "stream",
     "text": [
      "Query complete after 0.00s: 100%|██████████| 6/6 [00:00<00:00, 4148.67query/s]                        \n",
      "Downloading: 100%|██████████| 6/6 [00:00<00:00,  6.78rows/s]\n"
     ]
    }
   ],
   "source": [
    "%%bigquery size_distribution --project $PROJECT_ID\n",
    "\n",
    "WITH group_sizes\n",
    "AS\n",
    "(\n",
    "  SELECT \n",
    "    group_Id, \n",
    "    ML.BUCKETIZE(\n",
    "      COUNT(item_Id), [10, 20, 30, 40, 50, 101])\n",
    "     AS group_size\n",
    "  FROM `recommendations.vw_item_groups`\n",
    "  WHERE item_Id IN (SELECT item_Id FROM recommendations.valid_items)\n",
    "  AND group_Id IN (SELECT group_Id FROM recommendations.valid_groups)\n",
    "  GROUP BY group_Id\n",
    ")\n",
    "\n",
    "SELECT \n",
    "  CASE \n",
    "    WHEN group_size = 'bin_1' THEN '[1 - 10]'\n",
    "    WHEN group_size = 'bin_2' THEN '[10 - 20]'\n",
    "    WHEN group_size = 'bin_3' THEN '[20 - 30]'\n",
    "    WHEN group_size = 'bin_4' THEN '[30 - 40]'\n",
    "    WHEN group_size = 'bin_5' THEN '[40 - 50]'\n",
    "    ELSE '[50 - 100]'\n",
    "  END AS group_size,\n",
    "  CASE \n",
    "    WHEN group_size = 'bin_1' THEN 1\n",
    "    WHEN group_size = 'bin_2' THEN 2\n",
    "    WHEN group_size = 'bin_3' THEN 3\n",
    "    WHEN group_size = 'bin_4' THEN 4\n",
    "    WHEN group_size = 'bin_5' THEN 5\n",
    "    ELSE 6\n",
    "  END AS bucket_Id,\n",
    "  COUNT(group_Id) group_count\n",
    "FROM group_sizes\n",
    "GROUP BY group_size, bucket_Id\n",
    "ORDER BY bucket_Id "
   ]
  },
  {
   "cell_type": "code",
   "execution_count": 9,
   "metadata": {
    "id": "diSmT8oMduma"
   },
   "outputs": [
    {
     "data": {
      "image/png": "[encoded data removed]",
      "text/plain": [
       "<Figure size 1440x360 with 1 Axes>"
      ]
     },
     "metadata": {
      "needs_background": "light"
     },
     "output_type": "display_data"
    }
   ],
   "source": [
    "plt.figure(figsize=(20,5))\n",
    "q = sns.barplot(x='group_size', y='group_count', data=size_distribution)"
   ]
  },
  {
   "cell_type": "markdown",
   "metadata": {
    "id": "P3gparz9Byl2"
   },
   "source": [
    "Show the song occurrence distribution:"
   ]
  },
  {
   "cell_type": "code",
   "execution_count": 10,
   "metadata": {
    "id": "KEyeUhGNeyfU"
   },
   "outputs": [
    {
     "name": "stderr",
     "output_type": "stream",
     "text": [
      "Query complete after 0.00s: 100%|██████████| 6/6 [00:00<00:00, 4597.34query/s]                        \n",
      "Downloading: 100%|██████████| 7/7 [00:00<00:00,  7.94rows/s]\n"
     ]
    }
   ],
   "source": [
    "%%bigquery occurrence_distribution --project $PROJECT_ID\n",
    "\n",
    "WITH item_frequency\n",
    "AS\n",
    "(\n",
    "  SELECT \n",
    "    Item_Id, \n",
    "    ML.BUCKETIZE(\n",
    "      COUNT(group_Id)\n",
    "      , [15, 30, 50, 100, 200, 300, 400]) AS group_count\n",
    "  FROM `recommendations.vw_item_groups`\n",
    "  WHERE item_Id IN (SELECT item_Id FROM recommendations.valid_items)\n",
    "  AND group_Id IN (SELECT group_Id FROM recommendations.valid_groups)\n",
    "  GROUP BY Item_Id\n",
    ")\n",
    "\n",
    "\n",
    "SELECT \n",
    "  CASE \n",
    "    WHEN group_count = 'bin_1' THEN '[15 - 30]'\n",
    "    WHEN group_count = 'bin_2' THEN '[30 - 50]'\n",
    "    WHEN group_count = 'bin_3' THEN '[50 - 100]'\n",
    "    WHEN group_count = 'bin_4' THEN '[100 - 200]'\n",
    "    WHEN group_count = 'bin_5' THEN '[200 - 300]'\n",
    "    WHEN group_count = 'bin_6' THEN '[300 - 400]'\n",
    "    ELSE '[400+]'\n",
    "  END AS group_count,\n",
    "  CASE \n",
    "    WHEN group_count = 'bin_1' THEN 1\n",
    "    WHEN group_count = 'bin_2' THEN 2\n",
    "    WHEN group_count = 'bin_3' THEN 3\n",
    "    WHEN group_count = 'bin_4' THEN 4\n",
    "    WHEN group_count = 'bin_5' THEN 5\n",
    "    WHEN group_count = 'bin_6' THEN 6\n",
    "    ELSE 7\n",
    "  END AS bucket_Id,\n",
    "  COUNT(Item_Id) item_count\n",
    "FROM item_frequency\n",
    "GROUP BY group_count, bucket_Id\n",
    "ORDER BY bucket_Id "
   ]
  },
  {
   "cell_type": "code",
   "execution_count": 11,
   "metadata": {
    "id": "Z-T1fZIDh_Nt"
   },
   "outputs": [
    {
     "data": {
      "image/png": "[encoded data removed]",
      "text/plain": [
       "<Figure size 1440x360 with 1 Axes>"
      ]
     },
     "metadata": {
      "needs_background": "light"
     },
     "output_type": "display_data"
    }
   ],
   "source": [
    "plt.figure(figsize=(20, 5))\n",
    "q = sns.barplot(x='group_count', y='item_count', data=occurrence_distribution)"
   ]
  },
  {
   "cell_type": "code",
   "execution_count": 12,
   "metadata": {
    "id": "xU48zbXN1Mvq"
   },
   "outputs": [
    {
     "name": "stderr",
     "output_type": "stream",
     "text": [
      "Query complete after 0.00s: 100%|██████████| 1/1 [00:00<00:00, 1560.96query/s]\n"
     ]
    },
    {
     "data": {
      "text/html": [
       "<div>\n",
       "<style scoped>\n",
       "    .dataframe tbody tr th:only-of-type {\n",
       "        vertical-align: middle;\n",
       "    }\n",
       "\n",
       "    .dataframe tbody tr th {\n",
       "        vertical-align: top;\n",
       "    }\n",
       "\n",
       "    .dataframe thead th {\n",
       "        text-align: right;\n",
       "    }\n",
       "</style>\n",
       "<table border=\"1\" class=\"dataframe\">\n",
       "  <thead>\n",
       "    <tr style=\"text-align: right;\">\n",
       "      <th></th>\n",
       "    </tr>\n",
       "  </thead>\n",
       "  <tbody>\n",
       "  </tbody>\n",
       "</table>\n",
       "</div>"
      ],
      "text/plain": [
       "Empty DataFrame\n",
       "Columns: []\n",
       "Index: []"
      ]
     },
     "execution_count": 12,
     "metadata": {},
     "output_type": "execute_result"
    }
   ],
   "source": [
    "%%bigquery --project $PROJECT_ID\n",
    "\n",
    "DROP TABLE IF EXISTS recommendations.valid_items;"
   ]
  },
  {
   "cell_type": "code",
   "execution_count": 13,
   "metadata": {
    "id": "3jtzZV_L1yqv"
   },
   "outputs": [
    {
     "name": "stderr",
     "output_type": "stream",
     "text": [
      "Query complete after 0.00s: 100%|██████████| 1/1 [00:00<00:00, 1237.62query/s] \n"
     ]
    },
    {
     "data": {
      "text/html": [
       "<div>\n",
       "<style scoped>\n",
       "    .dataframe tbody tr th:only-of-type {\n",
       "        vertical-align: middle;\n",
       "    }\n",
       "\n",
       "    .dataframe tbody tr th {\n",
       "        vertical-align: top;\n",
       "    }\n",
       "\n",
       "    .dataframe thead th {\n",
       "        text-align: right;\n",
       "    }\n",
       "</style>\n",
       "<table border=\"1\" class=\"dataframe\">\n",
       "  <thead>\n",
       "    <tr style=\"text-align: right;\">\n",
       "      <th></th>\n",
       "    </tr>\n",
       "  </thead>\n",
       "  <tbody>\n",
       "  </tbody>\n",
       "</table>\n",
       "</div>"
      ],
      "text/plain": [
       "Empty DataFrame\n",
       "Columns: []\n",
       "Index: []"
      ]
     },
     "execution_count": 13,
     "metadata": {},
     "output_type": "execute_result"
    }
   ],
   "source": [
    "%%bigquery --project $PROJECT_ID\n",
    "\n",
    "DROP TABLE IF EXISTS recommendations.valid_groups;"
   ]
  },
  {
   "cell_type": "markdown",
   "metadata": {
    "id": "1tTZYlTKtuhu"
   },
   "source": [
    "## Compute song PMI data\r\n",
    "\r\n",
    "You run the [sp_ComputePMI](sql_scripts/sp_ComputePMI.sql) stored procedure to compute song PMI data. This PMI data is what you'll use to train the matrix factorization model in the next section.\r\n",
    "\r\n",
    "This stored procedure accepts the following parameters:\r\n",
    "\r\n",
    "+ `min_item_frequency` — Sets the minimum number of times that a song must appear on playlists.\r\n",
    "+ `max_group_size` — Sets the maximum number of songs that a playlist can contain.\r\n",
    "\r\n",
    "These parameters are used together to select records where the song occurs on a number of playlists equal to or greater than the `min_item_frequency` value and the playlist contains a number of songs between 2 and the `max_group_size` value. These are the records that get processed to make the training dataset.\r\n",
    "\r\n",
    "The stored procedure works as follows:\r\n",
    "\r\n",
    "1. Selects a `valid_item_groups1 table and populates it with records from the\r\n",
    "   `vw_item_groups` view that meet the following criteria:\r\n",
    "\r\n",
    "    + The song occurs on a number of playlists equal to or greater than the\r\n",
    "      `min_item_frequency` value\r\n",
    "    + The playlist contains a number of songs between 2 and the `max_group_size`\r\n",
    "      value.\r\n",
    "\r\n",
    "1. Creates the `item_cooc` table and populates it with co-occurrence data that\r\n",
    "   identifies pairs of songs that occur on the same playlist. It does this by:\r\n",
    "\r\n",
    "    1. Self-joining the `valid_item_groups` table on the `group_id` column.\r\n",
    "    1. Setting the `cooc` column to 1.\r\n",
    "    1. Summing the `cooc` column for the `item1_Id` and `item2_Id` columns.\r\n",
    "\r\n",
    "1. Creates an `item_frequency` table and populates it with data that identifies\r\n",
    "   how many playlists each song occurs in.\r\n",
    "1. Recreates the `item_cooc` table to include the following record sets:\r\n",
    "\r\n",
    "    + The `item1_Id`, `item2_Id`, and `cooc` data from the original `item_cooc`\r\n",
    "      table. The PMI values calculated from these song pairs lets the solution\r\n",
    "      calculate the embeddings for the rows in the feedback matrix.\r\n",
    "\r\n",
    "     <img src=\"figures/feedback-matrix-rows.png\" alt=\"Embedding matrix that shows the matrix rows calculated by this step.\" style=\"width: 400px;\"/>\r\n",
    "\r\n",
    "    + The same data as in the previous bullet, but with the `item1_Id` data\r\n",
    "      written to the `item2_Id` column and the `item2_Id` data written to the\r\n",
    "      `item1_Id` column. This data provides the mirror values of the initial\r\n",
    "      entities in the feedback matrix. The PMI values calculated from these\r\n",
    "      song pairs lets the solution calculate the embeddings for the columns in\r\n",
    "      the feedback matrix.\r\n",
    "\r\n",
    "     <img src=\"figures/feedback-matrix-columns.png\" alt=\"Embedding matrix that shows the matrix columns calculated by this step.\" style=\"width: 400px;\"/>\r\n",
    "\r\n",
    "    + The data from the `item_frequency` table. The `item_Id` data is written\r\n",
    "      to both the `item1_Id` and `item2_Id` columns and the `frequency` data is\r\n",
    "      written to the `cooc` column. This data provides the diagonal entries of\r\n",
    "      the feedback matrix. The PMI values calculated from these song pairs lets\r\n",
    "      the solution calculate the embeddings for the diagonals in the feedback\r\n",
    "      matrix.\r\n",
    "\r\n",
    "     <img src=\"figures/feedback-matrix-diagonals.png\" alt=\"Embedding matrix that shows the matrix diagonals calculated by this step.\" style=\"width: 400px;\"/>\r\n",
    "\r\n",
    "1. Computes the PMI for item pairs in the `item_cooc` table, then recreates the\r\n",
    "   `item_cooc` table to include this data in the `pmi` column."
   ]
  },
  {
   "cell_type": "markdown",
   "metadata": {
    "id": "Id6-wKlpdD09"
   },
   "source": [
    "### Run the `sp_ComputePMI` stored procedure"
   ]
  },
  {
   "cell_type": "code",
   "execution_count": 15,
   "metadata": {
    "id": "Gw8QwUhaF15_"
   },
   "outputs": [
    {
     "name": "stderr",
     "output_type": "stream",
     "text": [
      "Query complete after 0.00s: 100%|██████████| 1/1 [00:00<00:00, 1309.90query/s]\n"
     ]
    },
    {
     "data": {
      "text/html": [
       "<div>\n",
       "<style scoped>\n",
       "    .dataframe tbody tr th:only-of-type {\n",
       "        vertical-align: middle;\n",
       "    }\n",
       "\n",
       "    .dataframe tbody tr th {\n",
       "        vertical-align: top;\n",
       "    }\n",
       "\n",
       "    .dataframe thead th {\n",
       "        text-align: right;\n",
       "    }\n",
       "</style>\n",
       "<table border=\"1\" class=\"dataframe\">\n",
       "  <thead>\n",
       "    <tr style=\"text-align: right;\">\n",
       "      <th></th>\n",
       "    </tr>\n",
       "  </thead>\n",
       "  <tbody>\n",
       "  </tbody>\n",
       "</table>\n",
       "</div>"
      ],
      "text/plain": [
       "Empty DataFrame\n",
       "Columns: []\n",
       "Index: []"
      ]
     },
     "execution_count": 15,
     "metadata": {},
     "output_type": "execute_result"
    }
   ],
   "source": [
    "%%bigquery --project $PROJECT_ID\n",
    "\n",
    "DECLARE min_item_frequency INT64;\n",
    "DECLARE max_group_size INT64;\n",
    "\n",
    "SET min_item_frequency = 15;\n",
    "SET max_group_size = 100;\n",
    "\n",
    "CALL css_retail.sp_ComputePMI(min_item_frequency, max_group_size);"
   ]
  },
  {
   "cell_type": "markdown",
   "metadata": {
    "id": "ve4DjWj4dRqU"
   },
   "source": [
    "### View the song PMI data"
   ]
  },
  {
   "cell_type": "code",
   "execution_count": 20,
   "metadata": {
    "id": "2hwRjMOqGCl9"
   },
   "outputs": [
    {
     "name": "stderr",
     "output_type": "stream",
     "text": [
      "Query complete after 0.00s: 100%|██████████| 4/4 [00:00<00:00, 2537.77query/s]                        \n",
      "Downloading: 100%|██████████| 10/10 [00:01<00:00,  5.41rows/s]\n"
     ]
    },
    {
     "data": {
      "text/html": [
       "<div>\n",
       "<style scoped>\n",
       "    .dataframe tbody tr th:only-of-type {\n",
       "        vertical-align: middle;\n",
       "    }\n",
       "\n",
       "    .dataframe tbody tr th {\n",
       "        vertical-align: top;\n",
       "    }\n",
       "\n",
       "    .dataframe thead th {\n",
       "        text-align: right;\n",
       "    }\n",
       "</style>\n",
       "<table border=\"1\" class=\"dataframe\">\n",
       "  <thead>\n",
       "    <tr style=\"text-align: right;\">\n",
       "      <th></th>\n",
       "      <th>item1_Id</th>\n",
       "      <th>item2_Id</th>\n",
       "      <th>freq1</th>\n",
       "      <th>freq2</th>\n",
       "      <th>cooc</th>\n",
       "      <th>pmi</th>\n",
       "      <th>score</th>\n",
       "    </tr>\n",
       "  </thead>\n",
       "  <tbody>\n",
       "    <tr>\n",
       "      <th>0</th>\n",
       "      <td>20552</td>\n",
       "      <td>20547</td>\n",
       "      <td>9315</td>\n",
       "      <td>4531</td>\n",
       "      <td>1538</td>\n",
       "      <td>3.139335</td>\n",
       "      <td>4828.296786</td>\n",
       "    </tr>\n",
       "    <tr>\n",
       "      <th>1</th>\n",
       "      <td>20547</td>\n",
       "      <td>20552</td>\n",
       "      <td>4531</td>\n",
       "      <td>9315</td>\n",
       "      <td>1538</td>\n",
       "      <td>3.139335</td>\n",
       "      <td>4828.296786</td>\n",
       "    </tr>\n",
       "    <tr>\n",
       "      <th>2</th>\n",
       "      <td>20552</td>\n",
       "      <td>28305</td>\n",
       "      <td>9315</td>\n",
       "      <td>5916</td>\n",
       "      <td>1469</td>\n",
       "      <td>2.688321</td>\n",
       "      <td>3949.143611</td>\n",
       "    </tr>\n",
       "    <tr>\n",
       "      <th>3</th>\n",
       "      <td>28305</td>\n",
       "      <td>20552</td>\n",
       "      <td>5916</td>\n",
       "      <td>9315</td>\n",
       "      <td>1469</td>\n",
       "      <td>2.688321</td>\n",
       "      <td>3949.143611</td>\n",
       "    </tr>\n",
       "    <tr>\n",
       "      <th>4</th>\n",
       "      <td>23641</td>\n",
       "      <td>20552</td>\n",
       "      <td>4980</td>\n",
       "      <td>9315</td>\n",
       "      <td>1242</td>\n",
       "      <td>2.694628</td>\n",
       "      <td>3346.728137</td>\n",
       "    </tr>\n",
       "    <tr>\n",
       "      <th>5</th>\n",
       "      <td>20552</td>\n",
       "      <td>23641</td>\n",
       "      <td>9315</td>\n",
       "      <td>4980</td>\n",
       "      <td>1242</td>\n",
       "      <td>2.694628</td>\n",
       "      <td>3346.728137</td>\n",
       "    </tr>\n",
       "    <tr>\n",
       "      <th>6</th>\n",
       "      <td>20552</td>\n",
       "      <td>20542</td>\n",
       "      <td>9315</td>\n",
       "      <td>3046</td>\n",
       "      <td>1027</td>\n",
       "      <td>3.129629</td>\n",
       "      <td>3214.128920</td>\n",
       "    </tr>\n",
       "    <tr>\n",
       "      <th>7</th>\n",
       "      <td>20542</td>\n",
       "      <td>20552</td>\n",
       "      <td>3046</td>\n",
       "      <td>9315</td>\n",
       "      <td>1027</td>\n",
       "      <td>3.129629</td>\n",
       "      <td>3214.128920</td>\n",
       "    </tr>\n",
       "    <tr>\n",
       "      <th>8</th>\n",
       "      <td>22699</td>\n",
       "      <td>20552</td>\n",
       "      <td>3108</td>\n",
       "      <td>9315</td>\n",
       "      <td>824</td>\n",
       "      <td>2.782838</td>\n",
       "      <td>2293.058872</td>\n",
       "    </tr>\n",
       "    <tr>\n",
       "      <th>9</th>\n",
       "      <td>20552</td>\n",
       "      <td>22699</td>\n",
       "      <td>9315</td>\n",
       "      <td>3108</td>\n",
       "      <td>824</td>\n",
       "      <td>2.782838</td>\n",
       "      <td>2293.058872</td>\n",
       "    </tr>\n",
       "  </tbody>\n",
       "</table>\n",
       "</div>"
      ],
      "text/plain": [
       "   item1_Id  item2_Id  freq1  freq2  cooc       pmi        score\n",
       "0     20552     20547   9315   4531  1538  3.139335  4828.296786\n",
       "1     20547     20552   4531   9315  1538  3.139335  4828.296786\n",
       "2     20552     28305   9315   5916  1469  2.688321  3949.143611\n",
       "3     28305     20552   5916   9315  1469  2.688321  3949.143611\n",
       "4     23641     20552   4980   9315  1242  2.694628  3346.728137\n",
       "5     20552     23641   9315   4980  1242  2.694628  3346.728137\n",
       "6     20552     20542   9315   3046  1027  3.129629  3214.128920\n",
       "7     20542     20552   3046   9315  1027  3.129629  3214.128920\n",
       "8     22699     20552   3108   9315   824  2.782838  2293.058872\n",
       "9     20552     22699   9315   3108   824  2.782838  2293.058872"
      ]
     },
     "execution_count": 20,
     "metadata": {},
     "output_type": "execute_result"
    }
   ],
   "source": [
    "%%bigquery --project $PROJECT_ID\n",
    "\n",
    "SELECT \n",
    "  a.item1_Id, \n",
    "  a.item2_Id, \n",
    "  b.frequency AS freq1,\n",
    "  c.frequency AS freq2,\n",
    "  a.cooc,\n",
    "  a.pmi,\n",
    "  a.cooc * a.pmi AS score\n",
    "FROM css_retail.item_cooc a\n",
    "JOIN css_retail.item_frequency b\n",
    "ON a.item1_Id = b.item_Id\n",
    "JOIN css_retail.item_frequency c \n",
    "ON a.item2_Id = c.item_Id\n",
    "WHERE a.item1_Id != a.item2_Id\n",
    "ORDER BY score DESC\n",
    "LIMIT 10;"
   ]
  },
  {
   "cell_type": "code",
   "execution_count": 21,
   "metadata": {
    "id": "DbPg-dllGjth"
   },
   "outputs": [
    {
     "name": "stderr",
     "output_type": "stream",
     "text": [
      "Query complete after 0.00s: 100%|██████████| 2/2 [00:00<00:00, 1614.44query/s]                        \n",
      "Downloading: 100%|██████████| 1/1 [00:01<00:00,  1.04s/rows]\n"
     ]
    },
    {
     "data": {
      "text/html": [
       "<div>\n",
       "<style scoped>\n",
       "    .dataframe tbody tr th:only-of-type {\n",
       "        vertical-align: middle;\n",
       "    }\n",
       "\n",
       "    .dataframe tbody tr th {\n",
       "        vertical-align: top;\n",
       "    }\n",
       "\n",
       "    .dataframe thead th {\n",
       "        text-align: right;\n",
       "    }\n",
       "</style>\n",
       "<table border=\"1\" class=\"dataframe\">\n",
       "  <thead>\n",
       "    <tr style=\"text-align: right;\">\n",
       "      <th></th>\n",
       "      <th>records_count</th>\n",
       "    </tr>\n",
       "  </thead>\n",
       "  <tbody>\n",
       "    <tr>\n",
       "      <th>0</th>\n",
       "      <td>529897</td>\n",
       "    </tr>\n",
       "  </tbody>\n",
       "</table>\n",
       "</div>"
      ],
      "text/plain": [
       "   records_count\n",
       "0         529897"
      ]
     },
     "execution_count": 21,
     "metadata": {},
     "output_type": "execute_result"
    }
   ],
   "source": [
    "%%bigquery --project $PROJECT_ID\n",
    "\n",
    "SELECT COUNT(*) records_count \n",
    "FROM css_retail.item_cooc"
   ]
  },
  {
   "cell_type": "markdown",
   "metadata": {
    "id": "o2VcN4iwc8e6"
   },
   "source": [
    "## Train the BigQuery ML matrix factorization model\n",
    "\n",
    "You run the [sp_TrainItemMatchingModel](sql_scripts/sp_TrainItemMatchingModel.sql) stored procedure to train the `item_matching_model` matrix factorization model on the song PMI data. The model builds a feedback matrix, which in turn is used to calculate item embeddings for the songs. For more information about how this process works, see [Understanding item embeddings](https://cloud.google.com/solutions/real-time-item-matching#understanding_item_embeddings).\n",
    "\n",
    "This stored procedure accepts the `dimensions` parameter, which provides the value for the [NUM_FACTORS](https://cloud.google.com/bigquery-ml/docs/reference/standard-sql/bigqueryml-syntax-create-matrix-factorization#num_factors) parameter of the [CREATE MODEL](https://cloud.google.com/bigquery-ml/docs/reference/standard-sql/bigqueryml-syntax-create-matrix-factorization) statement. The `NUM_FACTORS` parameter lets you set the number of latent factors to use in the model. Higher values for this parameter can increase model performance, but will also increase the time needed to train the model. Using the default `dimensions` value of 50, the model takes around 120 minutes to train.\n"
   ]
  },
  {
   "cell_type": "markdown",
   "metadata": {
    "id": "XnMPdHARBymC"
   },
   "source": [
    "### Run the `sp_TrainItemMatchingModel` stored procedure\r\n",
    "\r\n",
    "After the `item_matching_model model` is created successfully, you can use the the [BigQuery console](https://console.cloud.google.com/bigquery) to investigate the loss through the training iterations, and also see the final evaluation metrics."
   ]
  },
  {
   "cell_type": "code",
   "execution_count": 34,
   "metadata": {
    "id": "W8SDQi3SiBhW"
   },
   "outputs": [
    {
     "name": "stderr",
     "output_type": "stream",
     "text": [
      "Query complete after 0.00s: 100%|██████████| 1/1 [00:00<00:00, 1208.73query/s] \n"
     ]
    },
    {
     "data": {
      "text/html": [
       "<div>\n",
       "<style scoped>\n",
       "    .dataframe tbody tr th:only-of-type {\n",
       "        vertical-align: middle;\n",
       "    }\n",
       "\n",
       "    .dataframe tbody tr th {\n",
       "        vertical-align: top;\n",
       "    }\n",
       "\n",
       "    .dataframe thead th {\n",
       "        text-align: right;\n",
       "    }\n",
       "</style>\n",
       "<table border=\"1\" class=\"dataframe\">\n",
       "  <thead>\n",
       "    <tr style=\"text-align: right;\">\n",
       "      <th></th>\n",
       "    </tr>\n",
       "  </thead>\n",
       "  <tbody>\n",
       "  </tbody>\n",
       "</table>\n",
       "</div>"
      ],
      "text/plain": [
       "Empty DataFrame\n",
       "Columns: []\n",
       "Index: []"
      ]
     },
     "execution_count": 34,
     "metadata": {},
     "output_type": "execute_result"
    }
   ],
   "source": [
    "%%bigquery --project $PROJECT_ID\n",
    "\n",
    "DECLARE dimensions INT64 DEFAULT 50;\n",
    "CALL css_retail.sp_TrainItemMatchingModel(dimensions)"
   ]
  },
  {
   "cell_type": "markdown",
   "metadata": {
    "id": "OR9mOYivM9Qg"
   },
   "source": [
    "### Explore the trained embeddings"
   ]
  },
  {
   "cell_type": "markdown",
   "metadata": {},
   "source": [
    "#### Example data: \n",
    "    \n",
    "```\n",
    "Name/ID\tRETAIL_PRICE\tcategory\tcost\tdepartment\tname\tsub_category\n",
    "id=1\t49\tClothing\t27.048\tWomen\tSeven7 Women's Long Sleeve Stripe Belted Top\tTops & Tees\t\n",
    "id=2\t69.5\tClothing\t36.6265\tWomen\tCalvin Klein Women's MSY Crew Neck Roll Sleeve\tTops & Tees\t\n",
    "id=3\t69.5\tClothing\t41.005\tWomen\tCalvin Klein Jeans Women's Solid Flyaway Shirt\tTops & Tees\t\n",
    "id=4\t108\tClothing\t57.132\tWomen\tBailey 44 Women's Undertow Top\tTops & Tees\t\n",
    "id=5\t94\tClothing\t52.358\tWomen\tAnne Klein Women's Plus-Size Button Front Blouse\tTops & Tees\t\n",
    "id=6\t132\tClothing\t78.936\tWomen\tWilt Women's Color Blocked Big Mixed Slant Top\tTops & Tees\t\n",
    "id=7\t39.5\tClothing\t20.935\tWomen\tLucky Brand Women's Riad Tee\tTops & Tees\t\n",
    "id=8\t168\tClothing\t102.312\tWomen\tElla Moss Women's Stella Button Up Shirt\tTops & Tees\t\n",
    "id=9\t54\tClothing\t27.918\tWomen\tAlternative Women's Alice Drop Shoulder V-Neck\tTops & Tees\t\n",
    "id=10\t59.5\tClothing\t32.6655\tWomen\tCalvin Klein Women's Plus-Size Print Drape Top\tTops & Tees\t\n",
    "```"
   ]
  },
  {
   "cell_type": "code",
   "execution_count": 42,
   "metadata": {
    "id": "0a_hI3-sNA_Q"
   },
   "outputs": [
    {
     "name": "stderr",
     "output_type": "stream",
     "text": [
      "Query complete after 0.00s: 100%|██████████| 1/1 [00:00<00:00, 1031.81query/s]\n",
      "Downloading: 100%|██████████| 8/8 [00:00<00:00, 11.14rows/s]\n"
     ]
    }
   ],
   "source": [
    "%%bigquery product_embeddings --project $PROJECT_ID\n",
    "\n",
    "SELECT \n",
    "    feature,\n",
    "    processed_input,\n",
    "    factor_weights,\n",
    "    intercept\n",
    "FROM\n",
    "  ML.WEIGHTS(MODEL css_retail.item_matching_model) \n",
    "WHERE \n",
    "  feature IN ('4096', '7424',\n",
    "              '4352',\n",
    "              '5120',\n",
    "              '7424')\n",
    "    "
   ]
  },
  {
   "cell_type": "code",
   "execution_count": 43,
   "metadata": {},
   "outputs": [
    {
     "data": {
      "text/html": [
       "<div>\n",
       "<style scoped>\n",
       "    .dataframe tbody tr th:only-of-type {\n",
       "        vertical-align: middle;\n",
       "    }\n",
       "\n",
       "    .dataframe tbody tr th {\n",
       "        vertical-align: top;\n",
       "    }\n",
       "\n",
       "    .dataframe thead th {\n",
       "        text-align: right;\n",
       "    }\n",
       "</style>\n",
       "<table border=\"1\" class=\"dataframe\">\n",
       "  <thead>\n",
       "    <tr style=\"text-align: right;\">\n",
       "      <th></th>\n",
       "      <th>feature</th>\n",
       "      <th>processed_input</th>\n",
       "      <th>factor_weights</th>\n",
       "      <th>intercept</th>\n",
       "    </tr>\n",
       "  </thead>\n",
       "  <tbody>\n",
       "    <tr>\n",
       "      <th>0</th>\n",
       "      <td>4096</td>\n",
       "      <td>item1_Id</td>\n",
       "      <td>[{'factor': 50, 'weight': -2.59751941855663}, ...</td>\n",
       "      <td>-11.573444</td>\n",
       "    </tr>\n",
       "    <tr>\n",
       "      <th>1</th>\n",
       "      <td>4352</td>\n",
       "      <td>item1_Id</td>\n",
       "      <td>[{'factor': 50, 'weight': -5.087073830506535},...</td>\n",
       "      <td>-12.791570</td>\n",
       "    </tr>\n",
       "    <tr>\n",
       "      <th>2</th>\n",
       "      <td>5120</td>\n",
       "      <td>item1_Id</td>\n",
       "      <td>[{'factor': 50, 'weight': -1.2850673162904536}...</td>\n",
       "      <td>-11.825593</td>\n",
       "    </tr>\n",
       "    <tr>\n",
       "      <th>3</th>\n",
       "      <td>7424</td>\n",
       "      <td>item1_Id</td>\n",
       "      <td>[{'factor': 50, 'weight': -1.9660092010028811}...</td>\n",
       "      <td>-14.985953</td>\n",
       "    </tr>\n",
       "    <tr>\n",
       "      <th>4</th>\n",
       "      <td>4096</td>\n",
       "      <td>item2_Id</td>\n",
       "      <td>[{'factor': 50, 'weight': -0.01312370493018342...</td>\n",
       "      <td>15.319435</td>\n",
       "    </tr>\n",
       "    <tr>\n",
       "      <th>5</th>\n",
       "      <td>4352</td>\n",
       "      <td>item2_Id</td>\n",
       "      <td>[{'factor': 50, 'weight': -0.00790865057583409...</td>\n",
       "      <td>16.777506</td>\n",
       "    </tr>\n",
       "    <tr>\n",
       "      <th>6</th>\n",
       "      <td>5120</td>\n",
       "      <td>item2_Id</td>\n",
       "      <td>[{'factor': 50, 'weight': -0.01113235965752636...</td>\n",
       "      <td>16.339079</td>\n",
       "    </tr>\n",
       "    <tr>\n",
       "      <th>7</th>\n",
       "      <td>7424</td>\n",
       "      <td>item2_Id</td>\n",
       "      <td>[{'factor': 50, 'weight': -0.00414207764924787...</td>\n",
       "      <td>16.138213</td>\n",
       "    </tr>\n",
       "  </tbody>\n",
       "</table>\n",
       "</div>"
      ],
      "text/plain": [
       "  feature processed_input                                     factor_weights  \\\n",
       "0    4096        item1_Id  [{'factor': 50, 'weight': -2.59751941855663}, ...   \n",
       "1    4352        item1_Id  [{'factor': 50, 'weight': -5.087073830506535},...   \n",
       "2    5120        item1_Id  [{'factor': 50, 'weight': -1.2850673162904536}...   \n",
       "3    7424        item1_Id  [{'factor': 50, 'weight': -1.9660092010028811}...   \n",
       "4    4096        item2_Id  [{'factor': 50, 'weight': -0.01312370493018342...   \n",
       "5    4352        item2_Id  [{'factor': 50, 'weight': -0.00790865057583409...   \n",
       "6    5120        item2_Id  [{'factor': 50, 'weight': -0.01113235965752636...   \n",
       "7    7424        item2_Id  [{'factor': 50, 'weight': -0.00414207764924787...   \n",
       "\n",
       "   intercept  \n",
       "0 -11.573444  \n",
       "1 -12.791570  \n",
       "2 -11.825593  \n",
       "3 -14.985953  \n",
       "4  15.319435  \n",
       "5  16.777506  \n",
       "6  16.339079  \n",
       "7  16.138213  "
      ]
     },
     "execution_count": 43,
     "metadata": {},
     "output_type": "execute_result"
    }
   ],
   "source": [
    "product_embeddings"
   ]
  },
  {
   "cell_type": "code",
   "execution_count": 62,
   "metadata": {
    "id": "Ug9us_TbGjYy"
   },
   "outputs": [],
   "source": [
    "products = {\n",
    "    '1': \"Seven7 Women's Long Sleeve Stripe Belted Top\",\n",
    "    '2': \"Calvin Klein Women's MSY Crew Neck Roll Sleeve\",\n",
    "    '3': \"Calvin Klein Women's MSY Crew Neck Roll Sleeve\",\n",
    "    '4': \"Bailey 44 Women's Undertow Top\",\n",
    "    '5': \"Anne Klein Women's Plus-Size Button Front Blouse\",\n",
    "    '6': \"Wilt Women's Color Blocked Big Mixed Slant Top\",\n",
    "    '7': \"Lucky Brand Women's Riad Tee\",\n",
    "    '8': \"Ella Moss Women's Stella Button Up Shirt\",\n",
    "    '9': \"Alternative Women's Alice Drop Shoulder V-Neck\",\n",
    "    '10': \"Calvin Klein Women's Plus-Size Print Drape Top\",\n",
    "    '4096': \"AX Paris Strapless Spot Print Orange Romper\",\n",
    "    '5120': \"Lee Women's Plus-Size Comfort Fit Straight Leg Pant\",\n",
    "    '7424': \"Allegra K Woman Plaid Elastic Waist Preppy Above Knee Skirt Gray Black S\",\n",
    "    '4352': \"Silver Jeans Juniors Suki Surplus Mid Rise Bootcut Jean\"\n",
    "}"
   ]
  },
  {
   "cell_type": "code",
   "execution_count": 63,
   "metadata": {
    "id": "Zfv3Rk1DQuwh"
   },
   "outputs": [
    {
     "name": "stdout",
     "output_type": "stream",
     "text": [
      "{'4096': [-1.7246695319570633, -20.72278509212223, 2.3831895504686433, 5.3884580428380495, -7.545703156368214, 7.634479703122454, 14.130944663462174, -11.503723876975153, -34.39137628792974, 12.416785510968488, -8.155770000020281, 17.38555821662685, -5.065516491245312, 10.443319071035324, -6.950566311380844, 40.07923489340987, -2.457685271855686, 7.300570563762064, 14.562233336316831, 8.525757316747892, 10.304958185494524, 5.092972602680185, -3.220341283763931, 14.153902846288615, -20.5037686591316, 20.871661936876365, -12.979899978738862, 1.4677672787289737, 1.6766151403476224, -9.470322204359196, 0.4707983058418256, 10.474067945983075, -3.265165691951264, 3.4034456375132423, -7.641588190874758, -1.9000485346260163, 20.947491456852756, -6.413497450041394, 27.364467886389484, -0.1939543498861222, -5.006831540845539, -24.776118561510227, -3.3484681013897277, -14.51328186488081, -8.212781058760418, 6.699628528356985, -11.749264602680283, 16.635968803154068, 12.079035017843294, -2.6106431234868133, 0.0, 0.0, 0.0, 0.0, 0.0, 0.0, 0.0, 0.0, 0.0, 0.0, 0.0, 0.0, 0.0, 0.0, 0.0, 0.0, 0.0, 0.0, 0.0, 0.0, 0.0, 0.0, 0.0, 0.0, 0.0, 0.0, 0.0, 0.0, 0.0, 0.0, 0.0, 0.0, 0.0, 0.0, 0.0, 0.0, 0.0, 0.0, 0.0, 0.0, 0.0, 0.0, 0.0, 0.0, 0.0, 0.0, 0.0, 0.0, 0.0, 0.0], '4352': [-5.772327741628762, -20.389276482798223, 20.0998311807402, 7.614269508630338, 0.7644814852459331, -2.0944848941328145, 8.718316010370172, -25.13178656397601, -19.331111343206302, 8.34275842480168, -8.348268401355666, 24.50784272811684, 9.714893259749545, -11.723603449577478, -1.015806507899079, 39.624783286169986, -5.479533738015989, 3.5400376634784028, 16.71257880029438, 22.671451755646626, 20.3925729548789, 5.9195149062175245, -0.9602147587794007, 20.832154151094638, -13.079768645466523, 11.37423552680367, -8.463861716649756, 1.7595780391169076, -14.002369724207387, -13.606107560504016, 5.686170366312969, -3.289548916667462, -5.195731771861854, 6.717998693896166, -16.833122052226962, 0.5357985107802773, 14.816826539517656, -0.4098389198769165, 12.327446940997946, -0.2885629846308807, -13.30193381202982, -12.287521468421522, -10.119835847083213, -6.875426234283442, -4.718420938343912, -0.731226906773442, 7.41780443900575, 16.39599565185918, 19.376701465322366, -5.0949824810823685, 0.0, 0.0, 0.0, 0.0, 0.0, 0.0, 0.0, 0.0, 0.0, 0.0, 0.0, 0.0, 0.0, 0.0, 0.0, 0.0, 0.0, 0.0, 0.0, 0.0, 0.0, 0.0, 0.0, 0.0, 0.0, 0.0, 0.0, 0.0, 0.0, 0.0, 0.0, 0.0, 0.0, 0.0, 0.0, 0.0, 0.0, 0.0, 0.0, 0.0, 0.0, 0.0, 0.0, 0.0, 0.0, 0.0, 0.0, 0.0, 0.0, 0.0], '5120': [-16.081237542875364, -17.31135492643335, -13.651084423117256, 15.45910536252875, -22.220358051221897, 14.194179147810162, 13.769376418532843, -10.106656718079233, -38.93067352100621, 4.149460615891997, 5.686015380867769, 24.128747803413873, -10.769381528619917, -3.282224772077369, 0.2608199031466375, 48.43584608338258, 0.48845062616005497, -10.286532782283357, 14.910940791397886, 11.542760678315894, 39.98513199415571, -6.203970666120892, -16.36507688606356, -10.370480973902689, -23.6013919348619, 10.803599085271287, -8.688528349064482, 15.759078974158363, -24.18921558013371, -16.505607799852548, 8.018176089459029, -7.916706394498679, 2.7846534679936035, -12.499771662285877, -5.085963986715715, -25.24452570539061, 20.23483829300806, 19.256415069058338, -1.312835739827066, 2.5043694554986917, -4.537562327071111, -30.933860253752528, -14.2537814245342, -10.90944641563434, -6.246374636202603, -9.019760712322336, -17.089690232546086, 14.004908891257307, 14.418560639201566, -1.29619967594798, 0.0, 0.0, 0.0, 0.0, 0.0, 0.0, 0.0, 0.0, 0.0, 0.0, 0.0, 0.0, 0.0, 0.0, 0.0, 0.0, 0.0, 0.0, 0.0, 0.0, 0.0, 0.0, 0.0, 0.0, 0.0, 0.0, 0.0, 0.0, 0.0, 0.0, 0.0, 0.0, 0.0, 0.0, 0.0, 0.0, 0.0, 0.0, 0.0, 0.0, 0.0, 0.0, 0.0, 0.0, 0.0, 0.0, 0.0, 0.0, 0.0, 0.0], '7424': [-0.985965294452149, -33.012987025100124, -7.659185015935516, 14.449346201205708, 2.879787600524666, -3.6497279102340383, 2.187847515262963, -1.76503170595094, -26.265706033986685, 15.632678823380083, 8.635697803041593, 46.70082713254139, -1.3678173830221692, -0.8111226431808318, 4.8542849637364425, 29.282041980480027, -18.51034715609927, -4.41912090004208, 4.441641559700525, 1.8881870640153382, 24.85890656989432, 12.173300898241957, -22.415206742308314, 12.310387530400268, -48.474067320572274, 18.551968670250563, -5.3479432092187285, -7.584025539986889, 6.321355736249361, -9.420251894524137, -0.4523434204896573, 0.06577267528325773, -3.9794707932094036, -3.320635543753127, -12.482096460253482, -11.237343213572112, 9.437959759025778, -5.466887785050876, -0.6179217134458199, -8.002691516723836, -2.8656640605403023, -20.2254368288289, -7.570925070054352, -10.100529827333915, -3.8930118792410306, -17.40453060069561, 8.135294076304657, 18.08644144302137, 22.151416061564003, -1.970151278652129, 0.0, 0.0, 0.0, 0.0, 0.0, 0.0, 0.0, 0.0, 0.0, 0.0, 0.0, 0.0, 0.0, 0.0, 0.0, 0.0, 0.0, 0.0, 0.0, 0.0, 0.0, 0.0, 0.0, 0.0, 0.0, 0.0, 0.0, 0.0, 0.0, 0.0, 0.0, 0.0, 0.0, 0.0, 0.0, 0.0, 0.0, 0.0, 0.0, 0.0, 0.0, 0.0, 0.0, 0.0, 0.0, 0.0, 0.0, 0.0, 0.0, 0.0]}\n"
     ]
    }
   ],
   "source": [
    "import numpy as np\n",
    "from sklearn.metrics.pairwise import cosine_similarity\n",
    "\n",
    "def process_results(results):\n",
    "    items = list(results['feature'].unique())\n",
    "    item_embeddings = dict()\n",
    "    for item in items:\n",
    "        emebedding = [0.0] * 100\n",
    "        embedding_pair = results[results['feature'] == item]\n",
    "        \n",
    "        for _, row in embedding_pair.iterrows():\n",
    "            factor_weights = list(row['factor_weights'])\n",
    "            for _, element in enumerate(factor_weights):\n",
    "                emebedding[element['factor'] - 1] += element['weight']\n",
    "\n",
    "        item_embeddings[item] = emebedding\n",
    "\n",
    "    return item_embeddings\n",
    "\n",
    "item_embeddings = process_results(product_embeddings)\n",
    "print(item_embeddings)"
   ]
  },
  {
   "cell_type": "code",
   "execution_count": 64,
   "metadata": {
    "id": "WdkYwCnRSTVe"
   },
   "outputs": [
    {
     "name": "stdout",
     "output_type": "stream",
     "text": [
      "AX Paris Strapless Spot Print Orange Romper\n",
      "==================\n",
      "- Silver Jeans Juniors Suki Surplus Mid Rise Bootcut Jean' = 0.77978\n",
      "- Lee Women's Plus-Size Comfort Fit Straight Leg Pant' = 0.69124\n",
      "- Allegra K Woman Plaid Elastic Waist Preppy Above Knee Skirt Gray Black S' = 0.68652\n",
      "\n",
      "Silver Jeans Juniors Suki Surplus Mid Rise Bootcut Jean\n",
      "==================\n",
      "- AX Paris Strapless Spot Print Orange Romper' = 0.77978\n",
      "- Allegra K Woman Plaid Elastic Waist Preppy Above Knee Skirt Gray Black S' = 0.67425\n",
      "- Lee Women's Plus-Size Comfort Fit Straight Leg Pant' = 0.63689\n",
      "\n",
      "Lee Women's Plus-Size Comfort Fit Straight Leg Pant\n",
      "==================\n",
      "- AX Paris Strapless Spot Print Orange Romper' = 0.69124\n",
      "- Allegra K Woman Plaid Elastic Waist Preppy Above Knee Skirt Gray Black S' = 0.66477\n",
      "- Silver Jeans Juniors Suki Surplus Mid Rise Bootcut Jean' = 0.63689\n",
      "\n"
     ]
    }
   ],
   "source": [
    "item_ids = list(item_embeddings.keys())\n",
    "for idx1 in range(0, len(item_ids) - 1):\n",
    "    item1_Id = item_ids[idx1]\n",
    "    title1 = products[item1_Id]\n",
    "    print(title1)\n",
    "    print(\"==================\")\n",
    "    embedding1 = np.array(item_embeddings[item1_Id])\n",
    "    similar_items = []\n",
    "    for idx2 in range(len(item_ids)):\n",
    "        item2_Id = item_ids[idx2]\n",
    "        title2 = products[item2_Id]\n",
    "        embedding2 = np.array(item_embeddings[item2_Id])\n",
    "        similarity = round(cosine_similarity([embedding1], [embedding2])[0][0], 5)\n",
    "        similar_items.append((title2, similarity))\n",
    "\n",
    "    similar_items = sorted(similar_items, key=lambda item: item[1], reverse=True)\n",
    "    for element in similar_items[1:]:\n",
    "        print(f\"- {element[0]}' = {element[1]}\")\n",
    "    print()"
   ]
  },
  {
   "cell_type": "markdown",
   "metadata": {
    "id": "GEpzwhG8f_cG"
   },
   "source": [
    "## License\n",
    "\n",
    "Copyright 2020 Google LLC\n",
    "\n",
    "Licensed under the Apache License, Version 2.0 (the \"License\");\n",
    "you may not use this file except in compliance with the License. You may obtain a copy of the License at: http://www.apache.org/licenses/LICENSE-2.0\n",
    "\n",
    "Unless required by applicable law or agreed to in writing, software distributed under the License is distributed on an \"AS IS\" BASIS, WITHOUT WARRANTIES OR CONDITIONS OF ANY KIND, either express or implied. \n",
    "\n",
    "See the License for the specific language governing permissions and limitations under the License.\n",
    "\n",
    "**This is not an official Google product but sample code provided for an educational purpose**"
   ]
  }
 ],
 "metadata": {
  "colab": {
   "collapsed_sections": [],
   "name": "01_train_bqml_mf_pmi.ipynb",
   "provenance": [],
   "toc_visible": true
  },
  "environment": {
   "name": "tf2-gpu.2-6.m79",
   "type": "gcloud",
   "uri": "gcr.io/deeplearning-platform-release/tf2-gpu.2-6:m79"
  },
  "kernelspec": {
   "display_name": "Python 3",
   "language": "python",
   "name": "python3"
  },
  "language_info": {
   "codemirror_mode": {
    "name": "ipython",
    "version": 3
   },
   "file_extension": ".py",
   "mimetype": "text/x-python",
   "name": "python",
   "nbconvert_exporter": "python",
   "pygments_lexer": "ipython3",
   "version": "3.7.10"
  }
 },
 "nbformat": 4,
 "nbformat_minor": 4
}
